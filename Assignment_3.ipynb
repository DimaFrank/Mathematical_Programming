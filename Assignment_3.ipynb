{
  "nbformat": 4,
  "nbformat_minor": 0,
  "metadata": {
    "colab": {
      "provenance": [],
      "authorship_tag": "ABX9TyMOWA+l1T54CVZz9gGyyZ3i",
      "include_colab_link": true
    },
    "kernelspec": {
      "name": "python3",
      "display_name": "Python 3"
    },
    "language_info": {
      "name": "python"
    }
  },
  "cells": [
    {
      "cell_type": "markdown",
      "metadata": {
        "id": "view-in-github",
        "colab_type": "text"
      },
      "source": [
        "<a href=\"https://colab.research.google.com/github/DimaFrank/Mathematical_Programming/blob/main/Assignment_3.ipynb\" target=\"_parent\"><img src=\"https://colab.research.google.com/assets/colab-badge.svg\" alt=\"Open In Colab\"/></a>"
      ]
    },
    {
      "cell_type": "code",
      "source": [
        "# pip install pymc3 "
      ],
      "metadata": {
        "id": "CjMhqna-Va8A"
      },
      "execution_count": null,
      "outputs": []
    },
    {
      "cell_type": "code",
      "source": [
        "import pymc3 as pm\n",
        "import numpy as np\n",
        "import matplotlib.pyplot as plt\n",
        "import seaborn as sns"
      ],
      "metadata": {
        "id": "haal3e6iWJQ2"
      },
      "execution_count": null,
      "outputs": []
    },
    {
      "cell_type": "markdown",
      "source": [
        "# Question 1"
      ],
      "metadata": {
        "id": "QRBLme7IuNch"
      }
    },
    {
      "cell_type": "markdown",
      "source": [
        "PCR tests for corona virus are considered quite accurate. Nevertheless, sometimes errors are happen(due to incorrect execution of the test or because something just going wrong.\n",
        "Assume that the results of different tests are independent.\n",
        "The chance that in testing an infected patient we will get a positive answer (positive true = TP) is denoted by p.\n",
        "The chance that in testing a healthy patient we will get a positive answer (positive false = FP) is denoted by q.\n",
        "The percentage of infected patients in the population will be denoted by s.\n",
        "The goal is to estimate s, p and q from data, using a Bayesian method of course.\n",
        "1. Grill data of 1000 people that came to be tested. Everyone gets infected with a chances: s=20%, p=95%, q=10%"
      ],
      "metadata": {
        "id": "bNsiypt0F9v1"
      }
    },
    {
      "cell_type": "markdown",
      "source": [
        "***Version 1***"
      ],
      "metadata": {
        "id": "J3DqrROUHdKP"
      }
    },
    {
      "cell_type": "code",
      "source": [
        "np.random.seed(123)\n",
        "\n",
        "# Define probability of getting sick and true positive\n",
        "s = 0.2\n",
        "p = 0.95\n",
        "q = 0.1\n",
        "\n",
        "# Define the sample data\n",
        "sick = np.random.binomial(n=1, p=s, size=1000)\n",
        "tp = np.random.binomial(n=1, p=p, size=1000)\n",
        "fp = np.random.binomial(n=1, p=q, size=1000)\n",
        "\n",
        "sample = np.where(sick==1, tp, fp)"
      ],
      "metadata": {
        "id": "kFtb2QwEaAAs"
      },
      "execution_count": null,
      "outputs": []
    },
    {
      "cell_type": "markdown",
      "source": [
        "***Version 2***"
      ],
      "metadata": {
        "id": "uL_KIIhxHi_h"
      }
    },
    {
      "cell_type": "markdown",
      "source": [
        "תחילה נגדיר הסתברויות\n",
        "\n",
        "p,q,s -ל\n",
        "\n",
        "נגריל אלף מספרים מהסתברות בינומית שמסמלים אלף איש שבאו לעשות בדיקה ונמצאו כחולים \n",
        "\n",
        "בקורונה עם הסתברות של 0.2\n",
        "\n",
        "הסתברות שקיימת באוכלוסיה על פי הנתון בשאלה\n",
        "\n",
        " אחרי זה נעבור איטרטיבית על המדגם שהגרלנו ונפעיל הסתברות לקבל \n",
        " true positive\n",
        " false positive\n",
        "\n",
        " אם בהגרלה קיבלנו תצפית עם ערך 1 (חולה) נפעיל עליו התברות בינומית שהבדיקה נכונה\n",
        "\n",
        " true psitive\n",
        " \n",
        " אם בהגרלה קיבלנו 0 (בריא) נפעל עליו הסתברות בינומית שהבדיקה שגויה\n",
        " \n",
        " false positive"
      ],
      "metadata": {
        "id": "90TBRvhOuDmR"
      }
    },
    {
      "cell_type": "code",
      "source": [
        "s = 0.2\n",
        "p = 0.95\n",
        "q = 0.1\n",
        "\n",
        "# Generate binary data indicating whether each person is infected (1) or not (0)\n",
        "infected = np.random.binomial(1, s, 1000)\n",
        "\n",
        "# Generate test results based on the probabilities p and q\n",
        "test_results = np.zeros(1000)\n",
        "for i in range(1000):\n",
        "    if infected[i] == 1:\n",
        "        test_results[i] = np.random.binomial(1, p)\n",
        "    else:\n",
        "        test_results[i] = np.random.binomial(1, q)"
      ],
      "metadata": {
        "id": "rCrKGFREHZAK"
      },
      "execution_count": null,
      "outputs": []
    },
    {
      "cell_type": "markdown",
      "source": [
        "Certainly. The last piece of code generates the sample data for 1000 people based on the probability of getting sick, true positive and false positive rates that are defined at the beginning.\n",
        "\n",
        "First, we set a seed for the random number generator using np.random.seed(123) to ensure that the same random numbers are generated each time the code is run.\n",
        "\n",
        "Then, we define the probability of getting sick and true positive rate (s = 0.2 and p = 0.95) and false positive rate (q = 0.1) as variables.\n",
        "\n",
        "Next, we use the np.random.binomial(n=1, p, size) function to generate the sample data. np.random.binomial(n=1, p, size) function generates a sample of binomially distributed random numbers with probability p and size number of items. In our case, we are generating binomial samples with probability s, p, and q and size 1000. n=1 means that each sample is a single trial, which is a simple way to represent binary outcomes.\n",
        "\n",
        "Then, we use np.where(condition, x, y) function to combine sick, tp, and fp arrays into one sample array. This function returns an array of elements from x where condition is True, and elements from y elsewhere. In our case, we are using sick array as a condition and tp array as x and fp as y. It means that for the people who are sick, we are returning the value from tp array and for the people who are not sick we are returning the value from fp array.\n",
        "\n",
        "In this way, we have generated the sample data based on the given parameters of getting sick, true positive and false positive rates."
      ],
      "metadata": {
        "id": "_lmwCuv4qdiv"
      }
    },
    {
      "cell_type": "markdown",
      "source": [
        "I used the binomial function to generate the sample data in this example because it is used to model a discrete random variable that counts the number of successful outcomes in a fixed number of trials. This is a good fit for our scenario because we are trying to model the number of true positives and false positives among a fixed number of test results.\n",
        "\n",
        "The binomial distribution is defined by two parameters, n and p, where n is the number of trials and p is the probability of success in each trial. In this case, n is 1, representing a single binary trial (positive or negative test result), and p is the probability of a true positive or false positive, as defined by the variables p and q.\n",
        "\n",
        "Additionally, the binomial distribution is a discrete probability distribution, which means that its possible values are integers. This is also appropriate for our scenario, as the number of true positives and false positives must be whole numbers.\n",
        "\n",
        "Overall, using the binomial function to generate the sample data allows us to model the number of true positives and false positives among a fixed number of test results, which aligns well with the problem we are trying to solve."
      ],
      "metadata": {
        "id": "FjpJrMVUwk4A"
      }
    },
    {
      "cell_type": "code",
      "source": [
        "sns.kdeplot(test_results).set(title='Density of test results')"
      ],
      "metadata": {
        "colab": {
          "base_uri": "https://localhost:8080/",
          "height": 298
        },
        "id": "A7DUNa0dc9M5",
        "outputId": "37526aa4-58f5-424d-fe07-528fdee33a49"
      },
      "execution_count": null,
      "outputs": [
        {
          "output_type": "execute_result",
          "data": {
            "text/plain": [
              "[Text(0.5, 1.0, 'Density of test results')]"
            ]
          },
          "metadata": {},
          "execution_count": 143
        },
        {
          "output_type": "display_data",
          "data": {
            "text/plain": [
              "<Figure size 432x288 with 1 Axes>"
            ],
            "image/png": "[encoded data removed]"
          },
          "metadata": {
            "needs_background": "light"
          }
        }
      ]
    },
    {
      "cell_type": "code",
      "source": [
        "sns.countplot(infected).set(title='Proportion of infected and non-infected before COVID-19 test')\n",
        "plt.show()"
      ],
      "metadata": {
        "colab": {
          "base_uri": "https://localhost:8080/",
          "height": 336
        },
        "id": "K13pJjDlx5Ie",
        "outputId": "aaebefeb-a1c9-4fd5-d888-be684341ded6"
      },
      "execution_count": null,
      "outputs": [
        {
          "output_type": "stream",
          "name": "stderr",
          "text": [
            "/usr/local/lib/python3.8/dist-packages/seaborn/_decorators.py:36: FutureWarning: Pass the following variable as a keyword arg: x. From version 0.12, the only valid positional argument will be `data`, and passing other arguments without an explicit keyword will result in an error or misinterpretation.\n",
            "  warnings.warn(\n"
          ]
        },
        {
          "output_type": "display_data",
          "data": {
            "text/plain": [
              "<Figure size 432x288 with 1 Axes>"
            ],
            "image/png": "[encoded data removed]"
          },
          "metadata": {
            "needs_background": "light"
          }
        }
      ]
    },
    {
      "cell_type": "code",
      "source": [
        "sns.countplot(test_results).set(title='Proportion of infected and non-infected after COVID-19 test')\n",
        "plt.show()"
      ],
      "metadata": {
        "colab": {
          "base_uri": "https://localhost:8080/",
          "height": 336
        },
        "id": "9_MZcI8utXep",
        "outputId": "2e5afa5e-2216-4c56-f2e0-58921d384893"
      },
      "execution_count": null,
      "outputs": [
        {
          "output_type": "stream",
          "name": "stderr",
          "text": [
            "/usr/local/lib/python3.8/dist-packages/seaborn/_decorators.py:36: FutureWarning: Pass the following variable as a keyword arg: x. From version 0.12, the only valid positional argument will be `data`, and passing other arguments without an explicit keyword will result in an error or misinterpretation.\n",
            "  warnings.warn(\n"
          ]
        },
        {
          "output_type": "display_data",
          "data": {
            "text/plain": [
              "<Figure size 432x288 with 1 Axes>"
            ],
            "image/png": "[encoded data removed]"
          },
          "metadata": {
            "needs_background": "light"
          }
        }
      ]
    },
    {
      "cell_type": "markdown",
      "source": [
        "# Question 2"
      ],
      "metadata": {
        "id": "p2KcninguR8e"
      }
    },
    {
      "cell_type": "markdown",
      "source": [
        "For the prior, assume that the distributions of the parameters are independent.\n",
        "There is no prior knowledge of s, so we will take s~U(0,1).\n",
        "For p and q we will take a biased prior:\n",
        "\n",
        "prior_of_q = lambda q: 2*(1-q) if 0<=q<=1 else 0 \n",
        "\n",
        "prior_of_p = lambda p: 2*p if 0<=p<=1 else 0 \n",
        "\n",
        "According to above, how the posterior function is looks like ?"
      ],
      "metadata": {
        "id": "1ZweDJTZKBET"
      }
    },
    {
      "cell_type": "code",
      "source": [
        "funct_q = lambda q: 2*(1-q) if 0<=q<=1 else 0 \n",
        "funct_p = lambda p: 2*p if 0<=p<=1 else 0 "
      ],
      "metadata": {
        "id": "TWP7Nbc3t6XF"
      },
      "execution_count": null,
      "outputs": []
    },
    {
      "cell_type": "markdown",
      "source": [
        "To find the posterior function, you will need to use Bayes' theorem, which states that the posterior probability is proportional to the product of the likelihood function and the prior probability.\n",
        "\n",
        "The likelihood function for our problem is the probability of getting a specific test result (i.e. true positive or false positive) given the values of the parameters s, p, and q. The likelihood function can be computed using the binomial distribution function.\n",
        "\n",
        "The prior probability is the probability of the parameters s, p, and q before any data is observed. As mentioned before, the prior for s is uniform over the interval (0,1), and for p,q is f(q) = lambda q: 2*(1-q) if 0<=q<=1 else 0 and f(p) = lambda p: 2*p if 0<=p<=1 else 0\n",
        "\n",
        "So the posterior function is proportional to the product of\n",
        "\n",
        "likelihood = binom.pmf(tp,tp+fp,p)*binom.pmf(fp,tp+fp,q)*binom.pmf(tn,tn+fn,1-p)*binom.pmf(fn,tn+fn,1-q)\n",
        "\n",
        "and\n",
        "\n",
        "prior = f(s)(s)*f(p)(p)*f(q)(q)\n",
        "\n",
        "Where f(s)(s), f(p)(p) and f(q)(q) are the prior for each parameter\n",
        "\n",
        "Then you can calculate the posterior by normalizing this function over the parameter space and plot it to visualize the distribution of the parameters.\n",
        "\n",
        "Note that this solution is based on the assumption that the test results are independent, which may not always be the case in practice. Additionally, the model assumes that the test is not affected by the population's immunity, which is a simplification."
      ],
      "metadata": {
        "id": "Ide3-mS63c2m"
      }
    },
    {
      "cell_type": "markdown",
      "source": [
        "P(s, p, q | tp, fp, fn, tn) = P(tp, fp, fn, tn | s, p, q) * P(s) * P(p) * P(q) / P(tp, fp, fn, tn)\n",
        "\n",
        "Where:\n",
        "\n",
        "P(s, p, q | tp, fp, fn, tn) is the posterior probability of the parameters (s, p, q) given the data (tp, fp, fn, tn)\n",
        "P(tp, fp, fn, tn | s, p, q) is the likelihood of the data (tp, fp, fn, tn) given the parameters (s, p, q)\n",
        "P(s) is the prior probability of the parameter s\n",
        "P(p) is the prior probability of the parameter p\n",
        "P(q) is the prior probability of the parameter q\n",
        "P(tp, fp, fn, tn) is the marginal likelihood of the data (tp, fp, fn, tn)\n",
        "With the given prior distributions for s, p, and q, the posterior function can be written as:\n",
        "\n",
        "P(s, p, q | tp, fp, fn, tn) = P(tp, fp, fn, tn | s, p, q) * U(s) * 2p * 2(1-q) / P(tp, fp, fn, tn)\n",
        "\n",
        "Where:\n",
        "\n",
        "U(s) is the uniform prior for s\n",
        "2p is the prior for p\n",
        "2(1-q) is the prior for q\n",
        "Note that P(tp, fp, fn, tn) is a normalizing constant and you can use numerical methods to calculate it or use a library like PyMC3 or PyStan to perform Bayesian inference on your data."
      ],
      "metadata": {
        "id": "n7M3tGW73gns"
      }
    },
    {
      "cell_type": "code",
      "source": [],
      "metadata": {
        "id": "4AZJoZt8IEhq"
      },
      "execution_count": null,
      "outputs": []
    },
    {
      "cell_type": "markdown",
      "source": [
        "# Question 3"
      ],
      "metadata": {
        "id": "tm8x6H83LTMN"
      }
    },
    {
      "cell_type": "code",
      "source": [
        "# posterior_of_s_p_q = (likelihood_of_test_results_given_s_p_q * prior_of_s * prior_of_p * prior_of_q) / evidence\n",
        "\n",
        "# likelihood_of_test_results_given_s_p_q = product_over_all_i { s * p^(test_result[i]==1) * (1-p)^(test_result[i]==0) + (1-s) * q^(test_result[i]==1) * (1-q)^(test_result[i]==0) }"
      ],
      "metadata": {
        "id": "Np9aJcoATy15"
      },
      "execution_count": null,
      "outputs": []
    },
    {
      "cell_type": "code",
      "source": [
        "import numpy as np\n",
        "from scipy.stats import uniform, bernoulli\n",
        "\n",
        "def posterior_of_s_p_q(test_results, parameters):\n",
        "    s=parameters[0]\n",
        "    p=parameters[1]\n",
        "    q=parameters[2]\n",
        "\n",
        "    likelihood = 1\n",
        "    for i in range(1000):\n",
        "        if test_results[i] == 1:\n",
        "            likelihood *= s * p + (1-s) * q\n",
        "        else:\n",
        "            likelihood *= (1-s) * (1-p) + s * (1-q)\n",
        "    \n",
        "    prior_s = uniform.pdf(s, 0, 1)\n",
        "    prior_p = 2 * p if 0 <= p <= 1 else 0\n",
        "    prior_q = 2 * (1-q) if 0 <= q <= 1 else 0\n",
        "    \n",
        "    return likelihood * prior_s * prior_p * prior_q"
      ],
      "metadata": {
        "id": "lRYLrgojLUe_"
      },
      "execution_count": null,
      "outputs": []
    },
    {
      "cell_type": "code",
      "source": [
        "posterior_of_s_p_q"
      ],
      "metadata": {
        "colab": {
          "base_uri": "https://localhost:8080/"
        },
        "id": "h3CYcUqmmKEK",
        "outputId": "d6359e95-057c-4cf3-f47b-46fda9e14fb2"
      },
      "execution_count": null,
      "outputs": [
        {
          "output_type": "execute_result",
          "data": {
            "text/plain": [
              "<function __main__.posterior_of_s_p_q(test_results, parameters)>"
            ]
          },
          "metadata": {},
          "execution_count": 78
        }
      ]
    },
    {
      "cell_type": "markdown",
      "source": [
        "**Using the MCMC method, create 10,000 independent samples from the posterior.**\n"
      ],
      "metadata": {
        "id": "G1V7NOjUfhDZ"
      }
    },
    {
      "cell_type": "markdown",
      "source": [
        "The Markov Chain Monte Carlo (MCMC) method is a popular way to sample from a high-dimensional posterior distribution. A common algorithm for MCMC is the Metropolis-Hastings algorithm, which works as follows:\n",
        "\n",
        "Choose a starting point in the parameter space and evaluate the posterior density at that point.\n",
        "\n",
        "Propose a new sample from a proposal distribution (for example, a normal distribution centered on the current sample).\n",
        "\n",
        "Calculate the acceptance probability based on the ratio of the posterior density at the proposed sample and the current sample.\n",
        "\n",
        "Accept the proposed sample as the next sample with probability equal to the acceptance probability, otherwise keep the current sample.\n",
        "\n",
        "Repeat steps 2-4 for a desired number of iterations to obtain a chain of samples from the posterior distribution.\n",
        "\n",
        "Here is an implementation of the Metropolis-Hastings algorithm in Python:"
      ],
      "metadata": {
        "id": "ojczZ8jvfox7"
      }
    },
    {
      "cell_type": "code",
      "source": [
        "import numpy as np\n",
        "import random\n",
        "\n",
        "def metropolis_hastings(posterior, current_sample, proposal_distribution, n_samples):\n",
        "    samples = []\n",
        "    for i in range(n_samples):\n",
        "        proposed_sample = proposal_distribution(current_sample)\n",
        "        acceptance_prob = min(1, (posterior(test_results,proposed_sample) / posterior(test_results,current_sample))) \n",
        "        if random.uniform(0, 1) < acceptance_prob:\n",
        "            current_sample = proposed_sample\n",
        "        samples.append(current_sample)\n",
        "    return np.array(samples)"
      ],
      "metadata": {
        "id": "q0KkDeXkU87S"
      },
      "execution_count": null,
      "outputs": []
    },
    {
      "cell_type": "markdown",
      "source": [
        "You can use this function to obtain 10,000 independent samples from the posterior by passing in the posterior function, an initial sample, a proposal distribution, and the number of samples to generate. For example:"
      ],
      "metadata": {
        "id": "-0LpbXVffvax"
      }
    },
    {
      "cell_type": "code",
      "source": [
        "# test_results = ... # The test results of 1000 people\n",
        "initial_sample = [0.5, 0.5, 0.5] # An initial guess for s, p, q\n",
        "proposal_distribution = lambda x: x + np.random.normal(0, 0.01, 3) # A normal distribution with a small standard deviation\n",
        "samples = metropolis_hastings(posterior_of_s_p_q, initial_sample, proposal_distribution, 10000)"
      ],
      "metadata": {
        "id": "M-uKLg6Nfs5f"
      },
      "execution_count": null,
      "outputs": []
    },
    {
      "cell_type": "markdown",
      "source": [
        "These samples can then be used for statistical analysis and inference about the parameters s, p, and q."
      ],
      "metadata": {
        "id": "5c67Lp3TfzbT"
      }
    },
    {
      "cell_type": "markdown",
      "source": [
        "# Question 4"
      ],
      "metadata": {
        "id": "thgAf-kvkN9e"
      }
    },
    {
      "cell_type": "markdown",
      "source": [
        "**Draw the one-dimensional and two-dimensional marginal distributions of the posterior.**"
      ],
      "metadata": {
        "id": "Q2sTtBSZkb_0"
      }
    },
    {
      "cell_type": "markdown",
      "source": [
        "Once you have generated the samples from the posterior distribution using MCMC, you can visualize the marginal distributions of the parameters s, p, and q using histograms and scatter plots.\n",
        "\n",
        "For the one-dimensional marginal distributions, you can create a histogram for each parameter by plotting a histogram of the samples for that parameter. Here is an example in Python using Matplotlib:"
      ],
      "metadata": {
        "id": "RM7JBu_IkQfu"
      }
    },
    {
      "cell_type": "code",
      "source": [
        "import matplotlib.pyplot as plt\n",
        "\n",
        "def plot_marginal_distribution(samples, index, ax=None):\n",
        "    if ax is None:\n",
        "        fig, ax = plt.subplots()\n",
        "    ax.hist(samples[:, index], bins=10, density=True)\n",
        "    ax.set_xlabel('Parameter Value')\n",
        "    ax.set_ylabel('Density')\n",
        "\n",
        "fig, (ax1, ax2, ax3) = plt.subplots(1, 3, figsize=(15, 5))\n",
        "plot_marginal_distribution(samples, 0, ax=ax1)\n",
        "plot_marginal_distribution(samples, 1, ax=ax2)\n",
        "plot_marginal_distribution(samples, 2, ax=ax3)\n",
        "plt.tight_layout()\n",
        "plt.show()"
      ],
      "metadata": {
        "id": "gMC_fXe5f26n",
        "colab": {
          "base_uri": "https://localhost:8080/",
          "height": 369
        },
        "outputId": "3f8804de-76ed-41ef-d6e5-3d0d3e886f61"
      },
      "execution_count": null,
      "outputs": [
        {
          "output_type": "display_data",
          "data": {
            "text/plain": [
              "<Figure size 1080x360 with 3 Axes>"
            ],
            "image/png": "[encoded data removed]"
          },
          "metadata": {
            "needs_background": "light"
          }
        }
      ]
    },
    {
      "cell_type": "markdown",
      "source": [
        "For the two-dimensional marginal distributions, you can create a scatter plot for each pair of parameters by plotting the samples for one parameter on the x-axis and the samples for the other parameter on the y-axis. Here is an example in Python using Seaborn:"
      ],
      "metadata": {
        "id": "SPVDDv4_kU6V"
      }
    },
    {
      "cell_type": "code",
      "source": [
        "import seaborn as sns\n",
        "\n",
        "def plot_marginal_scatter(samples, index1, index2, ax=None):\n",
        "    if ax is None:\n",
        "        fig, ax = plt.subplots()\n",
        "    sns.jointplot(x=samples[:, index1], y=samples[:, index2], kind='scatter', ax=ax)\n",
        "\n",
        "fig, (ax1, ax2, ax3) = plt.subplots(1, 3, figsize=(15, 5))\n",
        "plot_marginal_scatter(samples, 0, 1, ax=ax1)\n",
        "plot_marginal_scatter(samples, 0, 2, ax=ax2)\n",
        "plot_marginal_scatter(samples, 1, 2, ax=ax3)\n",
        "plt.tight_layout()\n",
        "plt.show()"
      ],
      "metadata": {
        "id": "I71sSkN1kXnm",
        "colab": {
          "base_uri": "https://localhost:8080/",
          "height": 1000
        },
        "outputId": "75be6569-6e4a-43e2-f62d-f4aeab5a10f2"
      },
      "execution_count": null,
      "outputs": [
        {
          "output_type": "display_data",
          "data": {
            "text/plain": [
              "<Figure size 1080x360 with 3 Axes>"
            ],
            "image/png": "[encoded data removed]"
          },
          "metadata": {
            "needs_background": "light"
          }
        },
        {
          "output_type": "display_data",
          "data": {
            "text/plain": [
              "<Figure size 432x432 with 3 Axes>"
            ],
            "image/png": "[encoded data removed]"
          },
          "metadata": {
            "needs_background": "light"
          }
        },
        {
          "output_type": "display_data",
          "data": {
            "text/plain": [
              "<Figure size 432x432 with 3 Axes>"
            ],
            "image/png": "[encoded data removed]"
          },
          "metadata": {
            "needs_background": "light"
          }
        },
        {
          "output_type": "display_data",
          "data": {
            "text/plain": [
              "<Figure size 432x432 with 3 Axes>"
            ],
            "image/png": "[encoded data removed]"
          },
          "metadata": {
            "needs_background": "light"
          }
        }
      ]
    },
    {
      "cell_type": "markdown",
      "source": [
        "These plots can give you a sense of the shape and uncertainty of the marginal distributions of each parameter."
      ],
      "metadata": {
        "id": "eay7B0whkgpi"
      }
    },
    {
      "cell_type": "markdown",
      "source": [
        "# Question 5"
      ],
      "metadata": {
        "id": "VB41ZhjGkre5"
      }
    },
    {
      "cell_type": "markdown",
      "source": [
        "**Find the maximum (in three dimensions), average and median**"
      ],
      "metadata": {
        "id": "XqlsUrSekuwj"
      }
    },
    {
      "cell_type": "markdown",
      "source": [
        "Once you have generated the samples from the posterior distribution using MCMC, you can calculate the maximum, average, and median of the parameters s, p, and q.\n",
        "\n",
        "The maximum can be found by taking the maximum value of each parameter across the samples. Here is an example in Python:"
      ],
      "metadata": {
        "id": "MQWPYMWVk6TY"
      }
    },
    {
      "cell_type": "code",
      "source": [
        "max_s = max(samples[:, 0])\n",
        "max_p = max(samples[:, 1])\n",
        "max_q = max(samples[:, 2])"
      ],
      "metadata": {
        "id": "Ud863O9VkhEm"
      },
      "execution_count": null,
      "outputs": []
    },
    {
      "cell_type": "code",
      "source": [
        "samples[:, 0]"
      ],
      "metadata": {
        "colab": {
          "base_uri": "https://localhost:8080/"
        },
        "id": "5tDCF7ZEKBZu",
        "outputId": "985630d5-90b8-4984-c2cf-0ac1dd78952e"
      },
      "execution_count": null,
      "outputs": [
        {
          "output_type": "execute_result",
          "data": {
            "text/plain": [
              "array([0.50066824, 0.50066824, 0.50066824, ..., 0.99959256, 0.99959256,\n",
              "       0.99959256])"
            ]
          },
          "metadata": {},
          "execution_count": 139
        }
      ]
    },
    {
      "cell_type": "code",
      "source": [
        "print(max_s)\n",
        "print(max_p)\n",
        "print(max_q)"
      ],
      "metadata": {
        "colab": {
          "base_uri": "https://localhost:8080/"
        },
        "id": "lJ1yYJdCI6Gq",
        "outputId": "11979b91-bdc5-4631-b329-9ebf7f2722c7"
      },
      "execution_count": null,
      "outputs": [
        {
          "output_type": "stream",
          "name": "stdout",
          "text": [
            "0.9999470393563455\n",
            "0.9998398300655278\n",
            "0.4849099808752938\n"
          ]
        }
      ]
    },
    {
      "cell_type": "markdown",
      "source": [
        "The average can be found by taking the mean of each parameter across the samples. Here is an example in Python:"
      ],
      "metadata": {
        "id": "IRc-GiAnk_Tb"
      }
    },
    {
      "cell_type": "code",
      "source": [
        "mean_s = samples[:, 0].mean()\n",
        "mean_p = samples[:, 1].mean()\n",
        "mean_q = samples[:, 2].mean()"
      ],
      "metadata": {
        "id": "GH0yPGBjk9Vy"
      },
      "execution_count": null,
      "outputs": []
    },
    {
      "cell_type": "markdown",
      "source": [
        "The median can be found by taking the median of each parameter across the samples. Here is an example in Python:"
      ],
      "metadata": {
        "id": "veEEIWuWlB9O"
      }
    },
    {
      "cell_type": "code",
      "source": [
        "median_s = np.median(samples[:, 0])\n",
        "median_p = np.median(samples[:, 1])\n",
        "median_q = np.median(samples[:, 2])"
      ],
      "metadata": {
        "id": "VCr2luwDlDgB"
      },
      "execution_count": null,
      "outputs": []
    },
    {
      "cell_type": "markdown",
      "source": [
        "These values can give you a sense of the most likely values and the spread of the parameters in the posterior distribution."
      ],
      "metadata": {
        "id": "jhQoGRbklFUX"
      }
    },
    {
      "cell_type": "code",
      "source": [],
      "metadata": {
        "id": "rHKcA_wdlGxW"
      },
      "execution_count": null,
      "outputs": []
    },
    {
      "cell_type": "markdown",
      "source": [
        "# Question 6"
      ],
      "metadata": {
        "id": "u5oJpk_YlmIe"
      }
    },
    {
      "cell_type": "markdown",
      "source": [
        "**For each parameter, find the smallest area in which the parameter is found with a 90% chance.**"
      ],
      "metadata": {
        "id": "ryOMj5e-lslv"
      }
    },
    {
      "cell_type": "markdown",
      "source": [
        "The smallest domain in which the parameter lies with a 90% chance, or the 90% credible interval, can be found by calculating the lower and upper bounds of the intervals such that 90% of the samples fall within these bounds.\n",
        "\n",
        "In Python, you can calculate the credible interval for each parameter using the numpy.percentile function:"
      ],
      "metadata": {
        "id": "qSUG9ZTJlsqk"
      }
    },
    {
      "cell_type": "code",
      "source": [
        "lower_bound_s = np.percentile(samples[:, 0], 5)\n",
        "upper_bound_s = np.percentile(samples[:, 0], 95)\n",
        "\n",
        "lower_bound_p = np.percentile(samples[:, 1], 5)\n",
        "upper_bound_p = np.percentile(samples[:, 1], 95)\n",
        "\n",
        "lower_bound_q = np.percentile(samples[:, 2], 5)\n",
        "upper_bound_q = np.percentile(samples[:, 2], 95)"
      ],
      "metadata": {
        "id": "ltczWrRblsGu"
      },
      "execution_count": null,
      "outputs": []
    },
    {
      "cell_type": "markdown",
      "source": [
        "The values of lower_bound_s, upper_bound_s, lower_bound_p, upper_bound_p, lower_bound_q, and upper_bound_q give you the lower and upper bounds of the 90% credible interval for each parameter."
      ],
      "metadata": {
        "id": "eI3bfn8omA9n"
      }
    },
    {
      "cell_type": "code",
      "source": [
        "lower_bound_q"
      ],
      "metadata": {
        "id": "f9fo5uvTmBZf",
        "colab": {
          "base_uri": "https://localhost:8080/"
        },
        "outputId": "895d5fab-8481-421e-cfd2-a8a8e705d48f"
      },
      "execution_count": null,
      "outputs": [
        {
          "output_type": "execute_result",
          "data": {
            "text/plain": [
              "0.7159646756872154"
            ]
          },
          "metadata": {},
          "execution_count": 174
        }
      ]
    },
    {
      "cell_type": "code",
      "source": [
        "upper_bound_q"
      ],
      "metadata": {
        "colab": {
          "base_uri": "https://localhost:8080/"
        },
        "id": "lW5yMOLsyR1z",
        "outputId": "6f1bb574-c347-4b86-e7ef-bd4f7517c6bc"
      },
      "execution_count": null,
      "outputs": [
        {
          "output_type": "execute_result",
          "data": {
            "text/plain": [
              "0.0037220045518140173"
            ]
          },
          "metadata": {},
          "execution_count": 175
        }
      ]
    },
    {
      "cell_type": "code",
      "source": [
        "plt.figure(figsize=(10, 8), dpi=80)\n",
        "plt.plot(samples)\n",
        "plt.legend([\"p\", \"q\", \"s\"], loc =\"center right\")\n",
        "plt.title('Distribution of parameters p,q and s')\n",
        "plt.xlabel('Frequency of parameter')\n",
        "plt.ylabel('Hight of parameter')\n",
        "plt.show()"
      ],
      "metadata": {
        "colab": {
          "base_uri": "https://localhost:8080/",
          "height": 565
        },
        "id": "8W_Ds739yUMb",
        "outputId": "9eb60a90-4a50-4fbc-d7ab-006a906023ba"
      },
      "execution_count": null,
      "outputs": [
        {
          "output_type": "display_data",
          "data": {
            "text/plain": [
              "<Figure size 800x640 with 1 Axes>"
            ],
            "image/png": "[encoded data removed]"
          },
          "metadata": {
            "needs_background": "light"
          }
        }
      ]
    },
    {
      "cell_type": "code",
      "source": [
        "samples[50:100]"
      ],
      "metadata": {
        "colab": {
          "base_uri": "https://localhost:8080/"
        },
        "id": "KZrU-s-rzzLD",
        "outputId": "8c660514-8761-46f2-c7ea-6caf88601b66"
      },
      "execution_count": null,
      "outputs": [
        {
          "output_type": "execute_result",
          "data": {
            "text/plain": [
              "array([[0.4978307 , 0.39761241, 0.32914559],\n",
              "       [0.4978307 , 0.39761241, 0.32914559],\n",
              "       [0.4978307 , 0.39761241, 0.32914559],\n",
              "       [0.4978307 , 0.39761241, 0.32914559],\n",
              "       [0.4978307 , 0.39761241, 0.32914559],\n",
              "       [0.4978307 , 0.39761241, 0.32914559],\n",
              "       [0.4978307 , 0.39761241, 0.32914559],\n",
              "       [0.50687627, 0.39707994, 0.3263094 ],\n",
              "       [0.50687627, 0.39707994, 0.3263094 ],\n",
              "       [0.50687627, 0.39707994, 0.3263094 ],\n",
              "       [0.50687627, 0.39707994, 0.3263094 ],\n",
              "       [0.5067293 , 0.40169942, 0.31254889],\n",
              "       [0.5067293 , 0.40169942, 0.31254889],\n",
              "       [0.5067293 , 0.40169942, 0.31254889],\n",
              "       [0.50002193, 0.38873113, 0.29982902],\n",
              "       [0.50694541, 0.39379233, 0.2923738 ],\n",
              "       [0.5078464 , 0.39603804, 0.28958605],\n",
              "       [0.50874472, 0.39574979, 0.26408895],\n",
              "       [0.50874472, 0.39574979, 0.26408895],\n",
              "       [0.50324437, 0.39027732, 0.25345083],\n",
              "       [0.51103207, 0.39766418, 0.25896431],\n",
              "       [0.51291133, 0.40865674, 0.24260751],\n",
              "       [0.51063276, 0.39848398, 0.21718584],\n",
              "       [0.51063276, 0.39848398, 0.21718584],\n",
              "       [0.51400498, 0.40683174, 0.20169137],\n",
              "       [0.51400498, 0.40683174, 0.20169137],\n",
              "       [0.51400498, 0.40683174, 0.20169137],\n",
              "       [0.53207279, 0.42469287, 0.19356808],\n",
              "       [0.53197921, 0.44518414, 0.18710876],\n",
              "       [0.53197921, 0.44518414, 0.18710876],\n",
              "       [0.52744356, 0.43450378, 0.17948871],\n",
              "       [0.5354986 , 0.43261288, 0.17800588],\n",
              "       [0.5354986 , 0.43261288, 0.17800588],\n",
              "       [0.53200186, 0.42702371, 0.17308091],\n",
              "       [0.53147296, 0.42266455, 0.16632829],\n",
              "       [0.53147296, 0.42266455, 0.16632829],\n",
              "       [0.53147296, 0.42266455, 0.16632829],\n",
              "       [0.54231693, 0.42327864, 0.16053059],\n",
              "       [0.54231693, 0.42327864, 0.16053059],\n",
              "       [0.54382014, 0.42695696, 0.15311728],\n",
              "       [0.54382014, 0.42695696, 0.15311728],\n",
              "       [0.55899428, 0.41900474, 0.14471399],\n",
              "       [0.55899428, 0.41900474, 0.14471399],\n",
              "       [0.5711293 , 0.41718086, 0.13575699],\n",
              "       [0.57338067, 0.41165868, 0.13713234],\n",
              "       [0.57338067, 0.41165868, 0.13713234],\n",
              "       [0.57338067, 0.41165868, 0.13713234],\n",
              "       [0.57338067, 0.41165868, 0.13713234],\n",
              "       [0.57338067, 0.41165868, 0.13713234],\n",
              "       [0.57380029, 0.42166323, 0.11745588]])"
            ]
          },
          "metadata": {},
          "execution_count": 172
        }
      ]
    },
    {
      "cell_type": "code",
      "source": [],
      "metadata": {
        "id": "XVOFVMtvz7fs"
      },
      "execution_count": null,
      "outputs": []
    }
  ]
}