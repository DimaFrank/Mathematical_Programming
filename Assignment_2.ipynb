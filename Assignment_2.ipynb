{
  "nbformat": 4,
  "nbformat_minor": 0,
  "metadata": {
    "colab": {
      "provenance": [],
      "collapsed_sections": [
        "_3ZTGmUKd5_A"
      ],
      "authorship_tag": "ABX9TyPHjZlD86fB96RZ13ScFPyS",
      "include_colab_link": true
    },
    "kernelspec": {
      "name": "python3",
      "display_name": "Python 3"
    },
    "language_info": {
      "name": "python"
    }
  },
  "cells": [
    {
      "cell_type": "markdown",
      "metadata": {
        "id": "view-in-github",
        "colab_type": "text"
      },
      "source": [
        "<a href=\"https://colab.research.google.com/github/DimaFrank/Mathematical_Programming/blob/main/Assignment_2.ipynb\" target=\"_parent\"><img src=\"https://colab.research.google.com/assets/colab-badge.svg\" alt=\"Open In Colab\"/></a>"
      ]
    },
    {
      "cell_type": "markdown",
      "source": [
        "Student Name: Dima Frank\n",
        "\n",
        "Student Id: 327314308"
      ],
      "metadata": {
        "id": "dTw_Z_7XdddU"
      }
    },
    {
      "cell_type": "markdown",
      "source": [
        "### About the data."
      ],
      "metadata": {
        "id": "Yvd1sv6ZH7Po"
      }
    },
    {
      "cell_type": "markdown",
      "source": [
        "*For this task I will use the data of earthquakes in Italy between 2016-08-24 and 2016-11-30.*\n",
        "\n",
        "*The data is taken from kaggle:*\n",
        "\n",
        "https://www.kaggle.com/datasets/blackecho/italy-earthquakes\n",
        "\n",
        "\n",
        "*As it's know that the magnitude of earthquakes is power-law distributed relative to their frequency.*\n",
        "\n",
        "*Or we can also say that the frequency of earthquakes varies inversely with their intensity.* \n",
        "\n",
        "\n",
        "**Meta data:**\n",
        "\n",
        "The dataset contains events from 2016-08-24 to 2016-11-30. It's a single .csv file with the following header:\n",
        "\n",
        "Time,Latitude,Longitude,Depth/Km,Magnitude\n",
        "The dataset contains 8087 rows (8086 of data + 1 of header)\n"
      ],
      "metadata": {
        "id": "hXIDLWNMaqRT"
      }
    },
    {
      "cell_type": "markdown",
      "source": [
        "### Get data."
      ],
      "metadata": {
        "id": "_3ZTGmUKd5_A"
      }
    },
    {
      "cell_type": "code",
      "source": [
        "import os\n",
        "from google.colab import drive\n",
        "drive.mount('/content/drive')\n",
        "!wget --quiet --show-progress https://drive.google.com/drive/u/0/folders/1zKTXVP8ncsRRXgtFxA6MvL-lWirAoc6a"
      ],
      "metadata": {
        "colab": {
          "base_uri": "https://localhost:8080/"
        },
        "id": "29A1D7CgTpQ2",
        "outputId": "90547ccf-b3d7-4808-d250-f00e1cfe1a79"
      },
      "execution_count": 1,
      "outputs": [
        {
          "output_type": "stream",
          "name": "stdout",
          "text": [
            "Mounted at /content/drive\n"
          ]
        }
      ]
    },
    {
      "cell_type": "code",
      "source": [
        "!ls /content/drive/MyDrive/ColabDatasets/"
      ],
      "metadata": {
        "colab": {
          "base_uri": "https://localhost:8080/"
        },
        "id": "v9rkiOHQUpY0",
        "outputId": "e5b570c6-a1a8-40f8-b883-f0b483fcc1e9"
      },
      "execution_count": 2,
      "outputs": [
        {
          "output_type": "stream",
          "name": "stdout",
          "text": [
            "Italy_Earthquakes\t\t Retail_Store_Sales_Transactions.zip\n",
            "ItalyEarthquakes.zip\t\t rts22_test.csv\n",
            "Retail_Store_Sales_Transactions  user-ct-test-collection-01.txt.gz\n"
          ]
        }
      ]
    },
    {
      "cell_type": "code",
      "source": [
        "!unzip /content/drive/MyDrive/ColabDatasets/ItalyEarthquakes.zip -d /content/drive/MyDrive/ColabDatasets/Italy_Earthquakes/  "
      ],
      "metadata": {
        "id": "D9-UGaknUyNc",
        "outputId": "6bcc9983-c540-4846-971c-0332b327106f",
        "colab": {
          "base_uri": "https://localhost:8080/"
        }
      },
      "execution_count": null,
      "outputs": [
        {
          "output_type": "stream",
          "name": "stdout",
          "text": [
            "Archive:  /content/drive/MyDrive/ColabDatasets/ItalyEarthquakes.zip\n",
            "replace /content/drive/MyDrive/ColabDatasets/Italy_Earthquakes/italy_earthquakes_from_2016-08-24_to_2016-11-30.csv? [y]es, [n]o, [A]ll, [N]one, [r]ename: n\n"
          ]
        }
      ]
    },
    {
      "cell_type": "markdown",
      "source": [
        "### Exploring the data."
      ],
      "metadata": {
        "id": "L_S8vqVgeWDL"
      }
    },
    {
      "cell_type": "code",
      "execution_count": 3,
      "metadata": {
        "id": "TB-Ig3SvTiU3"
      },
      "outputs": [],
      "source": [
        "import numpy as np\n",
        "import pandas as pd\n",
        "import matplotlib.pyplot as plt\n",
        "from matplotlib.pyplot import figure\n",
        "import seaborn as sns\n",
        "from sklearn.linear_model import LinearRegression"
      ]
    },
    {
      "cell_type": "code",
      "source": [
        "df = pd.read_csv(\"/content/drive/MyDrive/ColabDatasets/Italy_Earthquakes/italy_earthquakes_from_2016-08-24_to_2016-11-30.csv\")\n",
        "df.shape"
      ],
      "metadata": {
        "colab": {
          "base_uri": "https://localhost:8080/"
        },
        "id": "m7nfOB8KU7ls",
        "outputId": "b0a79d13-a9bc-4b19-e95a-4d8bb2ac9f04"
      },
      "execution_count": 4,
      "outputs": [
        {
          "output_type": "execute_result",
          "data": {
            "text/plain": [
              "(8086, 5)"
            ]
          },
          "metadata": {},
          "execution_count": 4
        }
      ]
    },
    {
      "cell_type": "code",
      "source": [
        "df.head(5)"
      ],
      "metadata": {
        "colab": {
          "base_uri": "https://localhost:8080/",
          "height": 206
        },
        "id": "83hMxXQVVJDj",
        "outputId": "6d87fd73-d96d-4d44-dea1-2cbb2a402a52"
      },
      "execution_count": 5,
      "outputs": [
        {
          "output_type": "execute_result",
          "data": {
            "text/plain": [
              "                      Time  Latitude  Longitude  Depth/Km  Magnitude\n",
              "0  2016-08-24 03:36:32.000   42.6983    13.2335       8.1        6.0\n",
              "1  2016-08-24 03:37:26.580   42.7123    13.2533       9.0        4.5\n",
              "2  2016-08-24 03:40:46.590   42.7647    13.1723       9.7        3.8\n",
              "3  2016-08-24 03:41:38.900   42.7803    13.1683       9.7        3.9\n",
              "4  2016-08-24 03:42:07.170   42.7798    13.1575       9.7        3.6"
            ],
            "text/html": [
              "\n",
              "  <div id=\"df-523c60bf-ab0c-4221-befa-8339294b8b59\">\n",
              "    <div class=\"colab-df-container\">\n",
              "      <div>\n",
              "<style scoped>\n",
              "    .dataframe tbody tr th:only-of-type {\n",
              "        vertical-align: middle;\n",
              "    }\n",
              "\n",
              "    .dataframe tbody tr th {\n",
              "        vertical-align: top;\n",
              "    }\n",
              "\n",
              "    .dataframe thead th {\n",
              "        text-align: right;\n",
              "    }\n",
              "</style>\n",
              "<table border=\"1\" class=\"dataframe\">\n",
              "  <thead>\n",
              "    <tr style=\"text-align: right;\">\n",
              "      <th></th>\n",
              "      <th>Time</th>\n",
              "      <th>Latitude</th>\n",
              "      <th>Longitude</th>\n",
              "      <th>Depth/Km</th>\n",
              "      <th>Magnitude</th>\n",
              "    </tr>\n",
              "  </thead>\n",
              "  <tbody>\n",
              "    <tr>\n",
              "      <th>0</th>\n",
              "      <td>2016-08-24 03:36:32.000</td>\n",
              "      <td>42.6983</td>\n",
              "      <td>13.2335</td>\n",
              "      <td>8.1</td>\n",
              "      <td>6.0</td>\n",
              "    </tr>\n",
              "    <tr>\n",
              "      <th>1</th>\n",
              "      <td>2016-08-24 03:37:26.580</td>\n",
              "      <td>42.7123</td>\n",
              "      <td>13.2533</td>\n",
              "      <td>9.0</td>\n",
              "      <td>4.5</td>\n",
              "    </tr>\n",
              "    <tr>\n",
              "      <th>2</th>\n",
              "      <td>2016-08-24 03:40:46.590</td>\n",
              "      <td>42.7647</td>\n",
              "      <td>13.1723</td>\n",
              "      <td>9.7</td>\n",
              "      <td>3.8</td>\n",
              "    </tr>\n",
              "    <tr>\n",
              "      <th>3</th>\n",
              "      <td>2016-08-24 03:41:38.900</td>\n",
              "      <td>42.7803</td>\n",
              "      <td>13.1683</td>\n",
              "      <td>9.7</td>\n",
              "      <td>3.9</td>\n",
              "    </tr>\n",
              "    <tr>\n",
              "      <th>4</th>\n",
              "      <td>2016-08-24 03:42:07.170</td>\n",
              "      <td>42.7798</td>\n",
              "      <td>13.1575</td>\n",
              "      <td>9.7</td>\n",
              "      <td>3.6</td>\n",
              "    </tr>\n",
              "  </tbody>\n",
              "</table>\n",
              "</div>\n",
              "      <button class=\"colab-df-convert\" onclick=\"convertToInteractive('df-523c60bf-ab0c-4221-befa-8339294b8b59')\"\n",
              "              title=\"Convert this dataframe to an interactive table.\"\n",
              "              style=\"display:none;\">\n",
              "        \n",
              "  <svg xmlns=\"http://www.w3.org/2000/svg\" height=\"24px\"viewBox=\"0 0 24 24\"\n",
              "       width=\"24px\">\n",
              "    <path d=\"M0 0h24v24H0V0z\" fill=\"none\"/>\n",
              "    <path d=\"M18.56 5.44l.94 2.06.94-2.06 2.06-.94-2.06-.94-.94-2.06-.94 2.06-2.06.94zm-11 1L8.5 8.5l.94-2.06 2.06-.94-2.06-.94L8.5 2.5l-.94 2.06-2.06.94zm10 10l.94 2.06.94-2.06 2.06-.94-2.06-.94-.94-2.06-.94 2.06-2.06.94z\"/><path d=\"M17.41 7.96l-1.37-1.37c-.4-.4-.92-.59-1.43-.59-.52 0-1.04.2-1.43.59L10.3 9.45l-7.72 7.72c-.78.78-.78 2.05 0 2.83L4 21.41c.39.39.9.59 1.41.59.51 0 1.02-.2 1.41-.59l7.78-7.78 2.81-2.81c.8-.78.8-2.07 0-2.86zM5.41 20L4 18.59l7.72-7.72 1.47 1.35L5.41 20z\"/>\n",
              "  </svg>\n",
              "      </button>\n",
              "      \n",
              "  <style>\n",
              "    .colab-df-container {\n",
              "      display:flex;\n",
              "      flex-wrap:wrap;\n",
              "      gap: 12px;\n",
              "    }\n",
              "\n",
              "    .colab-df-convert {\n",
              "      background-color: #E8F0FE;\n",
              "      border: none;\n",
              "      border-radius: 50%;\n",
              "      cursor: pointer;\n",
              "      display: none;\n",
              "      fill: #1967D2;\n",
              "      height: 32px;\n",
              "      padding: 0 0 0 0;\n",
              "      width: 32px;\n",
              "    }\n",
              "\n",
              "    .colab-df-convert:hover {\n",
              "      background-color: #E2EBFA;\n",
              "      box-shadow: 0px 1px 2px rgba(60, 64, 67, 0.3), 0px 1px 3px 1px rgba(60, 64, 67, 0.15);\n",
              "      fill: #174EA6;\n",
              "    }\n",
              "\n",
              "    [theme=dark] .colab-df-convert {\n",
              "      background-color: #3B4455;\n",
              "      fill: #D2E3FC;\n",
              "    }\n",
              "\n",
              "    [theme=dark] .colab-df-convert:hover {\n",
              "      background-color: #434B5C;\n",
              "      box-shadow: 0px 1px 3px 1px rgba(0, 0, 0, 0.15);\n",
              "      filter: drop-shadow(0px 1px 2px rgba(0, 0, 0, 0.3));\n",
              "      fill: #FFFFFF;\n",
              "    }\n",
              "  </style>\n",
              "\n",
              "      <script>\n",
              "        const buttonEl =\n",
              "          document.querySelector('#df-523c60bf-ab0c-4221-befa-8339294b8b59 button.colab-df-convert');\n",
              "        buttonEl.style.display =\n",
              "          google.colab.kernel.accessAllowed ? 'block' : 'none';\n",
              "\n",
              "        async function convertToInteractive(key) {\n",
              "          const element = document.querySelector('#df-523c60bf-ab0c-4221-befa-8339294b8b59');\n",
              "          const dataTable =\n",
              "            await google.colab.kernel.invokeFunction('convertToInteractive',\n",
              "                                                     [key], {});\n",
              "          if (!dataTable) return;\n",
              "\n",
              "          const docLinkHtml = 'Like what you see? Visit the ' +\n",
              "            '<a target=\"_blank\" href=https://colab.research.google.com/notebooks/data_table.ipynb>data table notebook</a>'\n",
              "            + ' to learn more about interactive tables.';\n",
              "          element.innerHTML = '';\n",
              "          dataTable['output_type'] = 'display_data';\n",
              "          await google.colab.output.renderOutput(dataTable, element);\n",
              "          const docLink = document.createElement('div');\n",
              "          docLink.innerHTML = docLinkHtml;\n",
              "          element.appendChild(docLink);\n",
              "        }\n",
              "      </script>\n",
              "    </div>\n",
              "  </div>\n",
              "  "
            ]
          },
          "metadata": {},
          "execution_count": 5
        }
      ]
    },
    {
      "cell_type": "markdown",
      "source": [
        "***.תחילה נראה את ההתפגות של הנתונים על-ידי היסטוגרמה***\n",
        "\n",
        "\n",
        "***.ניתן לראות שהעוצמה של רעידות אדמה ביחס לחשכיחותם מתפלגת דומה לחוק חזקה***\n",
        "\n",
        "***לפחות 80 אחוז מהמדידות נמצאות מתחת ל-3 בסולם ריכטר ורק בערך 20 אחוז נמצאות מעל***\n",
        "\n",
        "**בסך הכל בדאטה קיימות 8086 תצפיות (מדידות) בסקלה מ-2 עד 6.5**"
      ],
      "metadata": {
        "id": "pyhK3yLecQIB"
      }
    },
    {
      "cell_type": "code",
      "source": [
        "figure(figsize=(8, 6), dpi=80)\n",
        "df['Magnitude'].plot(kind='hist', bins=40)\n",
        "plt.title(\"Distribution of Magnitude\")\n",
        "plt.xlabel(\"Magnitude of Earthquake\")\n",
        "plt.ylabel(\"Frequency\")\n",
        "plt.show()"
      ],
      "metadata": {
        "colab": {
          "base_uri": "https://localhost:8080/",
          "height": 444
        },
        "id": "zjGYJWOcVkLF",
        "outputId": "b9d8c408-6cc4-45dd-861c-d57dae480b42"
      },
      "execution_count": 6,
      "outputs": [
        {
          "output_type": "display_data",
          "data": {
            "text/plain": [
              "<Figure size 640x480 with 1 Axes>"
            ],
            "image/png": "[encoded data removed]"
          },
          "metadata": {
            "needs_background": "light"
          }
        }
      ]
    },
    {
      "cell_type": "markdown",
      "source": [
        "***מכיוון שהמדידות בסולם ריכטר הן לא משתנה רציף אלה משתנה בדיד, אני אקבץ את \n",
        "הדאטה לצורך הנוחות על ידי פונקציה של פייתון***"
      ],
      "metadata": {
        "id": "0k5M60K8goPn"
      }
    },
    {
      "cell_type": "code",
      "source": [
        "tmp = df['Magnitude'].value_counts()\n",
        "aggregated_data = pd.DataFrame(tmp).reset_index().rename(columns={\"index\": \"Magnitude\", \"Magnitude\": \"Freq\"}) # דאטה מקובצת\n",
        "# נראה את הנתנונים המקובצים\n",
        "aggregated_data.head(10)"
      ],
      "metadata": {
        "id": "8hKjue6BCEsE",
        "colab": {
          "base_uri": "https://localhost:8080/",
          "height": 363
        },
        "outputId": "32dc9893-778c-43b5-83e1-aaf8f510c01f"
      },
      "execution_count": 7,
      "outputs": [
        {
          "output_type": "execute_result",
          "data": {
            "text/plain": [
              "   Magnitude  Freq\n",
              "0        2.0  1527\n",
              "1        2.1  1299\n",
              "2        2.2  1040\n",
              "3        2.3   863\n",
              "4        2.4   723\n",
              "5        2.5   519\n",
              "6        2.6   406\n",
              "7        2.7   340\n",
              "8        2.8   304\n",
              "9        2.9   177"
            ],
            "text/html": [
              "\n",
              "  <div id=\"df-abfa984d-b075-42b0-aab5-26e43c6d1269\">\n",
              "    <div class=\"colab-df-container\">\n",
              "      <div>\n",
              "<style scoped>\n",
              "    .dataframe tbody tr th:only-of-type {\n",
              "        vertical-align: middle;\n",
              "    }\n",
              "\n",
              "    .dataframe tbody tr th {\n",
              "        vertical-align: top;\n",
              "    }\n",
              "\n",
              "    .dataframe thead th {\n",
              "        text-align: right;\n",
              "    }\n",
              "</style>\n",
              "<table border=\"1\" class=\"dataframe\">\n",
              "  <thead>\n",
              "    <tr style=\"text-align: right;\">\n",
              "      <th></th>\n",
              "      <th>Magnitude</th>\n",
              "      <th>Freq</th>\n",
              "    </tr>\n",
              "  </thead>\n",
              "  <tbody>\n",
              "    <tr>\n",
              "      <th>0</th>\n",
              "      <td>2.0</td>\n",
              "      <td>1527</td>\n",
              "    </tr>\n",
              "    <tr>\n",
              "      <th>1</th>\n",
              "      <td>2.1</td>\n",
              "      <td>1299</td>\n",
              "    </tr>\n",
              "    <tr>\n",
              "      <th>2</th>\n",
              "      <td>2.2</td>\n",
              "      <td>1040</td>\n",
              "    </tr>\n",
              "    <tr>\n",
              "      <th>3</th>\n",
              "      <td>2.3</td>\n",
              "      <td>863</td>\n",
              "    </tr>\n",
              "    <tr>\n",
              "      <th>4</th>\n",
              "      <td>2.4</td>\n",
              "      <td>723</td>\n",
              "    </tr>\n",
              "    <tr>\n",
              "      <th>5</th>\n",
              "      <td>2.5</td>\n",
              "      <td>519</td>\n",
              "    </tr>\n",
              "    <tr>\n",
              "      <th>6</th>\n",
              "      <td>2.6</td>\n",
              "      <td>406</td>\n",
              "    </tr>\n",
              "    <tr>\n",
              "      <th>7</th>\n",
              "      <td>2.7</td>\n",
              "      <td>340</td>\n",
              "    </tr>\n",
              "    <tr>\n",
              "      <th>8</th>\n",
              "      <td>2.8</td>\n",
              "      <td>304</td>\n",
              "    </tr>\n",
              "    <tr>\n",
              "      <th>9</th>\n",
              "      <td>2.9</td>\n",
              "      <td>177</td>\n",
              "    </tr>\n",
              "  </tbody>\n",
              "</table>\n",
              "</div>\n",
              "      <button class=\"colab-df-convert\" onclick=\"convertToInteractive('df-abfa984d-b075-42b0-aab5-26e43c6d1269')\"\n",
              "              title=\"Convert this dataframe to an interactive table.\"\n",
              "              style=\"display:none;\">\n",
              "        \n",
              "  <svg xmlns=\"http://www.w3.org/2000/svg\" height=\"24px\"viewBox=\"0 0 24 24\"\n",
              "       width=\"24px\">\n",
              "    <path d=\"M0 0h24v24H0V0z\" fill=\"none\"/>\n",
              "    <path d=\"M18.56 5.44l.94 2.06.94-2.06 2.06-.94-2.06-.94-.94-2.06-.94 2.06-2.06.94zm-11 1L8.5 8.5l.94-2.06 2.06-.94-2.06-.94L8.5 2.5l-.94 2.06-2.06.94zm10 10l.94 2.06.94-2.06 2.06-.94-2.06-.94-.94-2.06-.94 2.06-2.06.94z\"/><path d=\"M17.41 7.96l-1.37-1.37c-.4-.4-.92-.59-1.43-.59-.52 0-1.04.2-1.43.59L10.3 9.45l-7.72 7.72c-.78.78-.78 2.05 0 2.83L4 21.41c.39.39.9.59 1.41.59.51 0 1.02-.2 1.41-.59l7.78-7.78 2.81-2.81c.8-.78.8-2.07 0-2.86zM5.41 20L4 18.59l7.72-7.72 1.47 1.35L5.41 20z\"/>\n",
              "  </svg>\n",
              "      </button>\n",
              "      \n",
              "  <style>\n",
              "    .colab-df-container {\n",
              "      display:flex;\n",
              "      flex-wrap:wrap;\n",
              "      gap: 12px;\n",
              "    }\n",
              "\n",
              "    .colab-df-convert {\n",
              "      background-color: #E8F0FE;\n",
              "      border: none;\n",
              "      border-radius: 50%;\n",
              "      cursor: pointer;\n",
              "      display: none;\n",
              "      fill: #1967D2;\n",
              "      height: 32px;\n",
              "      padding: 0 0 0 0;\n",
              "      width: 32px;\n",
              "    }\n",
              "\n",
              "    .colab-df-convert:hover {\n",
              "      background-color: #E2EBFA;\n",
              "      box-shadow: 0px 1px 2px rgba(60, 64, 67, 0.3), 0px 1px 3px 1px rgba(60, 64, 67, 0.15);\n",
              "      fill: #174EA6;\n",
              "    }\n",
              "\n",
              "    [theme=dark] .colab-df-convert {\n",
              "      background-color: #3B4455;\n",
              "      fill: #D2E3FC;\n",
              "    }\n",
              "\n",
              "    [theme=dark] .colab-df-convert:hover {\n",
              "      background-color: #434B5C;\n",
              "      box-shadow: 0px 1px 3px 1px rgba(0, 0, 0, 0.15);\n",
              "      filter: drop-shadow(0px 1px 2px rgba(0, 0, 0, 0.3));\n",
              "      fill: #FFFFFF;\n",
              "    }\n",
              "  </style>\n",
              "\n",
              "      <script>\n",
              "        const buttonEl =\n",
              "          document.querySelector('#df-abfa984d-b075-42b0-aab5-26e43c6d1269 button.colab-df-convert');\n",
              "        buttonEl.style.display =\n",
              "          google.colab.kernel.accessAllowed ? 'block' : 'none';\n",
              "\n",
              "        async function convertToInteractive(key) {\n",
              "          const element = document.querySelector('#df-abfa984d-b075-42b0-aab5-26e43c6d1269');\n",
              "          const dataTable =\n",
              "            await google.colab.kernel.invokeFunction('convertToInteractive',\n",
              "                                                     [key], {});\n",
              "          if (!dataTable) return;\n",
              "\n",
              "          const docLinkHtml = 'Like what you see? Visit the ' +\n",
              "            '<a target=\"_blank\" href=https://colab.research.google.com/notebooks/data_table.ipynb>data table notebook</a>'\n",
              "            + ' to learn more about interactive tables.';\n",
              "          element.innerHTML = '';\n",
              "          dataTable['output_type'] = 'display_data';\n",
              "          await google.colab.output.renderOutput(dataTable, element);\n",
              "          const docLink = document.createElement('div');\n",
              "          docLink.innerHTML = docLinkHtml;\n",
              "          element.appendChild(docLink);\n",
              "        }\n",
              "      </script>\n",
              "    </div>\n",
              "  </div>\n",
              "  "
            ]
          },
          "metadata": {},
          "execution_count": 7
        }
      ]
    },
    {
      "cell_type": "markdown",
      "source": [
        "***נצייר את פונקצית ההתפלגות של הנתונים שלנו***\n"
      ],
      "metadata": {
        "id": "CVG0iJZniqvJ"
      }
    },
    {
      "cell_type": "code",
      "source": [
        "# Plot\n",
        "figure(figsize=(8, 6), dpi=80)\n",
        "plt.plot(aggregated_data['Magnitude'], aggregated_data['Freq'], 'r.')\n",
        "plt.title(\"Distribution of Magnitude\")\n",
        "plt.xlabel(\"Magnitude of Earthquake\")\n",
        "plt.ylabel(\"Frequency\")\n",
        "plt.grid()\n",
        "plt.show()"
      ],
      "metadata": {
        "colab": {
          "base_uri": "https://localhost:8080/",
          "height": 444
        },
        "id": "nxQ-_U_xiZGD",
        "outputId": "fc400e1a-70dc-469b-e9ba-f96daab9fbb2"
      },
      "execution_count": 8,
      "outputs": [
        {
          "output_type": "display_data",
          "data": {
            "text/plain": [
              "<Figure size 640x480 with 1 Axes>"
            ],
            "image/png": "[encoded data removed]"
          },
          "metadata": {
            "needs_background": "light"
          }
        }
      ]
    },
    {
      "cell_type": "markdown",
      "source": [
        "***Creating CDF for Actual data.***"
      ],
      "metadata": {
        "id": "MEr6KCK9AkNc"
      }
    },
    {
      "cell_type": "markdown",
      "source": [
        "***נראה איך נראת פונקצית צפיפות המצטברת של הנתונים שלנו***"
      ],
      "metadata": {
        "id": "N683aL2cjW6C"
      }
    },
    {
      "cell_type": "code",
      "source": [
        "x = np.sort(df['Magnitude'])\n",
        "y = np.arange(1, len(x)+1)  / len(x)\n",
        "\n",
        "# Plot\n",
        "figure(figsize=(8, 6), dpi=80)\n",
        "plt.plot(x,y,'b--')\n",
        "plt.title(\"CDF of Magnitude\")\n",
        "plt.xlabel(\"Magnitude of Earthquake\")\n",
        "plt.ylabel(\"Cumulative Frequency\")\n",
        "plt.grid()\n",
        "plt.show()"
      ],
      "metadata": {
        "colab": {
          "base_uri": "https://localhost:8080/",
          "height": 444
        },
        "id": "AC_woCOxzwqj",
        "outputId": "205cc743-8170-4e81-a11d-8e37bdc9504f"
      },
      "execution_count": 9,
      "outputs": [
        {
          "output_type": "display_data",
          "data": {
            "text/plain": [
              "<Figure size 640x480 with 1 Axes>"
            ],
            "image/png": "[encoded data removed]"
          },
          "metadata": {
            "needs_background": "light"
          }
        }
      ]
    },
    {
      "cell_type": "code",
      "source": [
        "data=aggregated_data.copy()\n",
        "data = data.sort_values(by=['Magnitude'])\n",
        "data['Cumulative Freq'] = data['Freq'].cumsum()  # שכיחות המצתברת\n",
        "data['CDF'] = data['Cumulative Freq'] / data['Freq'].sum()  \n",
        "data['CCDF'] = 1 - data['CDF']\n",
        "data.head(5)"
      ],
      "metadata": {
        "colab": {
          "base_uri": "https://localhost:8080/",
          "height": 206
        },
        "id": "rJIB-Kxa4LYR",
        "outputId": "876f3f1a-5b50-4715-9347-b86a25faaaa4"
      },
      "execution_count": 10,
      "outputs": [
        {
          "output_type": "execute_result",
          "data": {
            "text/plain": [
              "   Magnitude  Freq  Cumulative Freq       CDF      CCDF\n",
              "0        2.0  1527             1527  0.188845  0.811155\n",
              "1        2.1  1299             2826  0.349493  0.650507\n",
              "2        2.2  1040             3866  0.478110  0.521890\n",
              "3        2.3   863             4729  0.584838  0.415162\n",
              "4        2.4   723             5452  0.674252  0.325748"
            ],
            "text/html": [
              "\n",
              "  <div id=\"df-77caaf9b-8d10-4a35-a998-a55375454312\">\n",
              "    <div class=\"colab-df-container\">\n",
              "      <div>\n",
              "<style scoped>\n",
              "    .dataframe tbody tr th:only-of-type {\n",
              "        vertical-align: middle;\n",
              "    }\n",
              "\n",
              "    .dataframe tbody tr th {\n",
              "        vertical-align: top;\n",
              "    }\n",
              "\n",
              "    .dataframe thead th {\n",
              "        text-align: right;\n",
              "    }\n",
              "</style>\n",
              "<table border=\"1\" class=\"dataframe\">\n",
              "  <thead>\n",
              "    <tr style=\"text-align: right;\">\n",
              "      <th></th>\n",
              "      <th>Magnitude</th>\n",
              "      <th>Freq</th>\n",
              "      <th>Cumulative Freq</th>\n",
              "      <th>CDF</th>\n",
              "      <th>CCDF</th>\n",
              "    </tr>\n",
              "  </thead>\n",
              "  <tbody>\n",
              "    <tr>\n",
              "      <th>0</th>\n",
              "      <td>2.0</td>\n",
              "      <td>1527</td>\n",
              "      <td>1527</td>\n",
              "      <td>0.188845</td>\n",
              "      <td>0.811155</td>\n",
              "    </tr>\n",
              "    <tr>\n",
              "      <th>1</th>\n",
              "      <td>2.1</td>\n",
              "      <td>1299</td>\n",
              "      <td>2826</td>\n",
              "      <td>0.349493</td>\n",
              "      <td>0.650507</td>\n",
              "    </tr>\n",
              "    <tr>\n",
              "      <th>2</th>\n",
              "      <td>2.2</td>\n",
              "      <td>1040</td>\n",
              "      <td>3866</td>\n",
              "      <td>0.478110</td>\n",
              "      <td>0.521890</td>\n",
              "    </tr>\n",
              "    <tr>\n",
              "      <th>3</th>\n",
              "      <td>2.3</td>\n",
              "      <td>863</td>\n",
              "      <td>4729</td>\n",
              "      <td>0.584838</td>\n",
              "      <td>0.415162</td>\n",
              "    </tr>\n",
              "    <tr>\n",
              "      <th>4</th>\n",
              "      <td>2.4</td>\n",
              "      <td>723</td>\n",
              "      <td>5452</td>\n",
              "      <td>0.674252</td>\n",
              "      <td>0.325748</td>\n",
              "    </tr>\n",
              "  </tbody>\n",
              "</table>\n",
              "</div>\n",
              "      <button class=\"colab-df-convert\" onclick=\"convertToInteractive('df-77caaf9b-8d10-4a35-a998-a55375454312')\"\n",
              "              title=\"Convert this dataframe to an interactive table.\"\n",
              "              style=\"display:none;\">\n",
              "        \n",
              "  <svg xmlns=\"http://www.w3.org/2000/svg\" height=\"24px\"viewBox=\"0 0 24 24\"\n",
              "       width=\"24px\">\n",
              "    <path d=\"M0 0h24v24H0V0z\" fill=\"none\"/>\n",
              "    <path d=\"M18.56 5.44l.94 2.06.94-2.06 2.06-.94-2.06-.94-.94-2.06-.94 2.06-2.06.94zm-11 1L8.5 8.5l.94-2.06 2.06-.94-2.06-.94L8.5 2.5l-.94 2.06-2.06.94zm10 10l.94 2.06.94-2.06 2.06-.94-2.06-.94-.94-2.06-.94 2.06-2.06.94z\"/><path d=\"M17.41 7.96l-1.37-1.37c-.4-.4-.92-.59-1.43-.59-.52 0-1.04.2-1.43.59L10.3 9.45l-7.72 7.72c-.78.78-.78 2.05 0 2.83L4 21.41c.39.39.9.59 1.41.59.51 0 1.02-.2 1.41-.59l7.78-7.78 2.81-2.81c.8-.78.8-2.07 0-2.86zM5.41 20L4 18.59l7.72-7.72 1.47 1.35L5.41 20z\"/>\n",
              "  </svg>\n",
              "      </button>\n",
              "      \n",
              "  <style>\n",
              "    .colab-df-container {\n",
              "      display:flex;\n",
              "      flex-wrap:wrap;\n",
              "      gap: 12px;\n",
              "    }\n",
              "\n",
              "    .colab-df-convert {\n",
              "      background-color: #E8F0FE;\n",
              "      border: none;\n",
              "      border-radius: 50%;\n",
              "      cursor: pointer;\n",
              "      display: none;\n",
              "      fill: #1967D2;\n",
              "      height: 32px;\n",
              "      padding: 0 0 0 0;\n",
              "      width: 32px;\n",
              "    }\n",
              "\n",
              "    .colab-df-convert:hover {\n",
              "      background-color: #E2EBFA;\n",
              "      box-shadow: 0px 1px 2px rgba(60, 64, 67, 0.3), 0px 1px 3px 1px rgba(60, 64, 67, 0.15);\n",
              "      fill: #174EA6;\n",
              "    }\n",
              "\n",
              "    [theme=dark] .colab-df-convert {\n",
              "      background-color: #3B4455;\n",
              "      fill: #D2E3FC;\n",
              "    }\n",
              "\n",
              "    [theme=dark] .colab-df-convert:hover {\n",
              "      background-color: #434B5C;\n",
              "      box-shadow: 0px 1px 3px 1px rgba(0, 0, 0, 0.15);\n",
              "      filter: drop-shadow(0px 1px 2px rgba(0, 0, 0, 0.3));\n",
              "      fill: #FFFFFF;\n",
              "    }\n",
              "  </style>\n",
              "\n",
              "      <script>\n",
              "        const buttonEl =\n",
              "          document.querySelector('#df-77caaf9b-8d10-4a35-a998-a55375454312 button.colab-df-convert');\n",
              "        buttonEl.style.display =\n",
              "          google.colab.kernel.accessAllowed ? 'block' : 'none';\n",
              "\n",
              "        async function convertToInteractive(key) {\n",
              "          const element = document.querySelector('#df-77caaf9b-8d10-4a35-a998-a55375454312');\n",
              "          const dataTable =\n",
              "            await google.colab.kernel.invokeFunction('convertToInteractive',\n",
              "                                                     [key], {});\n",
              "          if (!dataTable) return;\n",
              "\n",
              "          const docLinkHtml = 'Like what you see? Visit the ' +\n",
              "            '<a target=\"_blank\" href=https://colab.research.google.com/notebooks/data_table.ipynb>data table notebook</a>'\n",
              "            + ' to learn more about interactive tables.';\n",
              "          element.innerHTML = '';\n",
              "          dataTable['output_type'] = 'display_data';\n",
              "          await google.colab.output.renderOutput(dataTable, element);\n",
              "          const docLink = document.createElement('div');\n",
              "          docLink.innerHTML = docLinkHtml;\n",
              "          element.appendChild(docLink);\n",
              "        }\n",
              "      </script>\n",
              "    </div>\n",
              "  </div>\n",
              "  "
            ]
          },
          "metadata": {},
          "execution_count": 10
        }
      ]
    },
    {
      "cell_type": "markdown",
      "source": [
        "***.בעזרת רגרסיה לינארית נמצא קו ישר לזנב של ההתפלגות***\n",
        "\n",
        "***.ניקח את ערכי האיקס מעל 3.4 על מנת להתאים את הקו***"
      ],
      "metadata": {
        "id": "um8koxLikImd"
      }
    },
    {
      "cell_type": "code",
      "source": [
        "X = np.array(data[data['Magnitude']>3.4]['Magnitude']).reshape(-1,1)\n",
        "y = np.array(data[data['Magnitude']>3.4]['CCDF']).reshape(-1,1)\n",
        "reg = LinearRegression().fit(X, y)\n",
        "slope = reg.coef_[0][0]\n",
        "intercept = reg.intercept_[0]\n",
        "print('The line: y = {intercept} + {coef}*X'.format(intercept=round(intercept,2), coef=round(slope,3)))"
      ],
      "metadata": {
        "colab": {
          "base_uri": "https://localhost:8080/"
        },
        "id": "cmOyGHRfAUW7",
        "outputId": "3dd65269-037b-45ab-87a5-749144df11a9"
      },
      "execution_count": 11,
      "outputs": [
        {
          "output_type": "stream",
          "name": "stdout",
          "text": [
            "The line: y = 0.03 + -0.005*X\n"
          ]
        }
      ]
    },
    {
      "cell_type": "markdown",
      "source": [
        "***.בניית פונקציית קו ישר שמצאנו***"
      ],
      "metadata": {
        "id": "y4IuRVHClBcb"
      }
    },
    {
      "cell_type": "code",
      "source": [
        "linef = lambda x: intercept + slope*x "
      ],
      "metadata": {
        "id": "6FofQKjhEcpj"
      },
      "execution_count": 12,
      "outputs": []
    },
    {
      "cell_type": "code",
      "source": [
        "figure(figsize=(8, 6), dpi=80)\n",
        "plt.plot(data['Magnitude'], data['CDF'], 'b-', label='CDF')\n",
        "plt.plot(data['Magnitude'], data['CCDF'], 'r-', label='CCDF')\n",
        "plt.plot(data['Magnitude'], linef(data['Magnitude']), 'g-', label='Line')\n",
        "plt.title(\"CDF vs CCDF vs Line\")\n",
        "plt.xlabel(\"Magnitude of Earthquake\")\n",
        "plt.ylabel(\"Cumulative\")\n",
        "plt.legend(loc=1, prop={'size':15})\n",
        "plt.show()"
      ],
      "metadata": {
        "colab": {
          "base_uri": "https://localhost:8080/",
          "height": 444
        },
        "id": "JBNrxqK-ANUq",
        "outputId": "bb8cb5ae-1be7-4b4d-ebde-b6716544ad17"
      },
      "execution_count": 14,
      "outputs": [
        {
          "output_type": "display_data",
          "data": {
            "text/plain": [
              "<Figure size 640x480 with 1 Axes>"
            ],
            "image/png": "[encoded data removed]"
          },
          "metadata": {
            "needs_background": "light"
          }
        }
      ]
    },
    {
      "cell_type": "markdown",
      "source": [
        "במאמר שנקראה \n",
        "\n",
        "\"Power-law distributions in empirical data\"\n",
        "\n",
        "על-ידי \n",
        "\n",
        "Aaron Clauset & Cosma Rohilla Shalizi & M. E. J. Newman§\n",
        "\n",
        "הם מציעים שיטה למציאת\n",
        "\n",
        "Xmin\n",
        "\n",
        "על-ידי בניית מודל שמתאר את הדאטה בצורה הכי טובה, בשיטה של ריבועים פחותים, וממזארת את הציון של קולמוגורוב-סמירנוב בין פונקציית צפיפות המצטברת האמיתית (של הדאטה) לבין פונקציית צפיפות המצטברת של המודל"
      ],
      "metadata": {
        "id": "e1XOKHHXjyDU"
      }
    },
    {
      "cell_type": "markdown",
      "source": [
        "**:מתודולוגיה**\n",
        "<ol>\n",
        "    <li>(non-linear least squares) נבנה מודל שמתאר את הדאטה בצורה הכי טובה על-ידי שיטה של הריבועים הפחותים</li> \n",
        "    <li>ניצור איתו דאטה aX^b אחרי שנמצא מודל מהצורה</li>\n",
        "    <li>ניצור את פונקציית צפיפות המצטברת גם לדאטה האמיתי וגם לדאטה שייצרנו על ידי המודל</li>\n",
        "    <li>על מנת למנוע איטרציות מיותרות Xmin נאכלס את הניחוש הראשוני של </li>\n",
        "    <li>ומחזירה את הציון קולמוגורוב-סמירנוב Xmin נבנה פונקציה שמקבלת את </li>\n",
        "    <li>ננסה למצוע את המינימום של הפונקציה זו על ידי אופטימיזציה</li>\n",
        "</ol>"
      ],
      "metadata": {
        "id": "nkw2MQ6ymZAF"
      }
    },
    {
      "cell_type": "markdown",
      "source": [
        "***Building a model that best fits the data.***"
      ],
      "metadata": {
        "id": "OehgrHG1BXE5"
      }
    },
    {
      "cell_type": "code",
      "source": [
        "# a * x**b\n",
        "\n",
        "X = aggregated_data['Magnitude']\n",
        "y = aggregated_data['Freq']\n",
        "lnX = np.log(X)\n",
        "lnY = np.log(y)\n",
        "b, lna = np.polyfit(lnX, lnY, 1) # Minimizes the squared error\n",
        "a = np.exp(lna)\n",
        "print('power={} sigma={}'.format(b,a))\n"
      ],
      "metadata": {
        "colab": {
          "base_uri": "https://localhost:8080/"
        },
        "id": "iLLPY7ISH0S3",
        "outputId": "b6a1978c-d1dd-4207-9090-8b0019023111"
      },
      "execution_count": 16,
      "outputs": [
        {
          "output_type": "stream",
          "name": "stdout",
          "text": [
            "power=-7.5627536424697235 sigma=509682.15101862804\n"
          ]
        }
      ]
    },
    {
      "cell_type": "markdown",
      "source": [
        "***: מצאנו שהפולינום שמתאר את הדאטה הכי טוב הוא מהצורה הבא***"
      ],
      "metadata": {
        "id": "qwneFDyGmkNd"
      }
    },
    {
      "cell_type": "code",
      "source": [
        "f = lambda x: 509682.15101862804 * (x**-7.5627536424697235)\n",
        "t=aggregated_data['Magnitude']"
      ],
      "metadata": {
        "id": "ikG8PifPH0Ve"
      },
      "execution_count": 18,
      "outputs": []
    },
    {
      "cell_type": "markdown",
      "source": [
        "***נצייר פונקציית הצפיפות של הדאטה האמיתית שלנו יחד עם פולינום שמצאנו***"
      ],
      "metadata": {
        "id": "JkaMeRiNnGSt"
      }
    },
    {
      "cell_type": "code",
      "source": [
        "figure(figsize=(8, 6), dpi=80)\n",
        "plt.plot(aggregated_data['Magnitude'], aggregated_data['Freq'], 'r.', label='Actual data')\n",
        "plt.plot(aggregated_data['Magnitude'], f(t), 'b--', label='Best fitted model')\n",
        "plt.title(\"Best Fitted Model vs Actual Data\")\n",
        "plt.xlabel(\"Magnitude of Earthquake\")\n",
        "plt.ylabel(\"Frequency\")\n",
        "plt.legend(loc=1, prop={'size':15})\n",
        "plt.show()"
      ],
      "metadata": {
        "colab": {
          "base_uri": "https://localhost:8080/",
          "height": 444
        },
        "id": "LdL5x2t-H0dx",
        "outputId": "796209e1-e1e0-40ac-fe96-369cb6da0484"
      },
      "execution_count": 19,
      "outputs": [
        {
          "output_type": "display_data",
          "data": {
            "text/plain": [
              "<Figure size 640x480 with 1 Axes>"
            ],
            "image/png": "[encoded data removed]"
          },
          "metadata": {
            "needs_background": "light"
          }
        }
      ]
    },
    {
      "cell_type": "code",
      "source": [
        "figure(figsize=(8, 6), dpi=80)\n",
        "\n",
        "data['Fitted Model'] = f(data['Magnitude'])\n",
        "data['Cumulative Model'] = data['Fitted Model'].cumsum()\n",
        "data['CDF Fitted'] = data['Cumulative Model'] / data['Fitted Model'].sum()\n",
        "data['delta'] = abs(data['CDF Fitted'] - data['CDF'])\n",
        "\n",
        "plt.plot(data['Magnitude'], data['CDF'], 'r.', label='Actual CDF')\n",
        "plt.plot(data['Magnitude'], data['CDF Fitted'], 'b--', label='Fitted CDF')\n",
        "plt.title(\"CDF Fitted vs Actual CDF\")\n",
        "plt.xlabel(\"Magnitude of Earthquake\")\n",
        "plt.ylabel(\"CDF\")\n",
        "plt.legend(loc=2, prop={'size':10})\n",
        "plt.show()"
      ],
      "metadata": {
        "id": "jkxpkIDDlenY",
        "colab": {
          "base_uri": "https://localhost:8080/",
          "height": 444
        },
        "outputId": "0d358cb4-d849-4bdf-c6d2-7a25deb4170f"
      },
      "execution_count": 31,
      "outputs": [
        {
          "output_type": "display_data",
          "data": {
            "text/plain": [
              "<Figure size 640x480 with 1 Axes>"
            ],
            "image/png": "[encoded data removed]"
          },
          "metadata": {
            "needs_background": "light"
          }
        }
      ]
    },
    {
      "cell_type": "code",
      "source": [
        "data.head(5)"
      ],
      "metadata": {
        "colab": {
          "base_uri": "https://localhost:8080/",
          "height": 206
        },
        "id": "sfEVMC9Anpll",
        "outputId": "6ecc3643-15e7-4a13-d493-aa499a2724f3"
      },
      "execution_count": 32,
      "outputs": [
        {
          "output_type": "execute_result",
          "data": {
            "text/plain": [
              "   Magnitude  Freq  Cumulative Freq       CDF      CCDF  Fitted Model  \\\n",
              "0        2.0  1527             1527  0.188845  0.811155   2695.775542   \n",
              "1        2.1  1299             2826  0.349493  0.650507   1863.950093   \n",
              "2        2.2  1040             3866  0.478110  0.521890   1311.115792   \n",
              "3        2.3   863             4729  0.584838  0.415162    936.787130   \n",
              "4        2.4   723             5452  0.674252  0.325748    678.977639   \n",
              "\n",
              "   Cumulative Model  CDF Fitted     delta  \n",
              "0       2695.775542    0.280032  0.091187  \n",
              "1       4559.725635    0.473656  0.124163  \n",
              "2       5870.841427    0.609852  0.131742  \n",
              "3       6807.628556    0.707164  0.122326  \n",
              "4       7486.606196    0.777695  0.103443  "
            ],
            "text/html": [
              "\n",
              "  <div id=\"df-23ec58b1-4e5c-4523-87b6-9e52ed960d30\">\n",
              "    <div class=\"colab-df-container\">\n",
              "      <div>\n",
              "<style scoped>\n",
              "    .dataframe tbody tr th:only-of-type {\n",
              "        vertical-align: middle;\n",
              "    }\n",
              "\n",
              "    .dataframe tbody tr th {\n",
              "        vertical-align: top;\n",
              "    }\n",
              "\n",
              "    .dataframe thead th {\n",
              "        text-align: right;\n",
              "    }\n",
              "</style>\n",
              "<table border=\"1\" class=\"dataframe\">\n",
              "  <thead>\n",
              "    <tr style=\"text-align: right;\">\n",
              "      <th></th>\n",
              "      <th>Magnitude</th>\n",
              "      <th>Freq</th>\n",
              "      <th>Cumulative Freq</th>\n",
              "      <th>CDF</th>\n",
              "      <th>CCDF</th>\n",
              "      <th>Fitted Model</th>\n",
              "      <th>Cumulative Model</th>\n",
              "      <th>CDF Fitted</th>\n",
              "      <th>delta</th>\n",
              "    </tr>\n",
              "  </thead>\n",
              "  <tbody>\n",
              "    <tr>\n",
              "      <th>0</th>\n",
              "      <td>2.0</td>\n",
              "      <td>1527</td>\n",
              "      <td>1527</td>\n",
              "      <td>0.188845</td>\n",
              "      <td>0.811155</td>\n",
              "      <td>2695.775542</td>\n",
              "      <td>2695.775542</td>\n",
              "      <td>0.280032</td>\n",
              "      <td>0.091187</td>\n",
              "    </tr>\n",
              "    <tr>\n",
              "      <th>1</th>\n",
              "      <td>2.1</td>\n",
              "      <td>1299</td>\n",
              "      <td>2826</td>\n",
              "      <td>0.349493</td>\n",
              "      <td>0.650507</td>\n",
              "      <td>1863.950093</td>\n",
              "      <td>4559.725635</td>\n",
              "      <td>0.473656</td>\n",
              "      <td>0.124163</td>\n",
              "    </tr>\n",
              "    <tr>\n",
              "      <th>2</th>\n",
              "      <td>2.2</td>\n",
              "      <td>1040</td>\n",
              "      <td>3866</td>\n",
              "      <td>0.478110</td>\n",
              "      <td>0.521890</td>\n",
              "      <td>1311.115792</td>\n",
              "      <td>5870.841427</td>\n",
              "      <td>0.609852</td>\n",
              "      <td>0.131742</td>\n",
              "    </tr>\n",
              "    <tr>\n",
              "      <th>3</th>\n",
              "      <td>2.3</td>\n",
              "      <td>863</td>\n",
              "      <td>4729</td>\n",
              "      <td>0.584838</td>\n",
              "      <td>0.415162</td>\n",
              "      <td>936.787130</td>\n",
              "      <td>6807.628556</td>\n",
              "      <td>0.707164</td>\n",
              "      <td>0.122326</td>\n",
              "    </tr>\n",
              "    <tr>\n",
              "      <th>4</th>\n",
              "      <td>2.4</td>\n",
              "      <td>723</td>\n",
              "      <td>5452</td>\n",
              "      <td>0.674252</td>\n",
              "      <td>0.325748</td>\n",
              "      <td>678.977639</td>\n",
              "      <td>7486.606196</td>\n",
              "      <td>0.777695</td>\n",
              "      <td>0.103443</td>\n",
              "    </tr>\n",
              "  </tbody>\n",
              "</table>\n",
              "</div>\n",
              "      <button class=\"colab-df-convert\" onclick=\"convertToInteractive('df-23ec58b1-4e5c-4523-87b6-9e52ed960d30')\"\n",
              "              title=\"Convert this dataframe to an interactive table.\"\n",
              "              style=\"display:none;\">\n",
              "        \n",
              "  <svg xmlns=\"http://www.w3.org/2000/svg\" height=\"24px\"viewBox=\"0 0 24 24\"\n",
              "       width=\"24px\">\n",
              "    <path d=\"M0 0h24v24H0V0z\" fill=\"none\"/>\n",
              "    <path d=\"M18.56 5.44l.94 2.06.94-2.06 2.06-.94-2.06-.94-.94-2.06-.94 2.06-2.06.94zm-11 1L8.5 8.5l.94-2.06 2.06-.94-2.06-.94L8.5 2.5l-.94 2.06-2.06.94zm10 10l.94 2.06.94-2.06 2.06-.94-2.06-.94-.94-2.06-.94 2.06-2.06.94z\"/><path d=\"M17.41 7.96l-1.37-1.37c-.4-.4-.92-.59-1.43-.59-.52 0-1.04.2-1.43.59L10.3 9.45l-7.72 7.72c-.78.78-.78 2.05 0 2.83L4 21.41c.39.39.9.59 1.41.59.51 0 1.02-.2 1.41-.59l7.78-7.78 2.81-2.81c.8-.78.8-2.07 0-2.86zM5.41 20L4 18.59l7.72-7.72 1.47 1.35L5.41 20z\"/>\n",
              "  </svg>\n",
              "      </button>\n",
              "      \n",
              "  <style>\n",
              "    .colab-df-container {\n",
              "      display:flex;\n",
              "      flex-wrap:wrap;\n",
              "      gap: 12px;\n",
              "    }\n",
              "\n",
              "    .colab-df-convert {\n",
              "      background-color: #E8F0FE;\n",
              "      border: none;\n",
              "      border-radius: 50%;\n",
              "      cursor: pointer;\n",
              "      display: none;\n",
              "      fill: #1967D2;\n",
              "      height: 32px;\n",
              "      padding: 0 0 0 0;\n",
              "      width: 32px;\n",
              "    }\n",
              "\n",
              "    .colab-df-convert:hover {\n",
              "      background-color: #E2EBFA;\n",
              "      box-shadow: 0px 1px 2px rgba(60, 64, 67, 0.3), 0px 1px 3px 1px rgba(60, 64, 67, 0.15);\n",
              "      fill: #174EA6;\n",
              "    }\n",
              "\n",
              "    [theme=dark] .colab-df-convert {\n",
              "      background-color: #3B4455;\n",
              "      fill: #D2E3FC;\n",
              "    }\n",
              "\n",
              "    [theme=dark] .colab-df-convert:hover {\n",
              "      background-color: #434B5C;\n",
              "      box-shadow: 0px 1px 3px 1px rgba(0, 0, 0, 0.15);\n",
              "      filter: drop-shadow(0px 1px 2px rgba(0, 0, 0, 0.3));\n",
              "      fill: #FFFFFF;\n",
              "    }\n",
              "  </style>\n",
              "\n",
              "      <script>\n",
              "        const buttonEl =\n",
              "          document.querySelector('#df-23ec58b1-4e5c-4523-87b6-9e52ed960d30 button.colab-df-convert');\n",
              "        buttonEl.style.display =\n",
              "          google.colab.kernel.accessAllowed ? 'block' : 'none';\n",
              "\n",
              "        async function convertToInteractive(key) {\n",
              "          const element = document.querySelector('#df-23ec58b1-4e5c-4523-87b6-9e52ed960d30');\n",
              "          const dataTable =\n",
              "            await google.colab.kernel.invokeFunction('convertToInteractive',\n",
              "                                                     [key], {});\n",
              "          if (!dataTable) return;\n",
              "\n",
              "          const docLinkHtml = 'Like what you see? Visit the ' +\n",
              "            '<a target=\"_blank\" href=https://colab.research.google.com/notebooks/data_table.ipynb>data table notebook</a>'\n",
              "            + ' to learn more about interactive tables.';\n",
              "          element.innerHTML = '';\n",
              "          dataTable['output_type'] = 'display_data';\n",
              "          await google.colab.output.renderOutput(dataTable, element);\n",
              "          const docLink = document.createElement('div');\n",
              "          docLink.innerHTML = docLinkHtml;\n",
              "          element.appendChild(docLink);\n",
              "        }\n",
              "      </script>\n",
              "    </div>\n",
              "  </div>\n",
              "  "
            ]
          },
          "metadata": {},
          "execution_count": 32
        }
      ]
    },
    {
      "cell_type": "code",
      "source": [
        "from scipy.stats import ksone\n",
        "\n",
        "confidence_level = 0.95\n",
        "alpha = 1 - confidence_level\n",
        "\n",
        "D_stat = data['delta'].max()\n",
        "D_critical = ksone.ppf(1-alpha/2, len(data))\n",
        "\n",
        "print(D_stat)\n",
        "print(D_critical)\n",
        "print('There is no significant diffrenece between the distributions for the samples.')"
      ],
      "metadata": {
        "colab": {
          "base_uri": "https://localhost:8080/"
        },
        "id": "VCrYjLWW2JYe",
        "outputId": "4485c295-82f2-41e2-b042-8423dff6e56e"
      },
      "execution_count": 33,
      "outputs": [
        {
          "output_type": "stream",
          "name": "stdout",
          "text": [
            "0.13174177595552028\n",
            "0.2307616992848535\n",
            "There is no significant diffrenece between the distributions for the samples.\n"
          ]
        }
      ]
    },
    {
      "cell_type": "markdown",
      "source": [
        "****Estimation of Xmin****\n",
        "\n",
        "***:האלגוריתם***\n",
        "\n",
        "נתחיל לרוץ על האיקסים מהניחוש הראשוני (שנגדיר בהמשך) ומעלה\n",
        "\n",
        "בכל איטרציה של האלגוריתם נחשב את הציון של קולמוגורוב-סמירנוב בין פונקציות צפיפות המצתברת של הדאטה האמיתית ושל המודל שבנינו\n",
        "\n",
        "בכל איטרציה נזיז את הניחוש הראשוני שלנו למעלה\n",
        "\n",
        "בכך אנחנו מניחים בכל איטרציה שאיקס מינימום הוא שונה\n",
        "\n",
        "נתעלם מכל ערכי איקס שמתחת לאיקס מינימום החשוד באיטרציה הנוכחית\n",
        "\n",
        "נבנה פונקציה שמקבלת איקס החשוד להיות איקס מינימום\n",
        "ומחזירה את הציון קולמוגורוב סמירנוב\n",
        "\n",
        "\n",
        "נמצא את המינימום לפונקציה זו\n",
        "\n"
      ],
      "metadata": {
        "id": "0UKSJY-9WMSK"
      }
    },
    {
      "cell_type": "code",
      "source": [
        "data.head(5)"
      ],
      "metadata": {
        "colab": {
          "base_uri": "https://localhost:8080/",
          "height": 206
        },
        "id": "meD0qV9XFS_a",
        "outputId": "7df5c7c3-6880-4dea-aae2-9ce4d77ebfea"
      },
      "execution_count": 35,
      "outputs": [
        {
          "output_type": "execute_result",
          "data": {
            "text/plain": [
              "   Magnitude  Freq  Cumulative Freq       CDF      CCDF  Fitted Model  \\\n",
              "0        2.0  1527             1527  0.188845  0.811155   2695.775542   \n",
              "1        2.1  1299             2826  0.349493  0.650507   1863.950093   \n",
              "2        2.2  1040             3866  0.478110  0.521890   1311.115792   \n",
              "3        2.3   863             4729  0.584838  0.415162    936.787130   \n",
              "4        2.4   723             5452  0.674252  0.325748    678.977639   \n",
              "\n",
              "   Cumulative Model  CDF Fitted     delta  \n",
              "0       2695.775542    0.280032  0.091187  \n",
              "1       4559.725635    0.473656  0.124163  \n",
              "2       5870.841427    0.609852  0.131742  \n",
              "3       6807.628556    0.707164  0.122326  \n",
              "4       7486.606196    0.777695  0.103443  "
            ],
            "text/html": [
              "\n",
              "  <div id=\"df-d67caa16-fb63-4534-ae48-05916c54ae68\">\n",
              "    <div class=\"colab-df-container\">\n",
              "      <div>\n",
              "<style scoped>\n",
              "    .dataframe tbody tr th:only-of-type {\n",
              "        vertical-align: middle;\n",
              "    }\n",
              "\n",
              "    .dataframe tbody tr th {\n",
              "        vertical-align: top;\n",
              "    }\n",
              "\n",
              "    .dataframe thead th {\n",
              "        text-align: right;\n",
              "    }\n",
              "</style>\n",
              "<table border=\"1\" class=\"dataframe\">\n",
              "  <thead>\n",
              "    <tr style=\"text-align: right;\">\n",
              "      <th></th>\n",
              "      <th>Magnitude</th>\n",
              "      <th>Freq</th>\n",
              "      <th>Cumulative Freq</th>\n",
              "      <th>CDF</th>\n",
              "      <th>CCDF</th>\n",
              "      <th>Fitted Model</th>\n",
              "      <th>Cumulative Model</th>\n",
              "      <th>CDF Fitted</th>\n",
              "      <th>delta</th>\n",
              "    </tr>\n",
              "  </thead>\n",
              "  <tbody>\n",
              "    <tr>\n",
              "      <th>0</th>\n",
              "      <td>2.0</td>\n",
              "      <td>1527</td>\n",
              "      <td>1527</td>\n",
              "      <td>0.188845</td>\n",
              "      <td>0.811155</td>\n",
              "      <td>2695.775542</td>\n",
              "      <td>2695.775542</td>\n",
              "      <td>0.280032</td>\n",
              "      <td>0.091187</td>\n",
              "    </tr>\n",
              "    <tr>\n",
              "      <th>1</th>\n",
              "      <td>2.1</td>\n",
              "      <td>1299</td>\n",
              "      <td>2826</td>\n",
              "      <td>0.349493</td>\n",
              "      <td>0.650507</td>\n",
              "      <td>1863.950093</td>\n",
              "      <td>4559.725635</td>\n",
              "      <td>0.473656</td>\n",
              "      <td>0.124163</td>\n",
              "    </tr>\n",
              "    <tr>\n",
              "      <th>2</th>\n",
              "      <td>2.2</td>\n",
              "      <td>1040</td>\n",
              "      <td>3866</td>\n",
              "      <td>0.478110</td>\n",
              "      <td>0.521890</td>\n",
              "      <td>1311.115792</td>\n",
              "      <td>5870.841427</td>\n",
              "      <td>0.609852</td>\n",
              "      <td>0.131742</td>\n",
              "    </tr>\n",
              "    <tr>\n",
              "      <th>3</th>\n",
              "      <td>2.3</td>\n",
              "      <td>863</td>\n",
              "      <td>4729</td>\n",
              "      <td>0.584838</td>\n",
              "      <td>0.415162</td>\n",
              "      <td>936.787130</td>\n",
              "      <td>6807.628556</td>\n",
              "      <td>0.707164</td>\n",
              "      <td>0.122326</td>\n",
              "    </tr>\n",
              "    <tr>\n",
              "      <th>4</th>\n",
              "      <td>2.4</td>\n",
              "      <td>723</td>\n",
              "      <td>5452</td>\n",
              "      <td>0.674252</td>\n",
              "      <td>0.325748</td>\n",
              "      <td>678.977639</td>\n",
              "      <td>7486.606196</td>\n",
              "      <td>0.777695</td>\n",
              "      <td>0.103443</td>\n",
              "    </tr>\n",
              "  </tbody>\n",
              "</table>\n",
              "</div>\n",
              "      <button class=\"colab-df-convert\" onclick=\"convertToInteractive('df-d67caa16-fb63-4534-ae48-05916c54ae68')\"\n",
              "              title=\"Convert this dataframe to an interactive table.\"\n",
              "              style=\"display:none;\">\n",
              "        \n",
              "  <svg xmlns=\"http://www.w3.org/2000/svg\" height=\"24px\"viewBox=\"0 0 24 24\"\n",
              "       width=\"24px\">\n",
              "    <path d=\"M0 0h24v24H0V0z\" fill=\"none\"/>\n",
              "    <path d=\"M18.56 5.44l.94 2.06.94-2.06 2.06-.94-2.06-.94-.94-2.06-.94 2.06-2.06.94zm-11 1L8.5 8.5l.94-2.06 2.06-.94-2.06-.94L8.5 2.5l-.94 2.06-2.06.94zm10 10l.94 2.06.94-2.06 2.06-.94-2.06-.94-.94-2.06-.94 2.06-2.06.94z\"/><path d=\"M17.41 7.96l-1.37-1.37c-.4-.4-.92-.59-1.43-.59-.52 0-1.04.2-1.43.59L10.3 9.45l-7.72 7.72c-.78.78-.78 2.05 0 2.83L4 21.41c.39.39.9.59 1.41.59.51 0 1.02-.2 1.41-.59l7.78-7.78 2.81-2.81c.8-.78.8-2.07 0-2.86zM5.41 20L4 18.59l7.72-7.72 1.47 1.35L5.41 20z\"/>\n",
              "  </svg>\n",
              "      </button>\n",
              "      \n",
              "  <style>\n",
              "    .colab-df-container {\n",
              "      display:flex;\n",
              "      flex-wrap:wrap;\n",
              "      gap: 12px;\n",
              "    }\n",
              "\n",
              "    .colab-df-convert {\n",
              "      background-color: #E8F0FE;\n",
              "      border: none;\n",
              "      border-radius: 50%;\n",
              "      cursor: pointer;\n",
              "      display: none;\n",
              "      fill: #1967D2;\n",
              "      height: 32px;\n",
              "      padding: 0 0 0 0;\n",
              "      width: 32px;\n",
              "    }\n",
              "\n",
              "    .colab-df-convert:hover {\n",
              "      background-color: #E2EBFA;\n",
              "      box-shadow: 0px 1px 2px rgba(60, 64, 67, 0.3), 0px 1px 3px 1px rgba(60, 64, 67, 0.15);\n",
              "      fill: #174EA6;\n",
              "    }\n",
              "\n",
              "    [theme=dark] .colab-df-convert {\n",
              "      background-color: #3B4455;\n",
              "      fill: #D2E3FC;\n",
              "    }\n",
              "\n",
              "    [theme=dark] .colab-df-convert:hover {\n",
              "      background-color: #434B5C;\n",
              "      box-shadow: 0px 1px 3px 1px rgba(0, 0, 0, 0.15);\n",
              "      filter: drop-shadow(0px 1px 2px rgba(0, 0, 0, 0.3));\n",
              "      fill: #FFFFFF;\n",
              "    }\n",
              "  </style>\n",
              "\n",
              "      <script>\n",
              "        const buttonEl =\n",
              "          document.querySelector('#df-d67caa16-fb63-4534-ae48-05916c54ae68 button.colab-df-convert');\n",
              "        buttonEl.style.display =\n",
              "          google.colab.kernel.accessAllowed ? 'block' : 'none';\n",
              "\n",
              "        async function convertToInteractive(key) {\n",
              "          const element = document.querySelector('#df-d67caa16-fb63-4534-ae48-05916c54ae68');\n",
              "          const dataTable =\n",
              "            await google.colab.kernel.invokeFunction('convertToInteractive',\n",
              "                                                     [key], {});\n",
              "          if (!dataTable) return;\n",
              "\n",
              "          const docLinkHtml = 'Like what you see? Visit the ' +\n",
              "            '<a target=\"_blank\" href=https://colab.research.google.com/notebooks/data_table.ipynb>data table notebook</a>'\n",
              "            + ' to learn more about interactive tables.';\n",
              "          element.innerHTML = '';\n",
              "          dataTable['output_type'] = 'display_data';\n",
              "          await google.colab.output.renderOutput(dataTable, element);\n",
              "          const docLink = document.createElement('div');\n",
              "          docLink.innerHTML = docLinkHtml;\n",
              "          element.appendChild(docLink);\n",
              "        }\n",
              "      </script>\n",
              "    </div>\n",
              "  </div>\n",
              "  "
            ]
          },
          "metadata": {},
          "execution_count": 35
        }
      ]
    },
    {
      "cell_type": "code",
      "source": [
        "estimation = aggregated_data.copy()\n",
        "results = []\n",
        "x_axes = []\n",
        "D = []\n",
        "range = [3,6,0.1] # נבדוק את האיקסים החשודים בלהיות איקס מינימום בטווח הזה בין 3 ל-6, בצעדים של 0.1 בסקלה של ריכטר\n",
        "\n",
        "def KS_test_run(dataset, range):\n",
        "     \n",
        "     start = range[0]\n",
        "     end = range[1]\n",
        "     step= range[2]\n",
        "\n",
        "     while start <= end:\n",
        "        temp = dataset.copy().iloc[start:,:] \n",
        "        temp = temp.rename(columns={\"Magnitude\": \"X\"})\n",
        "        temp = temp.rename(columns={\"Freq\": \"y\"})\n",
        "        temp = temp.sort_values(by=['X'])\n",
        "        temp['Fitted y'] = f(temp['X'])\n",
        "        temp['Cumulative Y'] = temp['y'].cumsum() \n",
        "        temp['Cumulative Fitted Y'] = temp['Fitted y'].cumsum()\n",
        "        temp['CDF Actual'] = temp['Cumulative Y'] / temp['y'].sum()\n",
        "        temp['CDF Fitted'] = temp['Cumulative Fitted Y'] / temp['Fitted y'].sum()\n",
        "        temp['delta'] = abs(temp['CDF Actual'] - temp['CDF Fitted'])\n",
        "        x_axes.append(temp.iloc[0,0])\n",
        "        results.append(temp['delta'].max())\n",
        "        D.append(temp['delta'].max())\n",
        "        print('i={}, X={}, D={}'.format(start,temp.iloc[0,0],temp['delta'].max()))\n",
        "        start += step\n",
        "\n",
        "\n",
        "KS_test_run(dataset=estimation, range=range)"
      ],
      "metadata": {
        "colab": {
          "base_uri": "https://localhost:8080/",
          "height": 363
        },
        "id": "cRoNF9WEFIjY",
        "outputId": "dce358bb-70d3-4f2c-a1d7-56b7771cb7db"
      },
      "execution_count": 42,
      "outputs": [
        {
          "output_type": "stream",
          "name": "stdout",
          "text": [
            "i=3, X=2.3, D=0.066625805926808\n"
          ]
        },
        {
          "output_type": "error",
          "ename": "TypeError",
          "evalue": "ignored",
          "traceback": [
            "\u001b[0;31m---------------------------------------------------------------------------\u001b[0m",
            "\u001b[0;31mTypeError\u001b[0m                                 Traceback (most recent call last)",
            "\u001b[0;32m<ipython-input-42-ea03696c2858>\u001b[0m in \u001b[0;36m<module>\u001b[0;34m\u001b[0m\n\u001b[1;32m     29\u001b[0m \u001b[0;34m\u001b[0m\u001b[0m\n\u001b[1;32m     30\u001b[0m \u001b[0;34m\u001b[0m\u001b[0m\n\u001b[0;32m---> 31\u001b[0;31m \u001b[0mKS_test_run\u001b[0m\u001b[0;34m(\u001b[0m\u001b[0mdataset\u001b[0m\u001b[0;34m=\u001b[0m\u001b[0mestimation\u001b[0m\u001b[0;34m,\u001b[0m \u001b[0mrange\u001b[0m\u001b[0;34m=\u001b[0m\u001b[0mrange\u001b[0m\u001b[0;34m)\u001b[0m\u001b[0;34m\u001b[0m\u001b[0;34m\u001b[0m\u001b[0m\n\u001b[0m",
            "\u001b[0;32m<ipython-input-42-ea03696c2858>\u001b[0m in \u001b[0;36mKS_test_run\u001b[0;34m(dataset, range)\u001b[0m\n\u001b[1;32m     12\u001b[0m \u001b[0;34m\u001b[0m\u001b[0m\n\u001b[1;32m     13\u001b[0m      \u001b[0;32mwhile\u001b[0m \u001b[0mstart\u001b[0m \u001b[0;34m<=\u001b[0m \u001b[0mend\u001b[0m\u001b[0;34m:\u001b[0m\u001b[0;34m\u001b[0m\u001b[0;34m\u001b[0m\u001b[0m\n\u001b[0;32m---> 14\u001b[0;31m         \u001b[0mtemp\u001b[0m \u001b[0;34m=\u001b[0m \u001b[0mdataset\u001b[0m\u001b[0;34m.\u001b[0m\u001b[0mcopy\u001b[0m\u001b[0;34m(\u001b[0m\u001b[0;34m)\u001b[0m\u001b[0;34m.\u001b[0m\u001b[0miloc\u001b[0m\u001b[0;34m[\u001b[0m\u001b[0mstart\u001b[0m\u001b[0;34m:\u001b[0m\u001b[0;34m,\u001b[0m\u001b[0;34m:\u001b[0m\u001b[0;34m]\u001b[0m\u001b[0;34m\u001b[0m\u001b[0;34m\u001b[0m\u001b[0m\n\u001b[0m\u001b[1;32m     15\u001b[0m         \u001b[0mtemp\u001b[0m \u001b[0;34m=\u001b[0m \u001b[0mtemp\u001b[0m\u001b[0;34m.\u001b[0m\u001b[0mrename\u001b[0m\u001b[0;34m(\u001b[0m\u001b[0mcolumns\u001b[0m\u001b[0;34m=\u001b[0m\u001b[0;34m{\u001b[0m\u001b[0;34m\"Magnitude\"\u001b[0m\u001b[0;34m:\u001b[0m \u001b[0;34m\"X\"\u001b[0m\u001b[0;34m}\u001b[0m\u001b[0;34m)\u001b[0m\u001b[0;34m\u001b[0m\u001b[0;34m\u001b[0m\u001b[0m\n\u001b[1;32m     16\u001b[0m         \u001b[0mtemp\u001b[0m \u001b[0;34m=\u001b[0m \u001b[0mtemp\u001b[0m\u001b[0;34m.\u001b[0m\u001b[0mrename\u001b[0m\u001b[0;34m(\u001b[0m\u001b[0mcolumns\u001b[0m\u001b[0;34m=\u001b[0m\u001b[0;34m{\u001b[0m\u001b[0;34m\"Freq\"\u001b[0m\u001b[0;34m:\u001b[0m \u001b[0;34m\"y\"\u001b[0m\u001b[0;34m}\u001b[0m\u001b[0;34m)\u001b[0m\u001b[0;34m\u001b[0m\u001b[0;34m\u001b[0m\u001b[0m\n",
            "\u001b[0;32m/usr/local/lib/python3.8/dist-packages/pandas/core/indexing.py\u001b[0m in \u001b[0;36m__getitem__\u001b[0;34m(self, key)\u001b[0m\n\u001b[1;32m    923\u001b[0m                 \u001b[0;32mwith\u001b[0m \u001b[0msuppress\u001b[0m\u001b[0;34m(\u001b[0m\u001b[0mKeyError\u001b[0m\u001b[0;34m,\u001b[0m \u001b[0mIndexError\u001b[0m\u001b[0;34m)\u001b[0m\u001b[0;34m:\u001b[0m\u001b[0;34m\u001b[0m\u001b[0;34m\u001b[0m\u001b[0m\n\u001b[1;32m    924\u001b[0m                     \u001b[0;32mreturn\u001b[0m \u001b[0mself\u001b[0m\u001b[0;34m.\u001b[0m\u001b[0mobj\u001b[0m\u001b[0;34m.\u001b[0m\u001b[0m_get_value\u001b[0m\u001b[0;34m(\u001b[0m\u001b[0;34m*\u001b[0m\u001b[0mkey\u001b[0m\u001b[0;34m,\u001b[0m \u001b[0mtakeable\u001b[0m\u001b[0;34m=\u001b[0m\u001b[0mself\u001b[0m\u001b[0;34m.\u001b[0m\u001b[0m_takeable\u001b[0m\u001b[0;34m)\u001b[0m\u001b[0;34m\u001b[0m\u001b[0;34m\u001b[0m\u001b[0m\n\u001b[0;32m--> 925\u001b[0;31m             \u001b[0;32mreturn\u001b[0m \u001b[0mself\u001b[0m\u001b[0;34m.\u001b[0m\u001b[0m_getitem_tuple\u001b[0m\u001b[0;34m(\u001b[0m\u001b[0mkey\u001b[0m\u001b[0;34m)\u001b[0m\u001b[0;34m\u001b[0m\u001b[0;34m\u001b[0m\u001b[0m\n\u001b[0m\u001b[1;32m    926\u001b[0m         \u001b[0;32melse\u001b[0m\u001b[0;34m:\u001b[0m\u001b[0;34m\u001b[0m\u001b[0;34m\u001b[0m\u001b[0m\n\u001b[1;32m    927\u001b[0m             \u001b[0;31m# we by definition only have the 0th axis\u001b[0m\u001b[0;34m\u001b[0m\u001b[0;34m\u001b[0m\u001b[0;34m\u001b[0m\u001b[0m\n",
            "\u001b[0;32m/usr/local/lib/python3.8/dist-packages/pandas/core/indexing.py\u001b[0m in \u001b[0;36m_getitem_tuple\u001b[0;34m(self, tup)\u001b[0m\n\u001b[1;32m   1508\u001b[0m             \u001b[0;32mreturn\u001b[0m \u001b[0mself\u001b[0m\u001b[0;34m.\u001b[0m\u001b[0m_getitem_lowerdim\u001b[0m\u001b[0;34m(\u001b[0m\u001b[0mtup\u001b[0m\u001b[0;34m)\u001b[0m\u001b[0;34m\u001b[0m\u001b[0;34m\u001b[0m\u001b[0m\n\u001b[1;32m   1509\u001b[0m \u001b[0;34m\u001b[0m\u001b[0m\n\u001b[0;32m-> 1510\u001b[0;31m         \u001b[0;32mreturn\u001b[0m \u001b[0mself\u001b[0m\u001b[0;34m.\u001b[0m\u001b[0m_getitem_tuple_same_dim\u001b[0m\u001b[0;34m(\u001b[0m\u001b[0mtup\u001b[0m\u001b[0;34m)\u001b[0m\u001b[0;34m\u001b[0m\u001b[0;34m\u001b[0m\u001b[0m\n\u001b[0m\u001b[1;32m   1511\u001b[0m \u001b[0;34m\u001b[0m\u001b[0m\n\u001b[1;32m   1512\u001b[0m     \u001b[0;32mdef\u001b[0m \u001b[0m_get_list_axis\u001b[0m\u001b[0;34m(\u001b[0m\u001b[0mself\u001b[0m\u001b[0;34m,\u001b[0m \u001b[0mkey\u001b[0m\u001b[0;34m,\u001b[0m \u001b[0maxis\u001b[0m\u001b[0;34m:\u001b[0m \u001b[0mint\u001b[0m\u001b[0;34m)\u001b[0m\u001b[0;34m:\u001b[0m\u001b[0;34m\u001b[0m\u001b[0;34m\u001b[0m\u001b[0m\n",
            "\u001b[0;32m/usr/local/lib/python3.8/dist-packages/pandas/core/indexing.py\u001b[0m in \u001b[0;36m_getitem_tuple_same_dim\u001b[0;34m(self, tup)\u001b[0m\n\u001b[1;32m    804\u001b[0m                 \u001b[0;32mcontinue\u001b[0m\u001b[0;34m\u001b[0m\u001b[0;34m\u001b[0m\u001b[0m\n\u001b[1;32m    805\u001b[0m \u001b[0;34m\u001b[0m\u001b[0m\n\u001b[0;32m--> 806\u001b[0;31m             \u001b[0mretval\u001b[0m \u001b[0;34m=\u001b[0m \u001b[0mgetattr\u001b[0m\u001b[0;34m(\u001b[0m\u001b[0mretval\u001b[0m\u001b[0;34m,\u001b[0m \u001b[0mself\u001b[0m\u001b[0;34m.\u001b[0m\u001b[0mname\u001b[0m\u001b[0;34m)\u001b[0m\u001b[0;34m.\u001b[0m\u001b[0m_getitem_axis\u001b[0m\u001b[0;34m(\u001b[0m\u001b[0mkey\u001b[0m\u001b[0;34m,\u001b[0m \u001b[0maxis\u001b[0m\u001b[0;34m=\u001b[0m\u001b[0mi\u001b[0m\u001b[0;34m)\u001b[0m\u001b[0;34m\u001b[0m\u001b[0;34m\u001b[0m\u001b[0m\n\u001b[0m\u001b[1;32m    807\u001b[0m             \u001b[0;31m# We should never have retval.ndim < self.ndim, as that should\u001b[0m\u001b[0;34m\u001b[0m\u001b[0;34m\u001b[0m\u001b[0;34m\u001b[0m\u001b[0m\n\u001b[1;32m    808\u001b[0m             \u001b[0;31m#  be handled by the _getitem_lowerdim call above.\u001b[0m\u001b[0;34m\u001b[0m\u001b[0;34m\u001b[0m\u001b[0;34m\u001b[0m\u001b[0m\n",
            "\u001b[0;32m/usr/local/lib/python3.8/dist-packages/pandas/core/indexing.py\u001b[0m in \u001b[0;36m_getitem_axis\u001b[0;34m(self, key, axis)\u001b[0m\n\u001b[1;32m   1541\u001b[0m \u001b[0;34m\u001b[0m\u001b[0m\n\u001b[1;32m   1542\u001b[0m         \u001b[0;32mif\u001b[0m \u001b[0misinstance\u001b[0m\u001b[0;34m(\u001b[0m\u001b[0mkey\u001b[0m\u001b[0;34m,\u001b[0m \u001b[0mslice\u001b[0m\u001b[0;34m)\u001b[0m\u001b[0;34m:\u001b[0m\u001b[0;34m\u001b[0m\u001b[0;34m\u001b[0m\u001b[0m\n\u001b[0;32m-> 1543\u001b[0;31m             \u001b[0;32mreturn\u001b[0m \u001b[0mself\u001b[0m\u001b[0;34m.\u001b[0m\u001b[0m_get_slice_axis\u001b[0m\u001b[0;34m(\u001b[0m\u001b[0mkey\u001b[0m\u001b[0;34m,\u001b[0m \u001b[0maxis\u001b[0m\u001b[0;34m=\u001b[0m\u001b[0maxis\u001b[0m\u001b[0;34m)\u001b[0m\u001b[0;34m\u001b[0m\u001b[0;34m\u001b[0m\u001b[0m\n\u001b[0m\u001b[1;32m   1544\u001b[0m \u001b[0;34m\u001b[0m\u001b[0m\n\u001b[1;32m   1545\u001b[0m         \u001b[0;32mif\u001b[0m \u001b[0mis_iterator\u001b[0m\u001b[0;34m(\u001b[0m\u001b[0mkey\u001b[0m\u001b[0;34m)\u001b[0m\u001b[0;34m:\u001b[0m\u001b[0;34m\u001b[0m\u001b[0;34m\u001b[0m\u001b[0m\n",
            "\u001b[0;32m/usr/local/lib/python3.8/dist-packages/pandas/core/indexing.py\u001b[0m in \u001b[0;36m_get_slice_axis\u001b[0;34m(self, slice_obj, axis)\u001b[0m\n\u001b[1;32m   1576\u001b[0m \u001b[0;34m\u001b[0m\u001b[0m\n\u001b[1;32m   1577\u001b[0m         \u001b[0mlabels\u001b[0m \u001b[0;34m=\u001b[0m \u001b[0mobj\u001b[0m\u001b[0;34m.\u001b[0m\u001b[0m_get_axis\u001b[0m\u001b[0;34m(\u001b[0m\u001b[0maxis\u001b[0m\u001b[0;34m)\u001b[0m\u001b[0;34m\u001b[0m\u001b[0;34m\u001b[0m\u001b[0m\n\u001b[0;32m-> 1578\u001b[0;31m         \u001b[0mlabels\u001b[0m\u001b[0;34m.\u001b[0m\u001b[0m_validate_positional_slice\u001b[0m\u001b[0;34m(\u001b[0m\u001b[0mslice_obj\u001b[0m\u001b[0;34m)\u001b[0m\u001b[0;34m\u001b[0m\u001b[0;34m\u001b[0m\u001b[0m\n\u001b[0m\u001b[1;32m   1579\u001b[0m         \u001b[0;32mreturn\u001b[0m \u001b[0mself\u001b[0m\u001b[0;34m.\u001b[0m\u001b[0mobj\u001b[0m\u001b[0;34m.\u001b[0m\u001b[0m_slice\u001b[0m\u001b[0;34m(\u001b[0m\u001b[0mslice_obj\u001b[0m\u001b[0;34m,\u001b[0m \u001b[0maxis\u001b[0m\u001b[0;34m=\u001b[0m\u001b[0maxis\u001b[0m\u001b[0;34m)\u001b[0m\u001b[0;34m\u001b[0m\u001b[0;34m\u001b[0m\u001b[0m\n\u001b[1;32m   1580\u001b[0m \u001b[0;34m\u001b[0m\u001b[0m\n",
            "\u001b[0;32m/usr/local/lib/python3.8/dist-packages/pandas/core/indexes/base.py\u001b[0m in \u001b[0;36m_validate_positional_slice\u001b[0;34m(self, key)\u001b[0m\n\u001b[1;32m   3681\u001b[0m         \u001b[0;32mfor\u001b[0m \u001b[0meach\u001b[0m \u001b[0mof\u001b[0m \u001b[0mstart\u001b[0m\u001b[0;34m,\u001b[0m \u001b[0mstop\u001b[0m\u001b[0;34m,\u001b[0m \u001b[0;32mand\u001b[0m \u001b[0mstep\u001b[0m\u001b[0;34m.\u001b[0m\u001b[0;34m\u001b[0m\u001b[0;34m\u001b[0m\u001b[0m\n\u001b[1;32m   3682\u001b[0m         \"\"\"\n\u001b[0;32m-> 3683\u001b[0;31m         \u001b[0mself\u001b[0m\u001b[0;34m.\u001b[0m\u001b[0m_validate_indexer\u001b[0m\u001b[0;34m(\u001b[0m\u001b[0;34m\"positional\"\u001b[0m\u001b[0;34m,\u001b[0m \u001b[0mkey\u001b[0m\u001b[0;34m.\u001b[0m\u001b[0mstart\u001b[0m\u001b[0;34m,\u001b[0m \u001b[0;34m\"iloc\"\u001b[0m\u001b[0;34m)\u001b[0m\u001b[0;34m\u001b[0m\u001b[0;34m\u001b[0m\u001b[0m\n\u001b[0m\u001b[1;32m   3684\u001b[0m         \u001b[0mself\u001b[0m\u001b[0;34m.\u001b[0m\u001b[0m_validate_indexer\u001b[0m\u001b[0;34m(\u001b[0m\u001b[0;34m\"positional\"\u001b[0m\u001b[0;34m,\u001b[0m \u001b[0mkey\u001b[0m\u001b[0;34m.\u001b[0m\u001b[0mstop\u001b[0m\u001b[0;34m,\u001b[0m \u001b[0;34m\"iloc\"\u001b[0m\u001b[0;34m)\u001b[0m\u001b[0;34m\u001b[0m\u001b[0;34m\u001b[0m\u001b[0m\n\u001b[1;32m   3685\u001b[0m         \u001b[0mself\u001b[0m\u001b[0;34m.\u001b[0m\u001b[0m_validate_indexer\u001b[0m\u001b[0;34m(\u001b[0m\u001b[0;34m\"positional\"\u001b[0m\u001b[0;34m,\u001b[0m \u001b[0mkey\u001b[0m\u001b[0;34m.\u001b[0m\u001b[0mstep\u001b[0m\u001b[0;34m,\u001b[0m \u001b[0;34m\"iloc\"\u001b[0m\u001b[0;34m)\u001b[0m\u001b[0;34m\u001b[0m\u001b[0;34m\u001b[0m\u001b[0m\n",
            "\u001b[0;32m/usr/local/lib/python3.8/dist-packages/pandas/core/indexes/base.py\u001b[0m in \u001b[0;36m_validate_indexer\u001b[0;34m(self, form, key, kind)\u001b[0m\n\u001b[1;32m   5717\u001b[0m \u001b[0;34m\u001b[0m\u001b[0m\n\u001b[1;32m   5718\u001b[0m         \u001b[0;32mif\u001b[0m \u001b[0mkey\u001b[0m \u001b[0;32mis\u001b[0m \u001b[0;32mnot\u001b[0m \u001b[0;32mNone\u001b[0m \u001b[0;32mand\u001b[0m \u001b[0;32mnot\u001b[0m \u001b[0mis_integer\u001b[0m\u001b[0;34m(\u001b[0m\u001b[0mkey\u001b[0m\u001b[0;34m)\u001b[0m\u001b[0;34m:\u001b[0m\u001b[0;34m\u001b[0m\u001b[0;34m\u001b[0m\u001b[0m\n\u001b[0;32m-> 5719\u001b[0;31m             \u001b[0;32mraise\u001b[0m \u001b[0mself\u001b[0m\u001b[0;34m.\u001b[0m\u001b[0m_invalid_indexer\u001b[0m\u001b[0;34m(\u001b[0m\u001b[0mform\u001b[0m\u001b[0;34m,\u001b[0m \u001b[0mkey\u001b[0m\u001b[0;34m)\u001b[0m\u001b[0;34m\u001b[0m\u001b[0;34m\u001b[0m\u001b[0m\n\u001b[0m\u001b[1;32m   5720\u001b[0m \u001b[0;34m\u001b[0m\u001b[0m\n\u001b[1;32m   5721\u001b[0m     \u001b[0;32mdef\u001b[0m \u001b[0m_maybe_cast_slice_bound\u001b[0m\u001b[0;34m(\u001b[0m\u001b[0mself\u001b[0m\u001b[0;34m,\u001b[0m \u001b[0mlabel\u001b[0m\u001b[0;34m,\u001b[0m \u001b[0mside\u001b[0m\u001b[0;34m:\u001b[0m \u001b[0mstr_t\u001b[0m\u001b[0;34m,\u001b[0m \u001b[0mkind\u001b[0m\u001b[0;34m=\u001b[0m\u001b[0mno_default\u001b[0m\u001b[0;34m)\u001b[0m\u001b[0;34m:\u001b[0m\u001b[0;34m\u001b[0m\u001b[0;34m\u001b[0m\u001b[0m\n",
            "\u001b[0;31mTypeError\u001b[0m: cannot do positional indexing on RangeIndex with these indexers [3.1] of type float"
          ]
        }
      ]
    },
    {
      "cell_type": "code",
      "source": [
        "D[18]"
      ],
      "metadata": {
        "colab": {
          "base_uri": "https://localhost:8080/"
        },
        "id": "Q7_QkalSbT-V",
        "outputId": "13736f14-65bb-4bc0-b741-a01e7ca72c94"
      },
      "execution_count": null,
      "outputs": [
        {
          "output_type": "execute_result",
          "data": {
            "text/plain": [
              "0.0935530434212869"
            ]
          },
          "metadata": {},
          "execution_count": 22
        }
      ]
    },
    {
      "cell_type": "code",
      "source": [
        "plt.plot(aggregated_data['Magnitude'][:-1], D, 'r*')"
      ],
      "metadata": {
        "colab": {
          "base_uri": "https://localhost:8080/",
          "height": 282
        },
        "id": "8Iu0zZQ-FLIV",
        "outputId": "7c31fb0b-9253-493c-ecab-65411858dd85"
      },
      "execution_count": null,
      "outputs": [
        {
          "output_type": "execute_result",
          "data": {
            "text/plain": [
              "[<matplotlib.lines.Line2D at 0x7fcc9ab61f40>]"
            ]
          },
          "metadata": {},
          "execution_count": 25
        },
        {
          "output_type": "display_data",
          "data": {
            "text/plain": [
              "<Figure size 432x288 with 1 Axes>"
            ],
            "image/png": "[encoded data removed]"
          },
          "metadata": {
            "needs_background": "light"
          }
        }
      ]
    },
    {
      "cell_type": "code",
      "source": [
        "Xmin=3.9\n",
        "n = len(test[test['Magnitude']>=Xmin])\n",
        "alpha = 1 + n * (np.log(test[test['Magnitude']>Xmin]['Magnitude'] / Xmin).sum())**-1\n",
        "alpha"
      ],
      "metadata": {
        "colab": {
          "base_uri": "https://localhost:8080/"
        },
        "id": "ea_tB7umH-ue",
        "outputId": "ac4697f8-b3d2-4241-bfff-b45b1af84610"
      },
      "execution_count": null,
      "outputs": [
        {
          "output_type": "execute_result",
          "data": {
            "text/plain": [
              "6.088845220918981"
            ]
          },
          "metadata": {},
          "execution_count": 26
        }
      ]
    },
    {
      "cell_type": "code",
      "source": [],
      "metadata": {
        "id": "c_b4ekhQ3CaF"
      },
      "execution_count": null,
      "outputs": []
    },
    {
      "cell_type": "code",
      "source": [],
      "metadata": {
        "id": "tVbp71IG3Ccb"
      },
      "execution_count": null,
      "outputs": []
    },
    {
      "cell_type": "code",
      "source": [],
      "metadata": {
        "id": "o9-fOzcU3Clu"
      },
      "execution_count": null,
      "outputs": []
    },
    {
      "cell_type": "code",
      "source": [
        "# def CDF_actual(x):\n",
        "#   if x < data['Magnitude'].min():\n",
        "#      return 0.0\n",
        "#   return float(data[data['Magnitude']<=x]['CDF'][-1:])\n",
        "\n",
        "# def CDF_fitted(x):\n",
        "#   if x < data['Magnitude'].min():\n",
        "#      return 0.0\n",
        "#   return float(data[data['Magnitude']<=x]['CDF Fitted'][-1:])"
      ],
      "metadata": {
        "id": "QTQWNLacH-xy"
      },
      "execution_count": 48,
      "outputs": []
    },
    {
      "cell_type": "code",
      "source": [
        "estimation = aggregated_data.copy()\n",
        "results = []\n",
        "x_axes = []\n",
        "D = []\n",
        "range = [3,4,0.1] # נבדוק את האיקסים החשודים בלהיות איקס מינימום בטווח הזה בין 3 ל-6, בצעדים של 0.1 בסקלה של ריכטר\n",
        "\n",
        "def KS_test_run(dataset, range):\n",
        "\n",
        "    start = range[0]\n",
        "    end = range[1]\n",
        "    step= range[2]\n",
        "\n",
        "    while start <= end:\n",
        "        tmp = data.copy()\n",
        "        tmp = tmp.sort_values(by=['Magnitude'])\n",
        "        tmp = tmp[tmp['Magnitude'] >= start]\n",
        "        KS = tmp['delta'].max()\n",
        "        D.append(KS)\n",
        "        x=tmp['Magnitude'].iloc[0]\n",
        "        x_axes.append(x)\n",
        "\n",
        "        print('x={}  D={}'.format(x, KS))\n",
        "\n",
        "        start += step\n",
        "\n",
        "\n",
        "\n",
        "\n",
        "KS_test_run(dataset=estimation, range=range)"
      ],
      "metadata": {
        "colab": {
          "base_uri": "https://localhost:8080/"
        },
        "id": "BrwkVk2V2BIs",
        "outputId": "ca6f0fb1-d837-4c4b-d598-75bf405629ce"
      },
      "execution_count": 73,
      "outputs": [
        {
          "output_type": "stream",
          "name": "stdout",
          "text": [
            "x=3.0  D=0.038483208133327285\n",
            "x=3.1  D=0.028258233864229654\n",
            "x=3.2  D=0.01932290294493222\n",
            "x=3.4  D=0.008840867528199903\n",
            "x=3.5  D=0.0046209752487043065\n",
            "x=3.6  D=0.0027126405081251415\n",
            "x=3.7  D=0.0011625401303662075\n",
            "x=3.8  D=0.0011625401303662075\n",
            "x=3.9  D=0.0011625401303662075\n",
            "x=4.0  D=0.0011625401303662075\n"
          ]
        }
      ]
    },
    {
      "cell_type": "code",
      "source": [
        "plt.plot(x_axes, D, 'r*')"
      ],
      "metadata": {
        "colab": {
          "base_uri": "https://localhost:8080/",
          "height": 284
        },
        "id": "u2uSqAkV6UcC",
        "outputId": "72de4e00-4a3d-4640-d3b4-cf94a02913ce"
      },
      "execution_count": 75,
      "outputs": [
        {
          "output_type": "execute_result",
          "data": {
            "text/plain": [
              "[<matplotlib.lines.Line2D at 0x7f5d30e5dcd0>]"
            ]
          },
          "metadata": {},
          "execution_count": 75
        },
        {
          "output_type": "display_data",
          "data": {
            "text/plain": [
              "<Figure size 432x288 with 1 Axes>"
            ],
            "image/png": "[encoded data removed]"
          },
          "metadata": {
            "needs_background": "light"
          }
        }
      ]
    },
    {
      "cell_type": "code",
      "source": [
        "min(D)"
      ],
      "metadata": {
        "colab": {
          "base_uri": "https://localhost:8080/"
        },
        "id": "6y2YW-Ur75aR",
        "outputId": "6a1c5710-0eae-415a-c084-086ba7c9445f"
      },
      "execution_count": 72,
      "outputs": [
        {
          "output_type": "execute_result",
          "data": {
            "text/plain": [
              "8.600361883503993e-05"
            ]
          },
          "metadata": {},
          "execution_count": 72
        }
      ]
    },
    {
      "cell_type": "code",
      "source": [
        "data[10:20]"
      ],
      "metadata": {
        "colab": {
          "base_uri": "https://localhost:8080/",
          "height": 363
        },
        "id": "3xDc9pdN2BU5",
        "outputId": "c5907847-229c-4494-d8ea-d9f81d10303d"
      },
      "execution_count": 68,
      "outputs": [
        {
          "output_type": "execute_result",
          "data": {
            "text/plain": [
              "    Magnitude  Freq  Cumulative Freq       CDF      CCDF  Fitted Model  \\\n",
              "11        3.0   163             7361  0.910339  0.089661    125.588224   \n",
              "10        3.1   165             7526  0.930744  0.069256     98.005847   \n",
              "12        3.2   137             7663  0.947687  0.052313     77.085836   \n",
              "13        3.3    90             7753  0.958818  0.041182     61.081014   \n",
              "14        3.4    87             7840  0.969577  0.030423     48.736609   \n",
              "15        3.5    67             7907  0.977863  0.022137     39.142345   \n",
              "16        3.6    42             7949  0.983057  0.016943     31.631564   \n",
              "17        3.7    38             7987  0.987757  0.012243     25.711639   \n",
              "19        3.8    20             8007  0.990230  0.009770     21.015461   \n",
              "18        3.9    25             8032  0.993322  0.006678     17.267259   \n",
              "\n",
              "    Cumulative Model  CDF Fitted     delta  \n",
              "11       9133.991633    0.948822  0.038483  \n",
              "10       9231.997480    0.959003  0.028258  \n",
              "12       9309.083316    0.967010  0.019323  \n",
              "13       9370.164330    0.973355  0.014538  \n",
              "14       9418.900939    0.978418  0.008841  \n",
              "15       9458.043284    0.982484  0.004621  \n",
              "16       9489.674847    0.985770  0.002713  \n",
              "17       9515.386487    0.988441  0.000684  \n",
              "19       9536.401947    0.990624  0.000394  \n",
              "18       9553.669207    0.992417  0.000904  "
            ],
            "text/html": [
              "\n",
              "  <div id=\"df-60839327-18a5-4b2a-9c2c-3f59eb9070c6\">\n",
              "    <div class=\"colab-df-container\">\n",
              "      <div>\n",
              "<style scoped>\n",
              "    .dataframe tbody tr th:only-of-type {\n",
              "        vertical-align: middle;\n",
              "    }\n",
              "\n",
              "    .dataframe tbody tr th {\n",
              "        vertical-align: top;\n",
              "    }\n",
              "\n",
              "    .dataframe thead th {\n",
              "        text-align: right;\n",
              "    }\n",
              "</style>\n",
              "<table border=\"1\" class=\"dataframe\">\n",
              "  <thead>\n",
              "    <tr style=\"text-align: right;\">\n",
              "      <th></th>\n",
              "      <th>Magnitude</th>\n",
              "      <th>Freq</th>\n",
              "      <th>Cumulative Freq</th>\n",
              "      <th>CDF</th>\n",
              "      <th>CCDF</th>\n",
              "      <th>Fitted Model</th>\n",
              "      <th>Cumulative Model</th>\n",
              "      <th>CDF Fitted</th>\n",
              "      <th>delta</th>\n",
              "    </tr>\n",
              "  </thead>\n",
              "  <tbody>\n",
              "    <tr>\n",
              "      <th>11</th>\n",
              "      <td>3.0</td>\n",
              "      <td>163</td>\n",
              "      <td>7361</td>\n",
              "      <td>0.910339</td>\n",
              "      <td>0.089661</td>\n",
              "      <td>125.588224</td>\n",
              "      <td>9133.991633</td>\n",
              "      <td>0.948822</td>\n",
              "      <td>0.038483</td>\n",
              "    </tr>\n",
              "    <tr>\n",
              "      <th>10</th>\n",
              "      <td>3.1</td>\n",
              "      <td>165</td>\n",
              "      <td>7526</td>\n",
              "      <td>0.930744</td>\n",
              "      <td>0.069256</td>\n",
              "      <td>98.005847</td>\n",
              "      <td>9231.997480</td>\n",
              "      <td>0.959003</td>\n",
              "      <td>0.028258</td>\n",
              "    </tr>\n",
              "    <tr>\n",
              "      <th>12</th>\n",
              "      <td>3.2</td>\n",
              "      <td>137</td>\n",
              "      <td>7663</td>\n",
              "      <td>0.947687</td>\n",
              "      <td>0.052313</td>\n",
              "      <td>77.085836</td>\n",
              "      <td>9309.083316</td>\n",
              "      <td>0.967010</td>\n",
              "      <td>0.019323</td>\n",
              "    </tr>\n",
              "    <tr>\n",
              "      <th>13</th>\n",
              "      <td>3.3</td>\n",
              "      <td>90</td>\n",
              "      <td>7753</td>\n",
              "      <td>0.958818</td>\n",
              "      <td>0.041182</td>\n",
              "      <td>61.081014</td>\n",
              "      <td>9370.164330</td>\n",
              "      <td>0.973355</td>\n",
              "      <td>0.014538</td>\n",
              "    </tr>\n",
              "    <tr>\n",
              "      <th>14</th>\n",
              "      <td>3.4</td>\n",
              "      <td>87</td>\n",
              "      <td>7840</td>\n",
              "      <td>0.969577</td>\n",
              "      <td>0.030423</td>\n",
              "      <td>48.736609</td>\n",
              "      <td>9418.900939</td>\n",
              "      <td>0.978418</td>\n",
              "      <td>0.008841</td>\n",
              "    </tr>\n",
              "    <tr>\n",
              "      <th>15</th>\n",
              "      <td>3.5</td>\n",
              "      <td>67</td>\n",
              "      <td>7907</td>\n",
              "      <td>0.977863</td>\n",
              "      <td>0.022137</td>\n",
              "      <td>39.142345</td>\n",
              "      <td>9458.043284</td>\n",
              "      <td>0.982484</td>\n",
              "      <td>0.004621</td>\n",
              "    </tr>\n",
              "    <tr>\n",
              "      <th>16</th>\n",
              "      <td>3.6</td>\n",
              "      <td>42</td>\n",
              "      <td>7949</td>\n",
              "      <td>0.983057</td>\n",
              "      <td>0.016943</td>\n",
              "      <td>31.631564</td>\n",
              "      <td>9489.674847</td>\n",
              "      <td>0.985770</td>\n",
              "      <td>0.002713</td>\n",
              "    </tr>\n",
              "    <tr>\n",
              "      <th>17</th>\n",
              "      <td>3.7</td>\n",
              "      <td>38</td>\n",
              "      <td>7987</td>\n",
              "      <td>0.987757</td>\n",
              "      <td>0.012243</td>\n",
              "      <td>25.711639</td>\n",
              "      <td>9515.386487</td>\n",
              "      <td>0.988441</td>\n",
              "      <td>0.000684</td>\n",
              "    </tr>\n",
              "    <tr>\n",
              "      <th>19</th>\n",
              "      <td>3.8</td>\n",
              "      <td>20</td>\n",
              "      <td>8007</td>\n",
              "      <td>0.990230</td>\n",
              "      <td>0.009770</td>\n",
              "      <td>21.015461</td>\n",
              "      <td>9536.401947</td>\n",
              "      <td>0.990624</td>\n",
              "      <td>0.000394</td>\n",
              "    </tr>\n",
              "    <tr>\n",
              "      <th>18</th>\n",
              "      <td>3.9</td>\n",
              "      <td>25</td>\n",
              "      <td>8032</td>\n",
              "      <td>0.993322</td>\n",
              "      <td>0.006678</td>\n",
              "      <td>17.267259</td>\n",
              "      <td>9553.669207</td>\n",
              "      <td>0.992417</td>\n",
              "      <td>0.000904</td>\n",
              "    </tr>\n",
              "  </tbody>\n",
              "</table>\n",
              "</div>\n",
              "      <button class=\"colab-df-convert\" onclick=\"convertToInteractive('df-60839327-18a5-4b2a-9c2c-3f59eb9070c6')\"\n",
              "              title=\"Convert this dataframe to an interactive table.\"\n",
              "              style=\"display:none;\">\n",
              "        \n",
              "  <svg xmlns=\"http://www.w3.org/2000/svg\" height=\"24px\"viewBox=\"0 0 24 24\"\n",
              "       width=\"24px\">\n",
              "    <path d=\"M0 0h24v24H0V0z\" fill=\"none\"/>\n",
              "    <path d=\"M18.56 5.44l.94 2.06.94-2.06 2.06-.94-2.06-.94-.94-2.06-.94 2.06-2.06.94zm-11 1L8.5 8.5l.94-2.06 2.06-.94-2.06-.94L8.5 2.5l-.94 2.06-2.06.94zm10 10l.94 2.06.94-2.06 2.06-.94-2.06-.94-.94-2.06-.94 2.06-2.06.94z\"/><path d=\"M17.41 7.96l-1.37-1.37c-.4-.4-.92-.59-1.43-.59-.52 0-1.04.2-1.43.59L10.3 9.45l-7.72 7.72c-.78.78-.78 2.05 0 2.83L4 21.41c.39.39.9.59 1.41.59.51 0 1.02-.2 1.41-.59l7.78-7.78 2.81-2.81c.8-.78.8-2.07 0-2.86zM5.41 20L4 18.59l7.72-7.72 1.47 1.35L5.41 20z\"/>\n",
              "  </svg>\n",
              "      </button>\n",
              "      \n",
              "  <style>\n",
              "    .colab-df-container {\n",
              "      display:flex;\n",
              "      flex-wrap:wrap;\n",
              "      gap: 12px;\n",
              "    }\n",
              "\n",
              "    .colab-df-convert {\n",
              "      background-color: #E8F0FE;\n",
              "      border: none;\n",
              "      border-radius: 50%;\n",
              "      cursor: pointer;\n",
              "      display: none;\n",
              "      fill: #1967D2;\n",
              "      height: 32px;\n",
              "      padding: 0 0 0 0;\n",
              "      width: 32px;\n",
              "    }\n",
              "\n",
              "    .colab-df-convert:hover {\n",
              "      background-color: #E2EBFA;\n",
              "      box-shadow: 0px 1px 2px rgba(60, 64, 67, 0.3), 0px 1px 3px 1px rgba(60, 64, 67, 0.15);\n",
              "      fill: #174EA6;\n",
              "    }\n",
              "\n",
              "    [theme=dark] .colab-df-convert {\n",
              "      background-color: #3B4455;\n",
              "      fill: #D2E3FC;\n",
              "    }\n",
              "\n",
              "    [theme=dark] .colab-df-convert:hover {\n",
              "      background-color: #434B5C;\n",
              "      box-shadow: 0px 1px 3px 1px rgba(0, 0, 0, 0.15);\n",
              "      filter: drop-shadow(0px 1px 2px rgba(0, 0, 0, 0.3));\n",
              "      fill: #FFFFFF;\n",
              "    }\n",
              "  </style>\n",
              "\n",
              "      <script>\n",
              "        const buttonEl =\n",
              "          document.querySelector('#df-60839327-18a5-4b2a-9c2c-3f59eb9070c6 button.colab-df-convert');\n",
              "        buttonEl.style.display =\n",
              "          google.colab.kernel.accessAllowed ? 'block' : 'none';\n",
              "\n",
              "        async function convertToInteractive(key) {\n",
              "          const element = document.querySelector('#df-60839327-18a5-4b2a-9c2c-3f59eb9070c6');\n",
              "          const dataTable =\n",
              "            await google.colab.kernel.invokeFunction('convertToInteractive',\n",
              "                                                     [key], {});\n",
              "          if (!dataTable) return;\n",
              "\n",
              "          const docLinkHtml = 'Like what you see? Visit the ' +\n",
              "            '<a target=\"_blank\" href=https://colab.research.google.com/notebooks/data_table.ipynb>data table notebook</a>'\n",
              "            + ' to learn more about interactive tables.';\n",
              "          element.innerHTML = '';\n",
              "          dataTable['output_type'] = 'display_data';\n",
              "          await google.colab.output.renderOutput(dataTable, element);\n",
              "          const docLink = document.createElement('div');\n",
              "          docLink.innerHTML = docLinkHtml;\n",
              "          element.appendChild(docLink);\n",
              "        }\n",
              "      </script>\n",
              "    </div>\n",
              "  </div>\n",
              "  "
            ]
          },
          "metadata": {},
          "execution_count": 68
        }
      ]
    },
    {
      "cell_type": "code",
      "source": [],
      "metadata": {
        "id": "Fx8KkAPw2BXK"
      },
      "execution_count": null,
      "outputs": []
    },
    {
      "cell_type": "code",
      "source": [
        "def KS_general(cdf1, cdf2, range=[data['Magnitude'].min(),data['Magnitude'].max(),0.1]):\n",
        "  D= []\n",
        "  X = []\n",
        "  Diff=[]\n",
        "  start=range[0]\n",
        "  end=range[1]\n",
        "  step=range[2]\n",
        "  for i in np.arange(start,end,step):\n",
        "     diff = abs(cdf2(i) - cdf1(i))\n",
        "     D.append(diff) \n",
        "    #  print('X={} diff={}'.format(i,diff))\n",
        "     X.append(i)\n",
        "     Diff.append(diff)\n",
        "\n",
        "  return X, Diff \n",
        "\n",
        "\n",
        "\n",
        "\n",
        "# KS_general(CDF_fitted, CDF_actual)"
      ],
      "metadata": {
        "id": "ALdx4WPqYXe-"
      },
      "execution_count": null,
      "outputs": []
    },
    {
      "cell_type": "code",
      "source": [],
      "metadata": {
        "id": "c7UQfXwDYXrr"
      },
      "execution_count": null,
      "outputs": []
    },
    {
      "cell_type": "code",
      "source": [],
      "metadata": {
        "id": "tvz9NtKxH-30"
      },
      "execution_count": null,
      "outputs": []
    },
    {
      "cell_type": "code",
      "source": [],
      "metadata": {
        "id": "YQJANBB-22-U"
      },
      "execution_count": null,
      "outputs": []
    },
    {
      "cell_type": "markdown",
      "source": [
        "***Parameeters estimation check:***"
      ],
      "metadata": {
        "id": "amCx0hVP232g"
      }
    },
    {
      "cell_type": "code",
      "source": [
        "!pip install powerlaw"
      ],
      "metadata": {
        "id": "ZbUA82vg3JkY",
        "colab": {
          "base_uri": "https://localhost:8080/"
        },
        "outputId": "cf3402e9-062c-46f8-c06d-199d2d31547f"
      },
      "execution_count": null,
      "outputs": [
        {
          "output_type": "stream",
          "name": "stdout",
          "text": [
            "Looking in indexes: https://pypi.org/simple, https://us-python.pkg.dev/colab-wheels/public/simple/\n",
            "Requirement already satisfied: powerlaw in /usr/local/lib/python3.8/dist-packages (1.5)\n",
            "Requirement already satisfied: mpmath in /usr/local/lib/python3.8/dist-packages (from powerlaw) (1.2.1)\n",
            "Requirement already satisfied: numpy in /usr/local/lib/python3.8/dist-packages (from powerlaw) (1.21.6)\n",
            "Requirement already satisfied: matplotlib in /usr/local/lib/python3.8/dist-packages (from powerlaw) (3.2.2)\n",
            "Requirement already satisfied: scipy in /usr/local/lib/python3.8/dist-packages (from powerlaw) (1.7.3)\n",
            "Requirement already satisfied: pyparsing!=2.0.4,!=2.1.2,!=2.1.6,>=2.0.1 in /usr/local/lib/python3.8/dist-packages (from matplotlib->powerlaw) (3.0.9)\n",
            "Requirement already satisfied: kiwisolver>=1.0.1 in /usr/local/lib/python3.8/dist-packages (from matplotlib->powerlaw) (1.4.4)\n",
            "Requirement already satisfied: python-dateutil>=2.1 in /usr/local/lib/python3.8/dist-packages (from matplotlib->powerlaw) (2.8.2)\n",
            "Requirement already satisfied: cycler>=0.10 in /usr/local/lib/python3.8/dist-packages (from matplotlib->powerlaw) (0.11.0)\n",
            "Requirement already satisfied: six>=1.5 in /usr/local/lib/python3.8/dist-packages (from python-dateutil>=2.1->matplotlib->powerlaw) (1.15.0)\n"
          ]
        }
      ]
    },
    {
      "cell_type": "code",
      "source": [
        "import powerlaw\n",
        "data = aggregated_data['Magnitude'] # data can be list or numpy array\n",
        "results = powerlaw.Fit(data)\n",
        "print('alpha = {}'.format(results.power_law.alpha))\n",
        "print('Xmin = {}'.format(results.power_law.xmin))\n",
        "R, p = results.distribution_compare('power_law', 'lognormal')"
      ],
      "metadata": {
        "colab": {
          "base_uri": "https://localhost:8080/"
        },
        "id": "QJS-aPhm23Aq",
        "outputId": "7c602573-048b-4dd5-beb7-0b4fdb17cc0e"
      },
      "execution_count": null,
      "outputs": [
        {
          "output_type": "stream",
          "name": "stdout",
          "text": [
            "Calculating best minimal value for power law fit\n",
            "xmin progress: 00%\rxmin progress: 03%\rxmin progress: 06%\rxmin progress: 09%\rxmin progress: 12%\rxmin progress: 15%\rxmin progress: 18%\rxmin progress: 21%\rxmin progress: 25%\rxmin progress: 28%\rxmin progress: 31%\rxmin progress: 34%\rxmin progress: 37%\rxmin progress: 40%\rxmin progress: 43%\rxmin progress: 46%\rxmin progress: 50%\rxmin progress: 53%\rxmin progress: 56%\rxmin progress: 59%\rxmin progress: 62%\rxmin progress: 65%\rxmin progress: 68%\rxmin progress: 71%\rxmin progress: 75%\rxmin progress: 78%\rxmin progress: 81%\rxmin progress: 84%\rxmin progress: 87%\rxmin progress: 90%\rxmin progress: 93%\rxmin progress: 96%\ralpha = 6.088845220918981\n",
            "Xmin = 3.9\n"
          ]
        }
      ]
    },
    {
      "cell_type": "code",
      "source": [],
      "metadata": {
        "id": "vgea5h0f4J_V"
      },
      "execution_count": null,
      "outputs": []
    },
    {
      "cell_type": "markdown",
      "source": [
        "### Tests of Estimates for the Lower Bound"
      ],
      "metadata": {
        "id": "p_IOP2Xl6aD9"
      }
    },
    {
      "cell_type": "markdown",
      "source": [
        "**Goodness of fit**"
      ],
      "metadata": {
        "id": "6Pvt63qR64cF"
      }
    },
    {
      "cell_type": "code",
      "source": [
        "p_law = lambda Xmin, alpha: Xmin * (1-np.random.uniform(0,1,1)[0])**(1/(1-alpha))"
      ],
      "metadata": {
        "id": "4uduhE9TdvTD"
      },
      "execution_count": null,
      "outputs": []
    },
    {
      "cell_type": "code",
      "source": [
        "def create_sintetic_data(size):\n",
        "  Xmin=3.9\n",
        "  alpha=6.088\n",
        "  distribution = []\n",
        "  for i in range(size):\n",
        "    p = round(p_law(Xmin, alpha),1) \n",
        "    distribution.append(p)\n",
        "\n",
        "  return distribution"
      ],
      "metadata": {
        "id": "2t8w0nEIfmmX"
      },
      "execution_count": null,
      "outputs": []
    },
    {
      "cell_type": "code",
      "source": [
        "sintetic_data_catalog = [] # 1000 power-law distributed datasets of 5000 observations each\n",
        "\n",
        "for i in range(1000):\n",
        "  tmp = create_sintetic_data(5000)\n",
        "  sintetic_data_catalog.append(tmp)"
      ],
      "metadata": {
        "id": "ZbSCUe-Yfm61"
      },
      "execution_count": null,
      "outputs": []
    },
    {
      "cell_type": "code",
      "source": [
        "import time \n",
        "KS_array = []\n",
        "\n",
        "for i in range(len(sintetic_data_catalog)):\n",
        "\n",
        "    t = pd.DataFrame(sintetic_data_catalog[i], columns=['magnitude'])\n",
        "    tmp = pd.DataFrame(t['magnitude'].value_counts().reset_index().rename(columns={\"index\": \"Magnitude\", \"magnitude\": \"Freq\"})).sort_values('Magnitude')\n",
        "    tmp['CDF'] = tmp['Freq'].cumsum() / tmp['Freq'].sum()\n",
        "\n",
        "    X = tmp['Magnitude']\n",
        "    y = tmp['Freq']\n",
        "    lnX = np.log(X)\n",
        "    lnY = np.log(y)\n",
        "    b, lna = np.polyfit(lnX, lnY, 1) # Minimizes the squared error\n",
        "    a = np.exp(lna)\n",
        "    # print('power={} sigma={}'.format(b,a))\n",
        "\n",
        "    fx = lambda x: a * x**b\n",
        "\n",
        "    tmp['Model'] = fx(tmp['Magnitude'])\n",
        "    tmp['CDF_model'] = tmp['Model'].cumsum() / tmp['Model'].sum()\n",
        "    tmp['delta'] = abs(tmp['CDF'] - tmp['CDF_model'])\n",
        "    KS = tmp['delta'].max()\n",
        "    KS_array.append(KS)\n",
        "\n",
        "    # plt.plot(tmp['Magnitude'], tmp['CDF'], 'r-')\n",
        "    # plt.plot(tmp['Magnitude'], tmp['CDF_model'], 'b--')\n",
        "    # plt.show()\n",
        "\n",
        "    # time.sleep(2.4)\n",
        "\n"
      ],
      "metadata": {
        "id": "Nq8ORwrTXwGn"
      },
      "execution_count": null,
      "outputs": []
    },
    {
      "cell_type": "code",
      "source": [
        "Dn = D[18]\n",
        "def find_pvalue():\n",
        "  counter = 0\n",
        "  for i in range(len(KS_array)):\n",
        "    if KS_array[i]<Dn:\n",
        "      counter+=1\n",
        "  return counter/len(KS_array)"
      ],
      "metadata": {
        "id": "aORT1C9rXVjC"
      },
      "execution_count": null,
      "outputs": []
    },
    {
      "cell_type": "code",
      "source": [
        "print(find_pvalue())"
      ],
      "metadata": {
        "colab": {
          "base_uri": "https://localhost:8080/"
        },
        "id": "wnGyHN7mdolL",
        "outputId": "b465f994-5e60-43e2-f3ab-22bc3c90b1c7"
      },
      "execution_count": null,
      "outputs": [
        {
          "output_type": "stream",
          "name": "stdout",
          "text": [
            "0.588\n"
          ]
        }
      ]
    },
    {
      "cell_type": "code",
      "source": [
        "Dn"
      ],
      "metadata": {
        "colab": {
          "base_uri": "https://localhost:8080/"
        },
        "id": "Qy7ftwfhdNdw",
        "outputId": "328675ab-8d0a-4538-894e-06213ec5b2e1"
      },
      "execution_count": null,
      "outputs": [
        {
          "output_type": "execute_result",
          "data": {
            "text/plain": [
              "0.0935530434212869"
            ]
          },
          "metadata": {},
          "execution_count": 425
        }
      ]
    },
    {
      "cell_type": "code",
      "source": [
        "KS_array"
      ],
      "metadata": {
        "colab": {
          "base_uri": "https://localhost:8080/"
        },
        "id": "_NIuhyDQZZCQ",
        "outputId": "6592cd2f-fc7e-4f20-fcf3-ce492b39d3f5"
      },
      "execution_count": null,
      "outputs": [
        {
          "output_type": "execute_result",
          "data": {
            "text/plain": [
              "[0.06923133281805283,\n",
              " 0.10834445954201288,\n",
              " 0.10118761928404052,\n",
              " 0.05000627356369125,\n",
              " 0.07369194914760524,\n",
              " 0.11916235922268614,\n",
              " 0.09834364715771893,\n",
              " 0.050959907492200474,\n",
              " 0.11059169155303794,\n",
              " 0.0721630888070689,\n",
              " 0.10348781811297514,\n",
              " 0.050267228102619854,\n",
              " 0.07873671955098005,\n",
              " 0.08586191302020685,\n",
              " 0.09061742951755591,\n",
              " 0.09020686290686508,\n",
              " 0.10538081003436883,\n",
              " 0.07379175556888129,\n",
              " 0.17987534698444652,\n",
              " 0.05723488859804249,\n",
              " 0.07011374366910728,\n",
              " 0.14125344311378873,\n",
              " 0.05032930197216823,\n",
              " 0.11077715595009774,\n",
              " 0.04186832027647164,\n",
              " 0.08771672805351616,\n",
              " 0.1003436936154668,\n",
              " 0.0915932529638731,\n",
              " 0.08057721832608267,\n",
              " 0.07372907220864788,\n",
              " 0.10191419610195596,\n",
              " 0.13542653649575442,\n",
              " 0.10572752427649124,\n",
              " 0.08130819474668227,\n",
              " 0.08736690617711562,\n",
              " 0.07555128830549529,\n",
              " 0.09162367916328751,\n",
              " 0.09476474495472154,\n",
              " 0.08105712479779581,\n",
              " 0.0628305559693616,\n",
              " 0.06899765186629103,\n",
              " 0.06990105790913226,\n",
              " 0.0779847451787018,\n",
              " 0.04258605579231388,\n",
              " 0.11636372301980147,\n",
              " 0.0585666118142939,\n",
              " 0.0851769265182507,\n",
              " 0.13454916049561838,\n",
              " 0.07965322308272438,\n",
              " 0.09850456895675908,\n",
              " 0.06794157663769418,\n",
              " 0.14505155087741095,\n",
              " 0.09682753644771447,\n",
              " 0.09089104289991079,\n",
              " 0.04145108972304397,\n",
              " 0.08069273806359001,\n",
              " 0.09532633881753427,\n",
              " 0.11858014057585609,\n",
              " 0.09694639734194976,\n",
              " 0.09703686979698478,\n",
              " 0.11941213514851734,\n",
              " 0.12658016639398362,\n",
              " 0.12045155716534717,\n",
              " 0.07777441562552334,\n",
              " 0.07881630806101037,\n",
              " 0.09850285414617344,\n",
              " 0.09841908865856897,\n",
              " 0.06255467576511997,\n",
              " 0.07291850746517392,\n",
              " 0.09131097161571389,\n",
              " 0.09294000462124719,\n",
              " 0.07546857177340349,\n",
              " 0.11776753925613859,\n",
              " 0.10357681217685444,\n",
              " 0.10782177293602135,\n",
              " 0.12893959296450797,\n",
              " 0.08998656744364197,\n",
              " 0.09091491222548043,\n",
              " 0.12792889453838807,\n",
              " 0.07607569083217991,\n",
              " 0.1161188755091831,\n",
              " 0.06428319816973438,\n",
              " 0.0723190130798399,\n",
              " 0.06814154887965673,\n",
              " 0.04351373327710519,\n",
              " 0.10928342538991609,\n",
              " 0.10001173624981818,\n",
              " 0.08406519521856803,\n",
              " 0.11621329675088554,\n",
              " 0.09646623321091596,\n",
              " 0.07043503240001603,\n",
              " 0.0702809561995213,\n",
              " 0.12582193492652116,\n",
              " 0.052782015160719564,\n",
              " 0.08694936457476055,\n",
              " 0.08385967883664902,\n",
              " 0.0699301325443662,\n",
              " 0.06228718799121302,\n",
              " 0.05224492014022242,\n",
              " 0.06773150555793683]"
            ]
          },
          "metadata": {},
          "execution_count": 423
        }
      ]
    },
    {
      "cell_type": "code",
      "source": [],
      "metadata": {
        "id": "VFZdPKa2ZZGw"
      },
      "execution_count": null,
      "outputs": []
    },
    {
      "cell_type": "code",
      "source": [],
      "metadata": {
        "id": "X3ebSca1ZZKh"
      },
      "execution_count": null,
      "outputs": []
    },
    {
      "cell_type": "code",
      "source": [],
      "metadata": {
        "id": "g7cyR84fXVla"
      },
      "execution_count": null,
      "outputs": []
    },
    {
      "cell_type": "code",
      "source": [
        "figure(figsize=(8, 6), dpi=80)\n",
        "plt.loglog(test['Magnitude'], test['Freq'], 'bo')\n",
        "plt.grid()\n",
        "plt.show()"
      ],
      "metadata": {
        "colab": {
          "base_uri": "https://localhost:8080/",
          "height": 418
        },
        "id": "QfLQG70gAPV_",
        "outputId": "b9effaa5-3bd7-4b24-f185-a9d0de810b1d"
      },
      "execution_count": null,
      "outputs": [
        {
          "output_type": "display_data",
          "data": {
            "text/plain": [
              "<Figure size 640x480 with 1 Axes>"
            ],
            "image/png": "[encoded data removed]"
          },
          "metadata": {
            "needs_background": "light"
          }
        }
      ]
    },
    {
      "cell_type": "code",
      "source": [],
      "metadata": {
        "id": "-XOnkVy2pPBB"
      },
      "execution_count": null,
      "outputs": []
    },
    {
      "cell_type": "code",
      "source": [],
      "metadata": {
        "id": "xVbti06spPIF"
      },
      "execution_count": null,
      "outputs": []
    },
    {
      "cell_type": "code",
      "source": [],
      "metadata": {
        "id": "bJJEonAe4SFc"
      },
      "execution_count": null,
      "outputs": []
    },
    {
      "cell_type": "code",
      "source": [],
      "metadata": {
        "id": "ZzDkHNHa4SIH"
      },
      "execution_count": null,
      "outputs": []
    },
    {
      "cell_type": "code",
      "source": [],
      "metadata": {
        "id": "CizI8e9H4SKg"
      },
      "execution_count": null,
      "outputs": []
    },
    {
      "cell_type": "code",
      "source": [],
      "metadata": {
        "id": "72O99q9r4SNA"
      },
      "execution_count": null,
      "outputs": []
    },
    {
      "cell_type": "code",
      "source": [],
      "metadata": {
        "id": "ZicTk5xZ4SPW"
      },
      "execution_count": null,
      "outputs": []
    },
    {
      "cell_type": "code",
      "source": [],
      "metadata": {
        "id": "Re0xlbpi4SRz"
      },
      "execution_count": null,
      "outputs": []
    },
    {
      "cell_type": "code",
      "source": [
        "# !pip install powerlaw "
      ],
      "metadata": {
        "id": "FOilw5ZrWEyK"
      },
      "execution_count": null,
      "outputs": []
    },
    {
      "cell_type": "code",
      "source": [
        "# import powerlaw\n",
        "# results = powerlaw.Fit(df['Magnitude'])\n",
        "# print(results.power_law.alpha)\n",
        "# print(results.power_law.xmin)\n",
        "# R, p = results.distribution_compare('power_law', 'lognormal')"
      ],
      "metadata": {
        "id": "CGpMgH5xVMYL"
      },
      "execution_count": null,
      "outputs": []
    },
    {
      "cell_type": "code",
      "source": [
        "# x = np.arange(1,101,1)\n",
        "# f = lambda x: 7*(x**9.5)\n",
        "# y = f(x)\n",
        "# plt.plot(x,y)\n"
      ],
      "metadata": {
        "colab": {
          "base_uri": "https://localhost:8080/",
          "height": 293
        },
        "id": "6KYcMwZgWQts",
        "outputId": "4697e5b7-57d1-48a0-ff6f-8589765eed1d"
      },
      "execution_count": null,
      "outputs": [
        {
          "output_type": "execute_result",
          "data": {
            "text/plain": [
              "[<matplotlib.lines.Line2D at 0x7f840c7c2df0>]"
            ]
          },
          "metadata": {},
          "execution_count": 397
        },
        {
          "output_type": "display_data",
          "data": {
            "text/plain": [
              "<Figure size 432x288 with 1 Axes>"
            ],
            "image/png": "[encoded data removed]"
          },
          "metadata": {
            "needs_background": "light"
          }
        }
      ]
    },
    {
      "cell_type": "code",
      "source": [
        "plt.loglog(x,y, 'r.')"
      ],
      "metadata": {
        "colab": {
          "base_uri": "https://localhost:8080/",
          "height": 286
        },
        "id": "AoI4VQoA6teC",
        "outputId": "80457d3a-f483-4555-f781-989f2a0600f6"
      },
      "execution_count": null,
      "outputs": [
        {
          "output_type": "execute_result",
          "data": {
            "text/plain": [
              "[<matplotlib.lines.Line2D at 0x7f840d1f86a0>]"
            ]
          },
          "metadata": {},
          "execution_count": 394
        },
        {
          "output_type": "display_data",
          "data": {
            "text/plain": [
              "<Figure size 432x288 with 1 Axes>"
            ],
            "image/png": "[encoded data removed]"
          },
          "metadata": {
            "needs_background": "light"
          }
        }
      ]
    },
    {
      "cell_type": "code",
      "source": [
        "# results = powerlaw.Fit(y)\n",
        "# print(results.power_law.alpha)\n",
        "# print(results.power_law.xmin)\n",
        "# R, p = results.distribution_compare('power_law', 'lognormal')\n",
        "# print('R:{}'.format(R))\n",
        "# print('p:{}'.format(p))"
      ],
      "metadata": {
        "colab": {
          "base_uri": "https://localhost:8080/"
        },
        "id": "8cM0kkfV1vkz",
        "outputId": "a1fbd8cb-f5e0-4b38-9c42-9bc7952c0d4f"
      },
      "execution_count": null,
      "outputs": [
        {
          "output_type": "stream",
          "name": "stdout",
          "text": [
            "Calculating best minimal value for power law fit\n",
            "xmin progress: 00%\rxmin progress: 01%\rxmin progress: 02%\rxmin progress: 03%\rxmin progress: 04%\rxmin progress: 05%\rxmin progress: 06%\rxmin progress: 07%\rxmin progress: 08%\rxmin progress: 09%\rxmin progress: 10%\rxmin progress: 11%\rxmin progress: 12%\rxmin progress: 13%\rxmin progress: 14%\rxmin progress: 15%\rxmin progress: 16%\rxmin progress: 17%\rxmin progress: 18%\rxmin progress: 19%\rxmin progress: 20%\rxmin progress: 21%\rxmin progress: 22%\rxmin progress: 23%\rxmin progress: 24%\rxmin progress: 25%\rxmin progress: 26%\rxmin progress: 27%\rxmin progress: 28%\rxmin progress: 29%\rxmin progress: 30%\rxmin progress: 31%\rxmin progress: 32%\rxmin progress: 33%\rxmin progress: 34%\rxmin progress: 35%\rxmin progress: 36%\rxmin progress: 37%\rxmin progress: 38%\rxmin progress: 39%\rxmin progress: 40%\rxmin progress: 41%\rxmin progress: 42%\rxmin progress: 43%\rxmin progress: 44%\rxmin progress: 45%\rxmin progress: 46%\rxmin progress: 47%\rxmin progress: 48%\rxmin progress: 49%\rxmin progress: 50%\rxmin progress: 51%\rxmin progress: 52%\rxmin progress: 53%\rxmin progress: 54%\rxmin progress: 55%\rxmin progress: 56%\rxmin progress: 57%\rxmin progress: 58%\rxmin progress: 59%\rxmin progress: 60%\rxmin progress: 61%\rxmin progress: 62%\rxmin progress: 63%\rxmin progress: 64%\rxmin progress: 65%\rxmin progress: 66%\rxmin progress: 67%\rxmin progress: 68%\rxmin progress: 69%\rxmin progress: 70%\rxmin progress: 71%\rxmin progress: 72%\rxmin progress: 73%\rxmin progress: 74%\rxmin progress: 75%\rxmin progress: 76%\rxmin progress: 77%\rxmin progress: 78%\rxmin progress: 79%\rxmin progress: 80%\rxmin progress: 81%\rxmin progress: 82%\rxmin progress: 83%\rxmin progress: 84%\rxmin progress: 85%\rxmin progress: 86%\rxmin progress: 87%\rxmin progress: 88%\rxmin progress: 89%\rxmin progress: 90%\rxmin progress: 91%\rxmin progress: 92%\rxmin progress: 93%\rxmin progress: 94%\rxmin progress: 95%\rxmin progress: 96%\rxmin progress: 97%\rxmin progress: 98%\r1.8609289253910957\n",
            "7.456850004233502e+18\n",
            "R:-4.147230883312865\n",
            "p:0.09673379885194519\n"
          ]
        }
      ]
    }
  ]
}