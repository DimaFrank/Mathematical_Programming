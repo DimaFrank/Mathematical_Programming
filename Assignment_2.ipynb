{
  "nbformat": 4,
  "nbformat_minor": 0,
  "metadata": {
    "colab": {
      "provenance": [],
      "authorship_tag": "ABX9TyNF+4igPttext2oiRv5sVwn",
      "include_colab_link": true
    },
    "kernelspec": {
      "name": "python3",
      "display_name": "Python 3"
    },
    "language_info": {
      "name": "python"
    }
  },
  "cells": [
    {
      "cell_type": "markdown",
      "metadata": {
        "id": "view-in-github",
        "colab_type": "text"
      },
      "source": [
        "<a href=\"https://colab.research.google.com/github/DimaFrank/Mathematical_Programming/blob/main/Assignment_2.ipynb\" target=\"_parent\"><img src=\"https://colab.research.google.com/assets/colab-badge.svg\" alt=\"Open In Colab\"/></a>"
      ]
    },
    {
      "cell_type": "markdown",
      "source": [
        "Student Name: Dima Frank\n",
        "\n",
        "Student Id: 327314308"
      ],
      "metadata": {
        "id": "dTw_Z_7XdddU"
      }
    },
    {
      "cell_type": "markdown",
      "source": [
        "### About the data."
      ],
      "metadata": {
        "id": "Yvd1sv6ZH7Po"
      }
    },
    {
      "cell_type": "markdown",
      "source": [
        "*For this task I will use the data of earthquakes in Italy between 2016-08-24 and 2016-11-30.*\n",
        "\n",
        "*The data is taken from kaggle:*\n",
        "\n",
        "https://www.kaggle.com/datasets/blackecho/italy-earthquakes\n",
        "\n",
        "\n",
        "*As it's know that the magnitude of earthquakes is power-law distributed relative to their frequency.*\n",
        "\n",
        "*Or we can also say that the frequency of earthquakes varies inversely with their intensity.* \n",
        "\n",
        "\n",
        "**Meta data:**\n",
        "\n",
        "The dataset contains events from 2016-08-24 to 2016-11-30. It's a single .csv file with the following header:\n",
        "\n",
        "Time,Latitude,Longitude,Depth/Km,Magnitude\n",
        "The dataset contains 8087 rows (8086 of data + 1 of header)\n"
      ],
      "metadata": {
        "id": "hXIDLWNMaqRT"
      }
    },
    {
      "cell_type": "markdown",
      "source": [
        "### Get data."
      ],
      "metadata": {
        "id": "_3ZTGmUKd5_A"
      }
    },
    {
      "cell_type": "code",
      "source": [
        "import os\n",
        "from google.colab import drive\n",
        "drive.mount('/content/drive')\n",
        "!wget --quiet --show-progress https://drive.google.com/drive/u/0/folders/1zKTXVP8ncsRRXgtFxA6MvL-lWirAoc6a"
      ],
      "metadata": {
        "colab": {
          "base_uri": "https://localhost:8080/"
        },
        "id": "29A1D7CgTpQ2",
        "outputId": "f99ff61b-b1dd-4298-8c18-68926668eba6"
      },
      "execution_count": 1,
      "outputs": [
        {
          "output_type": "stream",
          "name": "stdout",
          "text": [
            "Drive already mounted at /content/drive; to attempt to forcibly remount, call drive.mount(\"/content/drive\", force_remount=True).\n"
          ]
        }
      ]
    },
    {
      "cell_type": "code",
      "source": [
        "!ls /content/drive/MyDrive/ColabDatasets/"
      ],
      "metadata": {
        "colab": {
          "base_uri": "https://localhost:8080/"
        },
        "id": "v9rkiOHQUpY0",
        "outputId": "1d0d67a8-35d7-4892-bf25-69135c227b2e"
      },
      "execution_count": 2,
      "outputs": [
        {
          "output_type": "stream",
          "name": "stdout",
          "text": [
            "Italy_Earthquakes\t\t Retail_Store_Sales_Transactions.zip\n",
            "ItalyEarthquakes.zip\t\t rts22_test.csv\n",
            "Retail_Store_Sales_Transactions  user-ct-test-collection-01.txt.gz\n"
          ]
        }
      ]
    },
    {
      "cell_type": "code",
      "source": [
        "!unzip /content/drive/MyDrive/ColabDatasets/ItalyEarthquakes.zip -d /content/drive/MyDrive/ColabDatasets/Italy_Earthquakes/  "
      ],
      "metadata": {
        "id": "D9-UGaknUyNc",
        "outputId": "6bcc9983-c540-4846-971c-0332b327106f",
        "colab": {
          "base_uri": "https://localhost:8080/"
        }
      },
      "execution_count": null,
      "outputs": [
        {
          "output_type": "stream",
          "name": "stdout",
          "text": [
            "Archive:  /content/drive/MyDrive/ColabDatasets/ItalyEarthquakes.zip\n",
            "replace /content/drive/MyDrive/ColabDatasets/Italy_Earthquakes/italy_earthquakes_from_2016-08-24_to_2016-11-30.csv? [y]es, [n]o, [A]ll, [N]one, [r]ename: n\n"
          ]
        }
      ]
    },
    {
      "cell_type": "markdown",
      "source": [
        "### Exploring the data."
      ],
      "metadata": {
        "id": "L_S8vqVgeWDL"
      }
    },
    {
      "cell_type": "code",
      "execution_count": 3,
      "metadata": {
        "id": "TB-Ig3SvTiU3"
      },
      "outputs": [],
      "source": [
        "import numpy as np\n",
        "import pandas as pd\n",
        "import matplotlib.pyplot as plt\n",
        "from matplotlib.pyplot import figure\n",
        "import seaborn as sns\n",
        "from sklearn.linear_model import LinearRegression"
      ]
    },
    {
      "cell_type": "code",
      "source": [
        "df = pd.read_csv(\"/content/drive/MyDrive/ColabDatasets/Italy_Earthquakes/italy_earthquakes_from_2016-08-24_to_2016-11-30.csv\")\n",
        "df.shape"
      ],
      "metadata": {
        "colab": {
          "base_uri": "https://localhost:8080/"
        },
        "id": "m7nfOB8KU7ls",
        "outputId": "82fd9e0a-0399-4399-f810-c8afc019e54e"
      },
      "execution_count": 4,
      "outputs": [
        {
          "output_type": "execute_result",
          "data": {
            "text/plain": [
              "(8086, 5)"
            ]
          },
          "metadata": {},
          "execution_count": 4
        }
      ]
    },
    {
      "cell_type": "code",
      "source": [
        "df.head(5)"
      ],
      "metadata": {
        "colab": {
          "base_uri": "https://localhost:8080/",
          "height": 206
        },
        "id": "83hMxXQVVJDj",
        "outputId": "389d4529-688e-4147-f987-044fb5d69953"
      },
      "execution_count": 5,
      "outputs": [
        {
          "output_type": "execute_result",
          "data": {
            "text/plain": [
              "                      Time  Latitude  Longitude  Depth/Km  Magnitude\n",
              "0  2016-08-24 03:36:32.000   42.6983    13.2335       8.1        6.0\n",
              "1  2016-08-24 03:37:26.580   42.7123    13.2533       9.0        4.5\n",
              "2  2016-08-24 03:40:46.590   42.7647    13.1723       9.7        3.8\n",
              "3  2016-08-24 03:41:38.900   42.7803    13.1683       9.7        3.9\n",
              "4  2016-08-24 03:42:07.170   42.7798    13.1575       9.7        3.6"
            ],
            "text/html": [
              "\n",
              "  <div id=\"df-dae6ee75-3332-4de8-8647-ac949a8a3ba4\">\n",
              "    <div class=\"colab-df-container\">\n",
              "      <div>\n",
              "<style scoped>\n",
              "    .dataframe tbody tr th:only-of-type {\n",
              "        vertical-align: middle;\n",
              "    }\n",
              "\n",
              "    .dataframe tbody tr th {\n",
              "        vertical-align: top;\n",
              "    }\n",
              "\n",
              "    .dataframe thead th {\n",
              "        text-align: right;\n",
              "    }\n",
              "</style>\n",
              "<table border=\"1\" class=\"dataframe\">\n",
              "  <thead>\n",
              "    <tr style=\"text-align: right;\">\n",
              "      <th></th>\n",
              "      <th>Time</th>\n",
              "      <th>Latitude</th>\n",
              "      <th>Longitude</th>\n",
              "      <th>Depth/Km</th>\n",
              "      <th>Magnitude</th>\n",
              "    </tr>\n",
              "  </thead>\n",
              "  <tbody>\n",
              "    <tr>\n",
              "      <th>0</th>\n",
              "      <td>2016-08-24 03:36:32.000</td>\n",
              "      <td>42.6983</td>\n",
              "      <td>13.2335</td>\n",
              "      <td>8.1</td>\n",
              "      <td>6.0</td>\n",
              "    </tr>\n",
              "    <tr>\n",
              "      <th>1</th>\n",
              "      <td>2016-08-24 03:37:26.580</td>\n",
              "      <td>42.7123</td>\n",
              "      <td>13.2533</td>\n",
              "      <td>9.0</td>\n",
              "      <td>4.5</td>\n",
              "    </tr>\n",
              "    <tr>\n",
              "      <th>2</th>\n",
              "      <td>2016-08-24 03:40:46.590</td>\n",
              "      <td>42.7647</td>\n",
              "      <td>13.1723</td>\n",
              "      <td>9.7</td>\n",
              "      <td>3.8</td>\n",
              "    </tr>\n",
              "    <tr>\n",
              "      <th>3</th>\n",
              "      <td>2016-08-24 03:41:38.900</td>\n",
              "      <td>42.7803</td>\n",
              "      <td>13.1683</td>\n",
              "      <td>9.7</td>\n",
              "      <td>3.9</td>\n",
              "    </tr>\n",
              "    <tr>\n",
              "      <th>4</th>\n",
              "      <td>2016-08-24 03:42:07.170</td>\n",
              "      <td>42.7798</td>\n",
              "      <td>13.1575</td>\n",
              "      <td>9.7</td>\n",
              "      <td>3.6</td>\n",
              "    </tr>\n",
              "  </tbody>\n",
              "</table>\n",
              "</div>\n",
              "      <button class=\"colab-df-convert\" onclick=\"convertToInteractive('df-dae6ee75-3332-4de8-8647-ac949a8a3ba4')\"\n",
              "              title=\"Convert this dataframe to an interactive table.\"\n",
              "              style=\"display:none;\">\n",
              "        \n",
              "  <svg xmlns=\"http://www.w3.org/2000/svg\" height=\"24px\"viewBox=\"0 0 24 24\"\n",
              "       width=\"24px\">\n",
              "    <path d=\"M0 0h24v24H0V0z\" fill=\"none\"/>\n",
              "    <path d=\"M18.56 5.44l.94 2.06.94-2.06 2.06-.94-2.06-.94-.94-2.06-.94 2.06-2.06.94zm-11 1L8.5 8.5l.94-2.06 2.06-.94-2.06-.94L8.5 2.5l-.94 2.06-2.06.94zm10 10l.94 2.06.94-2.06 2.06-.94-2.06-.94-.94-2.06-.94 2.06-2.06.94z\"/><path d=\"M17.41 7.96l-1.37-1.37c-.4-.4-.92-.59-1.43-.59-.52 0-1.04.2-1.43.59L10.3 9.45l-7.72 7.72c-.78.78-.78 2.05 0 2.83L4 21.41c.39.39.9.59 1.41.59.51 0 1.02-.2 1.41-.59l7.78-7.78 2.81-2.81c.8-.78.8-2.07 0-2.86zM5.41 20L4 18.59l7.72-7.72 1.47 1.35L5.41 20z\"/>\n",
              "  </svg>\n",
              "      </button>\n",
              "      \n",
              "  <style>\n",
              "    .colab-df-container {\n",
              "      display:flex;\n",
              "      flex-wrap:wrap;\n",
              "      gap: 12px;\n",
              "    }\n",
              "\n",
              "    .colab-df-convert {\n",
              "      background-color: #E8F0FE;\n",
              "      border: none;\n",
              "      border-radius: 50%;\n",
              "      cursor: pointer;\n",
              "      display: none;\n",
              "      fill: #1967D2;\n",
              "      height: 32px;\n",
              "      padding: 0 0 0 0;\n",
              "      width: 32px;\n",
              "    }\n",
              "\n",
              "    .colab-df-convert:hover {\n",
              "      background-color: #E2EBFA;\n",
              "      box-shadow: 0px 1px 2px rgba(60, 64, 67, 0.3), 0px 1px 3px 1px rgba(60, 64, 67, 0.15);\n",
              "      fill: #174EA6;\n",
              "    }\n",
              "\n",
              "    [theme=dark] .colab-df-convert {\n",
              "      background-color: #3B4455;\n",
              "      fill: #D2E3FC;\n",
              "    }\n",
              "\n",
              "    [theme=dark] .colab-df-convert:hover {\n",
              "      background-color: #434B5C;\n",
              "      box-shadow: 0px 1px 3px 1px rgba(0, 0, 0, 0.15);\n",
              "      filter: drop-shadow(0px 1px 2px rgba(0, 0, 0, 0.3));\n",
              "      fill: #FFFFFF;\n",
              "    }\n",
              "  </style>\n",
              "\n",
              "      <script>\n",
              "        const buttonEl =\n",
              "          document.querySelector('#df-dae6ee75-3332-4de8-8647-ac949a8a3ba4 button.colab-df-convert');\n",
              "        buttonEl.style.display =\n",
              "          google.colab.kernel.accessAllowed ? 'block' : 'none';\n",
              "\n",
              "        async function convertToInteractive(key) {\n",
              "          const element = document.querySelector('#df-dae6ee75-3332-4de8-8647-ac949a8a3ba4');\n",
              "          const dataTable =\n",
              "            await google.colab.kernel.invokeFunction('convertToInteractive',\n",
              "                                                     [key], {});\n",
              "          if (!dataTable) return;\n",
              "\n",
              "          const docLinkHtml = 'Like what you see? Visit the ' +\n",
              "            '<a target=\"_blank\" href=https://colab.research.google.com/notebooks/data_table.ipynb>data table notebook</a>'\n",
              "            + ' to learn more about interactive tables.';\n",
              "          element.innerHTML = '';\n",
              "          dataTable['output_type'] = 'display_data';\n",
              "          await google.colab.output.renderOutput(dataTable, element);\n",
              "          const docLink = document.createElement('div');\n",
              "          docLink.innerHTML = docLinkHtml;\n",
              "          element.appendChild(docLink);\n",
              "        }\n",
              "      </script>\n",
              "    </div>\n",
              "  </div>\n",
              "  "
            ]
          },
          "metadata": {},
          "execution_count": 5
        }
      ]
    },
    {
      "cell_type": "markdown",
      "source": [
        "***.תחילה נראה את ההתפגות של הנתונים על-ידי היסטוגרמה***\n",
        "\n",
        "\n",
        "***.ניתן לראות שהעוצמה של רעידות אדמה ביחס לחשכיחותם מתפלגת דומה לחוק חזקה***\n",
        "\n",
        "***לפחות 80 אחוז מהמדידות נמצאות מתחת ל-3 בסולם ריכטר ורק בערך 20 אחוז נמצאות מעל***\n",
        "\n",
        "**בסך הכל בדאטה קיימות 8086 תצפיות (מדידות) בסקלה מ-2 עד 6.5**"
      ],
      "metadata": {
        "id": "pyhK3yLecQIB"
      }
    },
    {
      "cell_type": "code",
      "source": [
        "figure(figsize=(8, 6), dpi=80)\n",
        "df['Magnitude'].plot(kind='hist', bins=40)\n",
        "plt.title(\"Distribution of Magnitude\")\n",
        "plt.xlabel(\"Magnitude of Earthquake\")\n",
        "plt.ylabel(\"Frequency\")\n",
        "plt.show()"
      ],
      "metadata": {
        "colab": {
          "base_uri": "https://localhost:8080/",
          "height": 444
        },
        "id": "zjGYJWOcVkLF",
        "outputId": "5ff13716-ce1e-4a85-d0ff-37ed703792ab"
      },
      "execution_count": 6,
      "outputs": [
        {
          "output_type": "display_data",
          "data": {
            "text/plain": [
              "<Figure size 640x480 with 1 Axes>"
            ],
            "image/png": "[encoded data removed]"
          },
          "metadata": {
            "needs_background": "light"
          }
        }
      ]
    },
    {
      "cell_type": "markdown",
      "source": [
        "***מכיוון שהמדידות בסולם ריכטר הן לא משתנה רציף אלה משתנה בדיד, אני אקבץ את \n",
        "הדאטה לצורך הנוחות על ידי פונקציה של פייתון***"
      ],
      "metadata": {
        "id": "0k5M60K8goPn"
      }
    },
    {
      "cell_type": "code",
      "source": [
        "tmp = df['Magnitude'].value_counts()\n",
        "aggregated_data = pd.DataFrame(tmp).reset_index().rename(columns={\"index\": \"Magnitude\", \"Magnitude\": \"Freq\"}) # דאטה מקובצת\n",
        "# נראה את הנתנונים המקובצים\n",
        "aggregated_data.head(10)"
      ],
      "metadata": {
        "id": "8hKjue6BCEsE",
        "colab": {
          "base_uri": "https://localhost:8080/",
          "height": 363
        },
        "outputId": "f57aac03-8414-4c06-d43f-36bc070aa8dd"
      },
      "execution_count": 7,
      "outputs": [
        {
          "output_type": "execute_result",
          "data": {
            "text/plain": [
              "   Magnitude  Freq\n",
              "0        2.0  1527\n",
              "1        2.1  1299\n",
              "2        2.2  1040\n",
              "3        2.3   863\n",
              "4        2.4   723\n",
              "5        2.5   519\n",
              "6        2.6   406\n",
              "7        2.7   340\n",
              "8        2.8   304\n",
              "9        2.9   177"
            ],
            "text/html": [
              "\n",
              "  <div id=\"df-f0002e35-f9a8-4900-b3d6-77ff8fba9660\">\n",
              "    <div class=\"colab-df-container\">\n",
              "      <div>\n",
              "<style scoped>\n",
              "    .dataframe tbody tr th:only-of-type {\n",
              "        vertical-align: middle;\n",
              "    }\n",
              "\n",
              "    .dataframe tbody tr th {\n",
              "        vertical-align: top;\n",
              "    }\n",
              "\n",
              "    .dataframe thead th {\n",
              "        text-align: right;\n",
              "    }\n",
              "</style>\n",
              "<table border=\"1\" class=\"dataframe\">\n",
              "  <thead>\n",
              "    <tr style=\"text-align: right;\">\n",
              "      <th></th>\n",
              "      <th>Magnitude</th>\n",
              "      <th>Freq</th>\n",
              "    </tr>\n",
              "  </thead>\n",
              "  <tbody>\n",
              "    <tr>\n",
              "      <th>0</th>\n",
              "      <td>2.0</td>\n",
              "      <td>1527</td>\n",
              "    </tr>\n",
              "    <tr>\n",
              "      <th>1</th>\n",
              "      <td>2.1</td>\n",
              "      <td>1299</td>\n",
              "    </tr>\n",
              "    <tr>\n",
              "      <th>2</th>\n",
              "      <td>2.2</td>\n",
              "      <td>1040</td>\n",
              "    </tr>\n",
              "    <tr>\n",
              "      <th>3</th>\n",
              "      <td>2.3</td>\n",
              "      <td>863</td>\n",
              "    </tr>\n",
              "    <tr>\n",
              "      <th>4</th>\n",
              "      <td>2.4</td>\n",
              "      <td>723</td>\n",
              "    </tr>\n",
              "    <tr>\n",
              "      <th>5</th>\n",
              "      <td>2.5</td>\n",
              "      <td>519</td>\n",
              "    </tr>\n",
              "    <tr>\n",
              "      <th>6</th>\n",
              "      <td>2.6</td>\n",
              "      <td>406</td>\n",
              "    </tr>\n",
              "    <tr>\n",
              "      <th>7</th>\n",
              "      <td>2.7</td>\n",
              "      <td>340</td>\n",
              "    </tr>\n",
              "    <tr>\n",
              "      <th>8</th>\n",
              "      <td>2.8</td>\n",
              "      <td>304</td>\n",
              "    </tr>\n",
              "    <tr>\n",
              "      <th>9</th>\n",
              "      <td>2.9</td>\n",
              "      <td>177</td>\n",
              "    </tr>\n",
              "  </tbody>\n",
              "</table>\n",
              "</div>\n",
              "      <button class=\"colab-df-convert\" onclick=\"convertToInteractive('df-f0002e35-f9a8-4900-b3d6-77ff8fba9660')\"\n",
              "              title=\"Convert this dataframe to an interactive table.\"\n",
              "              style=\"display:none;\">\n",
              "        \n",
              "  <svg xmlns=\"http://www.w3.org/2000/svg\" height=\"24px\"viewBox=\"0 0 24 24\"\n",
              "       width=\"24px\">\n",
              "    <path d=\"M0 0h24v24H0V0z\" fill=\"none\"/>\n",
              "    <path d=\"M18.56 5.44l.94 2.06.94-2.06 2.06-.94-2.06-.94-.94-2.06-.94 2.06-2.06.94zm-11 1L8.5 8.5l.94-2.06 2.06-.94-2.06-.94L8.5 2.5l-.94 2.06-2.06.94zm10 10l.94 2.06.94-2.06 2.06-.94-2.06-.94-.94-2.06-.94 2.06-2.06.94z\"/><path d=\"M17.41 7.96l-1.37-1.37c-.4-.4-.92-.59-1.43-.59-.52 0-1.04.2-1.43.59L10.3 9.45l-7.72 7.72c-.78.78-.78 2.05 0 2.83L4 21.41c.39.39.9.59 1.41.59.51 0 1.02-.2 1.41-.59l7.78-7.78 2.81-2.81c.8-.78.8-2.07 0-2.86zM5.41 20L4 18.59l7.72-7.72 1.47 1.35L5.41 20z\"/>\n",
              "  </svg>\n",
              "      </button>\n",
              "      \n",
              "  <style>\n",
              "    .colab-df-container {\n",
              "      display:flex;\n",
              "      flex-wrap:wrap;\n",
              "      gap: 12px;\n",
              "    }\n",
              "\n",
              "    .colab-df-convert {\n",
              "      background-color: #E8F0FE;\n",
              "      border: none;\n",
              "      border-radius: 50%;\n",
              "      cursor: pointer;\n",
              "      display: none;\n",
              "      fill: #1967D2;\n",
              "      height: 32px;\n",
              "      padding: 0 0 0 0;\n",
              "      width: 32px;\n",
              "    }\n",
              "\n",
              "    .colab-df-convert:hover {\n",
              "      background-color: #E2EBFA;\n",
              "      box-shadow: 0px 1px 2px rgba(60, 64, 67, 0.3), 0px 1px 3px 1px rgba(60, 64, 67, 0.15);\n",
              "      fill: #174EA6;\n",
              "    }\n",
              "\n",
              "    [theme=dark] .colab-df-convert {\n",
              "      background-color: #3B4455;\n",
              "      fill: #D2E3FC;\n",
              "    }\n",
              "\n",
              "    [theme=dark] .colab-df-convert:hover {\n",
              "      background-color: #434B5C;\n",
              "      box-shadow: 0px 1px 3px 1px rgba(0, 0, 0, 0.15);\n",
              "      filter: drop-shadow(0px 1px 2px rgba(0, 0, 0, 0.3));\n",
              "      fill: #FFFFFF;\n",
              "    }\n",
              "  </style>\n",
              "\n",
              "      <script>\n",
              "        const buttonEl =\n",
              "          document.querySelector('#df-f0002e35-f9a8-4900-b3d6-77ff8fba9660 button.colab-df-convert');\n",
              "        buttonEl.style.display =\n",
              "          google.colab.kernel.accessAllowed ? 'block' : 'none';\n",
              "\n",
              "        async function convertToInteractive(key) {\n",
              "          const element = document.querySelector('#df-f0002e35-f9a8-4900-b3d6-77ff8fba9660');\n",
              "          const dataTable =\n",
              "            await google.colab.kernel.invokeFunction('convertToInteractive',\n",
              "                                                     [key], {});\n",
              "          if (!dataTable) return;\n",
              "\n",
              "          const docLinkHtml = 'Like what you see? Visit the ' +\n",
              "            '<a target=\"_blank\" href=https://colab.research.google.com/notebooks/data_table.ipynb>data table notebook</a>'\n",
              "            + ' to learn more about interactive tables.';\n",
              "          element.innerHTML = '';\n",
              "          dataTable['output_type'] = 'display_data';\n",
              "          await google.colab.output.renderOutput(dataTable, element);\n",
              "          const docLink = document.createElement('div');\n",
              "          docLink.innerHTML = docLinkHtml;\n",
              "          element.appendChild(docLink);\n",
              "        }\n",
              "      </script>\n",
              "    </div>\n",
              "  </div>\n",
              "  "
            ]
          },
          "metadata": {},
          "execution_count": 7
        }
      ]
    },
    {
      "cell_type": "markdown",
      "source": [
        "***נצייר את פונקצית ההתפלגות של הנתונים שלנו***\n"
      ],
      "metadata": {
        "id": "CVG0iJZniqvJ"
      }
    },
    {
      "cell_type": "code",
      "source": [
        "# Plot\n",
        "figure(figsize=(8, 6), dpi=80)\n",
        "plt.plot(aggregated_data['Magnitude'], aggregated_data['Freq'], 'r.')\n",
        "plt.title(\"Distribution of Magnitude\")\n",
        "plt.xlabel(\"Magnitude of Earthquake\")\n",
        "plt.ylabel(\"Frequency\")\n",
        "plt.grid()\n",
        "plt.show()"
      ],
      "metadata": {
        "colab": {
          "base_uri": "https://localhost:8080/",
          "height": 444
        },
        "id": "nxQ-_U_xiZGD",
        "outputId": "d21d8451-722c-492f-9ea0-e6aad255d33c"
      },
      "execution_count": 8,
      "outputs": [
        {
          "output_type": "display_data",
          "data": {
            "text/plain": [
              "<Figure size 640x480 with 1 Axes>"
            ],
            "image/png": "[encoded data removed]"
          },
          "metadata": {
            "needs_background": "light"
          }
        }
      ]
    },
    {
      "cell_type": "markdown",
      "source": [
        "***Creating CDF for Actual data.***"
      ],
      "metadata": {
        "id": "MEr6KCK9AkNc"
      }
    },
    {
      "cell_type": "markdown",
      "source": [
        "***נראה איך נראת פונקצית צפיפות המצטברת של הנתונים שלנו***"
      ],
      "metadata": {
        "id": "N683aL2cjW6C"
      }
    },
    {
      "cell_type": "code",
      "source": [
        "x = np.sort(df['Magnitude'])\n",
        "y = np.arange(1, len(x)+1)  / len(x)\n",
        "\n",
        "# Plot\n",
        "figure(figsize=(8, 6), dpi=80)\n",
        "plt.plot(x,y,'b--')\n",
        "plt.title(\"CDF of Magnitude\")\n",
        "plt.xlabel(\"Magnitude of Earthquake\")\n",
        "plt.ylabel(\"Cumulative Frequency\")\n",
        "plt.grid()\n",
        "plt.show()"
      ],
      "metadata": {
        "colab": {
          "base_uri": "https://localhost:8080/",
          "height": 444
        },
        "id": "AC_woCOxzwqj",
        "outputId": "50542ff8-95f8-459e-d5eb-fc54a39c1580"
      },
      "execution_count": 9,
      "outputs": [
        {
          "output_type": "display_data",
          "data": {
            "text/plain": [
              "<Figure size 640x480 with 1 Axes>"
            ],
            "image/png": "[encoded data removed]"
          },
          "metadata": {
            "needs_background": "light"
          }
        }
      ]
    },
    {
      "cell_type": "code",
      "source": [
        "data=aggregated_data.copy()\n",
        "data = data.sort_values(by=['Magnitude'])\n",
        "data['Cumulative Freq'] = data['Freq'].cumsum()  # שכיחות המצתברת\n",
        "data['CDF'] = data['Cumulative Freq'] / data['Freq'].sum()  \n",
        "data['CCDF'] = 1 - data['CDF']\n",
        "data.head(5)"
      ],
      "metadata": {
        "colab": {
          "base_uri": "https://localhost:8080/",
          "height": 206
        },
        "id": "rJIB-Kxa4LYR",
        "outputId": "69e54dc5-5b32-4f3f-bf14-b4c6e7a9cb9a"
      },
      "execution_count": 10,
      "outputs": [
        {
          "output_type": "execute_result",
          "data": {
            "text/plain": [
              "   Magnitude  Freq  Cumulative Freq       CDF      CCDF\n",
              "0        2.0  1527             1527  0.188845  0.811155\n",
              "1        2.1  1299             2826  0.349493  0.650507\n",
              "2        2.2  1040             3866  0.478110  0.521890\n",
              "3        2.3   863             4729  0.584838  0.415162\n",
              "4        2.4   723             5452  0.674252  0.325748"
            ],
            "text/html": [
              "\n",
              "  <div id=\"df-65486307-28a2-4dc4-9fa8-8bcf1474e212\">\n",
              "    <div class=\"colab-df-container\">\n",
              "      <div>\n",
              "<style scoped>\n",
              "    .dataframe tbody tr th:only-of-type {\n",
              "        vertical-align: middle;\n",
              "    }\n",
              "\n",
              "    .dataframe tbody tr th {\n",
              "        vertical-align: top;\n",
              "    }\n",
              "\n",
              "    .dataframe thead th {\n",
              "        text-align: right;\n",
              "    }\n",
              "</style>\n",
              "<table border=\"1\" class=\"dataframe\">\n",
              "  <thead>\n",
              "    <tr style=\"text-align: right;\">\n",
              "      <th></th>\n",
              "      <th>Magnitude</th>\n",
              "      <th>Freq</th>\n",
              "      <th>Cumulative Freq</th>\n",
              "      <th>CDF</th>\n",
              "      <th>CCDF</th>\n",
              "    </tr>\n",
              "  </thead>\n",
              "  <tbody>\n",
              "    <tr>\n",
              "      <th>0</th>\n",
              "      <td>2.0</td>\n",
              "      <td>1527</td>\n",
              "      <td>1527</td>\n",
              "      <td>0.188845</td>\n",
              "      <td>0.811155</td>\n",
              "    </tr>\n",
              "    <tr>\n",
              "      <th>1</th>\n",
              "      <td>2.1</td>\n",
              "      <td>1299</td>\n",
              "      <td>2826</td>\n",
              "      <td>0.349493</td>\n",
              "      <td>0.650507</td>\n",
              "    </tr>\n",
              "    <tr>\n",
              "      <th>2</th>\n",
              "      <td>2.2</td>\n",
              "      <td>1040</td>\n",
              "      <td>3866</td>\n",
              "      <td>0.478110</td>\n",
              "      <td>0.521890</td>\n",
              "    </tr>\n",
              "    <tr>\n",
              "      <th>3</th>\n",
              "      <td>2.3</td>\n",
              "      <td>863</td>\n",
              "      <td>4729</td>\n",
              "      <td>0.584838</td>\n",
              "      <td>0.415162</td>\n",
              "    </tr>\n",
              "    <tr>\n",
              "      <th>4</th>\n",
              "      <td>2.4</td>\n",
              "      <td>723</td>\n",
              "      <td>5452</td>\n",
              "      <td>0.674252</td>\n",
              "      <td>0.325748</td>\n",
              "    </tr>\n",
              "  </tbody>\n",
              "</table>\n",
              "</div>\n",
              "      <button class=\"colab-df-convert\" onclick=\"convertToInteractive('df-65486307-28a2-4dc4-9fa8-8bcf1474e212')\"\n",
              "              title=\"Convert this dataframe to an interactive table.\"\n",
              "              style=\"display:none;\">\n",
              "        \n",
              "  <svg xmlns=\"http://www.w3.org/2000/svg\" height=\"24px\"viewBox=\"0 0 24 24\"\n",
              "       width=\"24px\">\n",
              "    <path d=\"M0 0h24v24H0V0z\" fill=\"none\"/>\n",
              "    <path d=\"M18.56 5.44l.94 2.06.94-2.06 2.06-.94-2.06-.94-.94-2.06-.94 2.06-2.06.94zm-11 1L8.5 8.5l.94-2.06 2.06-.94-2.06-.94L8.5 2.5l-.94 2.06-2.06.94zm10 10l.94 2.06.94-2.06 2.06-.94-2.06-.94-.94-2.06-.94 2.06-2.06.94z\"/><path d=\"M17.41 7.96l-1.37-1.37c-.4-.4-.92-.59-1.43-.59-.52 0-1.04.2-1.43.59L10.3 9.45l-7.72 7.72c-.78.78-.78 2.05 0 2.83L4 21.41c.39.39.9.59 1.41.59.51 0 1.02-.2 1.41-.59l7.78-7.78 2.81-2.81c.8-.78.8-2.07 0-2.86zM5.41 20L4 18.59l7.72-7.72 1.47 1.35L5.41 20z\"/>\n",
              "  </svg>\n",
              "      </button>\n",
              "      \n",
              "  <style>\n",
              "    .colab-df-container {\n",
              "      display:flex;\n",
              "      flex-wrap:wrap;\n",
              "      gap: 12px;\n",
              "    }\n",
              "\n",
              "    .colab-df-convert {\n",
              "      background-color: #E8F0FE;\n",
              "      border: none;\n",
              "      border-radius: 50%;\n",
              "      cursor: pointer;\n",
              "      display: none;\n",
              "      fill: #1967D2;\n",
              "      height: 32px;\n",
              "      padding: 0 0 0 0;\n",
              "      width: 32px;\n",
              "    }\n",
              "\n",
              "    .colab-df-convert:hover {\n",
              "      background-color: #E2EBFA;\n",
              "      box-shadow: 0px 1px 2px rgba(60, 64, 67, 0.3), 0px 1px 3px 1px rgba(60, 64, 67, 0.15);\n",
              "      fill: #174EA6;\n",
              "    }\n",
              "\n",
              "    [theme=dark] .colab-df-convert {\n",
              "      background-color: #3B4455;\n",
              "      fill: #D2E3FC;\n",
              "    }\n",
              "\n",
              "    [theme=dark] .colab-df-convert:hover {\n",
              "      background-color: #434B5C;\n",
              "      box-shadow: 0px 1px 3px 1px rgba(0, 0, 0, 0.15);\n",
              "      filter: drop-shadow(0px 1px 2px rgba(0, 0, 0, 0.3));\n",
              "      fill: #FFFFFF;\n",
              "    }\n",
              "  </style>\n",
              "\n",
              "      <script>\n",
              "        const buttonEl =\n",
              "          document.querySelector('#df-65486307-28a2-4dc4-9fa8-8bcf1474e212 button.colab-df-convert');\n",
              "        buttonEl.style.display =\n",
              "          google.colab.kernel.accessAllowed ? 'block' : 'none';\n",
              "\n",
              "        async function convertToInteractive(key) {\n",
              "          const element = document.querySelector('#df-65486307-28a2-4dc4-9fa8-8bcf1474e212');\n",
              "          const dataTable =\n",
              "            await google.colab.kernel.invokeFunction('convertToInteractive',\n",
              "                                                     [key], {});\n",
              "          if (!dataTable) return;\n",
              "\n",
              "          const docLinkHtml = 'Like what you see? Visit the ' +\n",
              "            '<a target=\"_blank\" href=https://colab.research.google.com/notebooks/data_table.ipynb>data table notebook</a>'\n",
              "            + ' to learn more about interactive tables.';\n",
              "          element.innerHTML = '';\n",
              "          dataTable['output_type'] = 'display_data';\n",
              "          await google.colab.output.renderOutput(dataTable, element);\n",
              "          const docLink = document.createElement('div');\n",
              "          docLink.innerHTML = docLinkHtml;\n",
              "          element.appendChild(docLink);\n",
              "        }\n",
              "      </script>\n",
              "    </div>\n",
              "  </div>\n",
              "  "
            ]
          },
          "metadata": {},
          "execution_count": 10
        }
      ]
    },
    {
      "cell_type": "markdown",
      "source": [
        "***.בעזרת רגרסיה לינארית נמצא קו ישר לזנב של ההתפלגות***\n",
        "\n",
        "***.ניקח את ערכי האיקס מעל 3.4 על מנת להתאים את הקו***"
      ],
      "metadata": {
        "id": "um8koxLikImd"
      }
    },
    {
      "cell_type": "code",
      "source": [
        "X = np.array(data[data['Magnitude']>3.4]['Magnitude']).reshape(-1,1)\n",
        "y = np.array(data[data['Magnitude']>3.4]['CCDF']).reshape(-1,1)\n",
        "reg = LinearRegression().fit(X, y)\n",
        "slope = reg.coef_[0][0]\n",
        "intercept = reg.intercept_[0]\n",
        "print('The line: y = {intercept} + {coef}*X'.format(intercept=round(intercept,2), coef=round(slope,3)))"
      ],
      "metadata": {
        "colab": {
          "base_uri": "https://localhost:8080/"
        },
        "id": "cmOyGHRfAUW7",
        "outputId": "d2732df2-4d5b-481a-81a9-dcc533d28c82"
      },
      "execution_count": 11,
      "outputs": [
        {
          "output_type": "stream",
          "name": "stdout",
          "text": [
            "The line: y = 0.03 + -0.005*X\n"
          ]
        }
      ]
    },
    {
      "cell_type": "markdown",
      "source": [
        "***.בניית פונקציית קו ישר שמצאנו***"
      ],
      "metadata": {
        "id": "y4IuRVHClBcb"
      }
    },
    {
      "cell_type": "code",
      "source": [
        "linef = lambda x: intercept + slope*x "
      ],
      "metadata": {
        "id": "6FofQKjhEcpj"
      },
      "execution_count": 13,
      "outputs": []
    },
    {
      "cell_type": "code",
      "source": [
        "figure(figsize=(8, 6), dpi=80)\n",
        "plt.plot(data['Magnitude'], data['CDF'], 'b-', label='CDF')\n",
        "plt.plot(data['Magnitude'], data['CCDF'], 'r-', label='CCDF')\n",
        "plt.plot(data['Magnitude'], linef(data['Magnitude']), 'g-', label='Line')\n",
        "plt.title(\"CDF vs CCDF vs Line\")\n",
        "plt.xlabel(\"Magnitude of Earthquake\")\n",
        "plt.ylabel(\"Cumulative\")\n",
        "plt.legend(loc=1, prop={'size':15})\n",
        "plt.show()"
      ],
      "metadata": {
        "colab": {
          "base_uri": "https://localhost:8080/",
          "height": 444
        },
        "id": "JBNrxqK-ANUq",
        "outputId": "d9afed2a-b0d4-46fc-e31c-e41de2d6a467"
      },
      "execution_count": 14,
      "outputs": [
        {
          "output_type": "display_data",
          "data": {
            "text/plain": [
              "<Figure size 640x480 with 1 Axes>"
            ],
            "image/png": "[encoded data removed]"
          },
          "metadata": {
            "needs_background": "light"
          }
        }
      ]
    },
    {
      "cell_type": "markdown",
      "source": [
        "במאמר שנקראה \n",
        "\n",
        "\"Power-law distributions in empirical data\"\n",
        "\n",
        "על-ידי \n",
        "\n",
        "Aaron Clauset & Cosma Rohilla Shalizi & M. E. J. Newman§\n",
        "\n",
        "הם מציעים שיטה למציאת\n",
        "\n",
        "Xmin\n",
        "\n",
        "על-ידי בניית מודל שמתאר את הדאטה בצורה הכי טובה, בשיטה של ריבועים פחותים, וממזארת את הציון של קולמוגורוב-סמירנוב בין פונקציית צפיפות המצטברת האמיתית (של הדאטה) לבין פונקציית צפיפות המצטברת של המודל"
      ],
      "metadata": {
        "id": "e1XOKHHXjyDU"
      }
    },
    {
      "cell_type": "markdown",
      "source": [
        "**:מתודולוגיה**\n",
        "<ol>\n",
        "    <li>(non-linear least squares) נבנה מודל שמתאר את הדאטה בצורה הכי טובה על-ידי שיטה של הריבועים הפחותים</li> \n",
        "    <li>ניצור איתו דאטה aX^b אחרי שנמצא מודל מהצורה</li>\n",
        "    <li>ניצור את פונקציית צפיפות המצטברת גם לדאטה האמיתי וגם לדאטה שייצרנו על ידי המודל</li>\n",
        "    <li>על מנת למנוע איטרציות מיותרות Xmin נאכלס את הניחוש הראשוני של </li>\n",
        "    <li>ומחזירה את הציון קולמוגורוב-סמירנוב Xmin נבנה פונקציה שמקבלת את </li>\n",
        "    <li>ננסה למצוע את המינימום של הפונקציה זו על ידי אופטימיזציה</li>\n",
        "</ol>"
      ],
      "metadata": {
        "id": "nkw2MQ6ymZAF"
      }
    },
    {
      "cell_type": "markdown",
      "source": [
        "***Building a model that best fits the data.***"
      ],
      "metadata": {
        "id": "OehgrHG1BXE5"
      }
    },
    {
      "cell_type": "code",
      "source": [
        "# a * x**b\n",
        "\n",
        "X = aggregated_data['Magnitude']\n",
        "y = aggregated_data['Freq']\n",
        "lnX = np.log(X)\n",
        "lnY = np.log(y)\n",
        "b, lna = np.polyfit(lnX, lnY, 1) # Minimizes the squared error\n",
        "a = np.exp(lna)\n",
        "print('power={} sigma={}'.format(b,a))\n"
      ],
      "metadata": {
        "colab": {
          "base_uri": "https://localhost:8080/"
        },
        "id": "iLLPY7ISH0S3",
        "outputId": "a5453a32-46a0-429c-dd0b-147e55d7c1af"
      },
      "execution_count": 15,
      "outputs": [
        {
          "output_type": "stream",
          "name": "stdout",
          "text": [
            "power=-7.5627536424697235 sigma=509682.15101862804\n"
          ]
        }
      ]
    },
    {
      "cell_type": "markdown",
      "source": [
        "***: מצאנו שהפולינום שמתאר את הדאטה הכי טוב הוא מהצורה הבא***"
      ],
      "metadata": {
        "id": "qwneFDyGmkNd"
      }
    },
    {
      "cell_type": "code",
      "source": [
        "f = lambda x: 509682.15101862804 * (x**-7.5627536424697235)\n",
        "t=aggregated_data['Magnitude']"
      ],
      "metadata": {
        "id": "ikG8PifPH0Ve"
      },
      "execution_count": 16,
      "outputs": []
    },
    {
      "cell_type": "markdown",
      "source": [
        "***נצייר פונקציית הצפיפות של הדאטה האמיתית שלנו יחד עם פולינום שמצאנו***"
      ],
      "metadata": {
        "id": "JkaMeRiNnGSt"
      }
    },
    {
      "cell_type": "code",
      "source": [
        "figure(figsize=(8, 6), dpi=80)\n",
        "plt.plot(aggregated_data['Magnitude'], aggregated_data['Freq'], 'r.', label='Actual data')\n",
        "plt.plot(aggregated_data['Magnitude'], f(t), 'b--', label='Best fitted model')\n",
        "plt.title(\"Best Fitted Model vs Actual Data\")\n",
        "plt.xlabel(\"Magnitude of Earthquake\")\n",
        "plt.ylabel(\"Frequency\")\n",
        "plt.legend(loc=1, prop={'size':15})\n",
        "plt.show()"
      ],
      "metadata": {
        "colab": {
          "base_uri": "https://localhost:8080/",
          "height": 444
        },
        "id": "LdL5x2t-H0dx",
        "outputId": "ead7262f-ec1d-433d-8241-a34f2b44388d"
      },
      "execution_count": 17,
      "outputs": [
        {
          "output_type": "display_data",
          "data": {
            "text/plain": [
              "<Figure size 640x480 with 1 Axes>"
            ],
            "image/png": "[encoded data removed]"
          },
          "metadata": {
            "needs_background": "light"
          }
        }
      ]
    },
    {
      "cell_type": "code",
      "source": [
        "figure(figsize=(8, 6), dpi=80)\n",
        "\n",
        "data['Fitted Model'] = f(data['Magnitude'])\n",
        "data['Cumulative Model'] = data['Fitted Model'].cumsum()\n",
        "data['CDF Fitted'] = data['Cumulative Model'] / data['Fitted Model'].sum()\n",
        "data['delta'] = abs(data['CDF Fitted'] - data['CDF'])\n",
        "\n",
        "plt.plot(data['Magnitude'], data['CDF'], 'r.', label='Actual CDF')\n",
        "plt.plot(data['Magnitude'], data['CDF Fitted'], 'b--', label='Fitted CDF')\n",
        "plt.title(\"CDF Fitted vs Actual CDF\")\n",
        "plt.xlabel(\"Magnitude of Earthquake\")\n",
        "plt.ylabel(\"CDF\")\n",
        "plt.legend(loc=2, prop={'size':10})\n",
        "plt.show()"
      ],
      "metadata": {
        "id": "jkxpkIDDlenY",
        "colab": {
          "base_uri": "https://localhost:8080/",
          "height": 444
        },
        "outputId": "5b5c6a74-20ec-425c-9fbc-e19b2a9cc3ee"
      },
      "execution_count": 18,
      "outputs": [
        {
          "output_type": "display_data",
          "data": {
            "text/plain": [
              "<Figure size 640x480 with 1 Axes>"
            ],
            "image/png": "[encoded data removed]"
          },
          "metadata": {
            "needs_background": "light"
          }
        }
      ]
    },
    {
      "cell_type": "code",
      "source": [
        "data.head(5)"
      ],
      "metadata": {
        "colab": {
          "base_uri": "https://localhost:8080/",
          "height": 206
        },
        "id": "sfEVMC9Anpll",
        "outputId": "2ae88add-41da-45a9-c8ea-c2379139a40c"
      },
      "execution_count": 19,
      "outputs": [
        {
          "output_type": "execute_result",
          "data": {
            "text/plain": [
              "   Magnitude  Freq  Cumulative Freq       CDF      CCDF  Fitted Model  \\\n",
              "0        2.0  1527             1527  0.188845  0.811155   2695.775542   \n",
              "1        2.1  1299             2826  0.349493  0.650507   1863.950093   \n",
              "2        2.2  1040             3866  0.478110  0.521890   1311.115792   \n",
              "3        2.3   863             4729  0.584838  0.415162    936.787130   \n",
              "4        2.4   723             5452  0.674252  0.325748    678.977639   \n",
              "\n",
              "   Cumulative Model  CDF Fitted     delta  \n",
              "0       2695.775542    0.280032  0.091187  \n",
              "1       4559.725635    0.473656  0.124163  \n",
              "2       5870.841427    0.609852  0.131742  \n",
              "3       6807.628556    0.707164  0.122326  \n",
              "4       7486.606196    0.777695  0.103443  "
            ],
            "text/html": [
              "\n",
              "  <div id=\"df-e2af991e-02df-4872-8f6d-7b82aa091832\">\n",
              "    <div class=\"colab-df-container\">\n",
              "      <div>\n",
              "<style scoped>\n",
              "    .dataframe tbody tr th:only-of-type {\n",
              "        vertical-align: middle;\n",
              "    }\n",
              "\n",
              "    .dataframe tbody tr th {\n",
              "        vertical-align: top;\n",
              "    }\n",
              "\n",
              "    .dataframe thead th {\n",
              "        text-align: right;\n",
              "    }\n",
              "</style>\n",
              "<table border=\"1\" class=\"dataframe\">\n",
              "  <thead>\n",
              "    <tr style=\"text-align: right;\">\n",
              "      <th></th>\n",
              "      <th>Magnitude</th>\n",
              "      <th>Freq</th>\n",
              "      <th>Cumulative Freq</th>\n",
              "      <th>CDF</th>\n",
              "      <th>CCDF</th>\n",
              "      <th>Fitted Model</th>\n",
              "      <th>Cumulative Model</th>\n",
              "      <th>CDF Fitted</th>\n",
              "      <th>delta</th>\n",
              "    </tr>\n",
              "  </thead>\n",
              "  <tbody>\n",
              "    <tr>\n",
              "      <th>0</th>\n",
              "      <td>2.0</td>\n",
              "      <td>1527</td>\n",
              "      <td>1527</td>\n",
              "      <td>0.188845</td>\n",
              "      <td>0.811155</td>\n",
              "      <td>2695.775542</td>\n",
              "      <td>2695.775542</td>\n",
              "      <td>0.280032</td>\n",
              "      <td>0.091187</td>\n",
              "    </tr>\n",
              "    <tr>\n",
              "      <th>1</th>\n",
              "      <td>2.1</td>\n",
              "      <td>1299</td>\n",
              "      <td>2826</td>\n",
              "      <td>0.349493</td>\n",
              "      <td>0.650507</td>\n",
              "      <td>1863.950093</td>\n",
              "      <td>4559.725635</td>\n",
              "      <td>0.473656</td>\n",
              "      <td>0.124163</td>\n",
              "    </tr>\n",
              "    <tr>\n",
              "      <th>2</th>\n",
              "      <td>2.2</td>\n",
              "      <td>1040</td>\n",
              "      <td>3866</td>\n",
              "      <td>0.478110</td>\n",
              "      <td>0.521890</td>\n",
              "      <td>1311.115792</td>\n",
              "      <td>5870.841427</td>\n",
              "      <td>0.609852</td>\n",
              "      <td>0.131742</td>\n",
              "    </tr>\n",
              "    <tr>\n",
              "      <th>3</th>\n",
              "      <td>2.3</td>\n",
              "      <td>863</td>\n",
              "      <td>4729</td>\n",
              "      <td>0.584838</td>\n",
              "      <td>0.415162</td>\n",
              "      <td>936.787130</td>\n",
              "      <td>6807.628556</td>\n",
              "      <td>0.707164</td>\n",
              "      <td>0.122326</td>\n",
              "    </tr>\n",
              "    <tr>\n",
              "      <th>4</th>\n",
              "      <td>2.4</td>\n",
              "      <td>723</td>\n",
              "      <td>5452</td>\n",
              "      <td>0.674252</td>\n",
              "      <td>0.325748</td>\n",
              "      <td>678.977639</td>\n",
              "      <td>7486.606196</td>\n",
              "      <td>0.777695</td>\n",
              "      <td>0.103443</td>\n",
              "    </tr>\n",
              "  </tbody>\n",
              "</table>\n",
              "</div>\n",
              "      <button class=\"colab-df-convert\" onclick=\"convertToInteractive('df-e2af991e-02df-4872-8f6d-7b82aa091832')\"\n",
              "              title=\"Convert this dataframe to an interactive table.\"\n",
              "              style=\"display:none;\">\n",
              "        \n",
              "  <svg xmlns=\"http://www.w3.org/2000/svg\" height=\"24px\"viewBox=\"0 0 24 24\"\n",
              "       width=\"24px\">\n",
              "    <path d=\"M0 0h24v24H0V0z\" fill=\"none\"/>\n",
              "    <path d=\"M18.56 5.44l.94 2.06.94-2.06 2.06-.94-2.06-.94-.94-2.06-.94 2.06-2.06.94zm-11 1L8.5 8.5l.94-2.06 2.06-.94-2.06-.94L8.5 2.5l-.94 2.06-2.06.94zm10 10l.94 2.06.94-2.06 2.06-.94-2.06-.94-.94-2.06-.94 2.06-2.06.94z\"/><path d=\"M17.41 7.96l-1.37-1.37c-.4-.4-.92-.59-1.43-.59-.52 0-1.04.2-1.43.59L10.3 9.45l-7.72 7.72c-.78.78-.78 2.05 0 2.83L4 21.41c.39.39.9.59 1.41.59.51 0 1.02-.2 1.41-.59l7.78-7.78 2.81-2.81c.8-.78.8-2.07 0-2.86zM5.41 20L4 18.59l7.72-7.72 1.47 1.35L5.41 20z\"/>\n",
              "  </svg>\n",
              "      </button>\n",
              "      \n",
              "  <style>\n",
              "    .colab-df-container {\n",
              "      display:flex;\n",
              "      flex-wrap:wrap;\n",
              "      gap: 12px;\n",
              "    }\n",
              "\n",
              "    .colab-df-convert {\n",
              "      background-color: #E8F0FE;\n",
              "      border: none;\n",
              "      border-radius: 50%;\n",
              "      cursor: pointer;\n",
              "      display: none;\n",
              "      fill: #1967D2;\n",
              "      height: 32px;\n",
              "      padding: 0 0 0 0;\n",
              "      width: 32px;\n",
              "    }\n",
              "\n",
              "    .colab-df-convert:hover {\n",
              "      background-color: #E2EBFA;\n",
              "      box-shadow: 0px 1px 2px rgba(60, 64, 67, 0.3), 0px 1px 3px 1px rgba(60, 64, 67, 0.15);\n",
              "      fill: #174EA6;\n",
              "    }\n",
              "\n",
              "    [theme=dark] .colab-df-convert {\n",
              "      background-color: #3B4455;\n",
              "      fill: #D2E3FC;\n",
              "    }\n",
              "\n",
              "    [theme=dark] .colab-df-convert:hover {\n",
              "      background-color: #434B5C;\n",
              "      box-shadow: 0px 1px 3px 1px rgba(0, 0, 0, 0.15);\n",
              "      filter: drop-shadow(0px 1px 2px rgba(0, 0, 0, 0.3));\n",
              "      fill: #FFFFFF;\n",
              "    }\n",
              "  </style>\n",
              "\n",
              "      <script>\n",
              "        const buttonEl =\n",
              "          document.querySelector('#df-e2af991e-02df-4872-8f6d-7b82aa091832 button.colab-df-convert');\n",
              "        buttonEl.style.display =\n",
              "          google.colab.kernel.accessAllowed ? 'block' : 'none';\n",
              "\n",
              "        async function convertToInteractive(key) {\n",
              "          const element = document.querySelector('#df-e2af991e-02df-4872-8f6d-7b82aa091832');\n",
              "          const dataTable =\n",
              "            await google.colab.kernel.invokeFunction('convertToInteractive',\n",
              "                                                     [key], {});\n",
              "          if (!dataTable) return;\n",
              "\n",
              "          const docLinkHtml = 'Like what you see? Visit the ' +\n",
              "            '<a target=\"_blank\" href=https://colab.research.google.com/notebooks/data_table.ipynb>data table notebook</a>'\n",
              "            + ' to learn more about interactive tables.';\n",
              "          element.innerHTML = '';\n",
              "          dataTable['output_type'] = 'display_data';\n",
              "          await google.colab.output.renderOutput(dataTable, element);\n",
              "          const docLink = document.createElement('div');\n",
              "          docLink.innerHTML = docLinkHtml;\n",
              "          element.appendChild(docLink);\n",
              "        }\n",
              "      </script>\n",
              "    </div>\n",
              "  </div>\n",
              "  "
            ]
          },
          "metadata": {},
          "execution_count": 19
        }
      ]
    },
    {
      "cell_type": "code",
      "source": [
        "from scipy.stats import ksone\n",
        "\n",
        "confidence_level = 0.95\n",
        "alpha = 1 - confidence_level\n",
        "\n",
        "D_stat = data['delta'].max()\n",
        "D_critical = ksone.ppf(1-alpha/2, len(data))\n",
        "\n",
        "print(D_stat)\n",
        "print(D_critical)\n",
        "print('There is no significant diffrenece between the distributions for the samples.')"
      ],
      "metadata": {
        "colab": {
          "base_uri": "https://localhost:8080/"
        },
        "id": "VCrYjLWW2JYe",
        "outputId": "53c44d32-5e25-4fde-cbe9-0d4ffb18d204"
      },
      "execution_count": 20,
      "outputs": [
        {
          "output_type": "stream",
          "name": "stdout",
          "text": [
            "0.13174177595552028\n",
            "0.2307616992848535\n",
            "There is no significant diffrenece between the distributions for the samples.\n"
          ]
        }
      ]
    },
    {
      "cell_type": "markdown",
      "source": [
        "****Estimation of Xmin****\n",
        "\n",
        "***:האלגוריתם***\n",
        "\n",
        "נתחיל לרוץ על האיקסים מהניחוש הראשוני (שנגדיר בהמשך) ומעלה\n",
        "\n",
        "בכל איטרציה של האלגוריתם נחשב את הציון של קולמוגורוב-סמירנוב בין פונקציות צפיפות המצתברת של הדאטה האמיתית ושל המודל שבנינו\n",
        "\n",
        "בכל איטרציה נזיז את הניחוש הראשוני שלנו למעלה\n",
        "\n",
        "בכך אנחנו מניחים בכל איטרציה שאיקס מינימום הוא שונה\n",
        "\n",
        "נתעלם מכל ערכי איקס שמתחת לאיקס מינימום החשוד באיטרציה הנוכחית\n",
        "\n",
        "נבנה פונקציה שמקבלת איקס החשוד להיות איקס מינימום\n",
        "ומחזירה את הציון קולמוגורוב סמירנוב\n",
        "\n",
        "\n",
        "נמצא את המינימום לפונקציה זו\n",
        "\n"
      ],
      "metadata": {
        "id": "0UKSJY-9WMSK"
      }
    },
    {
      "cell_type": "code",
      "source": [
        "data.head(5)"
      ],
      "metadata": {
        "colab": {
          "base_uri": "https://localhost:8080/",
          "height": 206
        },
        "id": "meD0qV9XFS_a",
        "outputId": "c16e9a5d-3e98-416e-8992-1806cbd7dead"
      },
      "execution_count": 21,
      "outputs": [
        {
          "output_type": "execute_result",
          "data": {
            "text/plain": [
              "   Magnitude  Freq  Cumulative Freq       CDF      CCDF  Fitted Model  \\\n",
              "0        2.0  1527             1527  0.188845  0.811155   2695.775542   \n",
              "1        2.1  1299             2826  0.349493  0.650507   1863.950093   \n",
              "2        2.2  1040             3866  0.478110  0.521890   1311.115792   \n",
              "3        2.3   863             4729  0.584838  0.415162    936.787130   \n",
              "4        2.4   723             5452  0.674252  0.325748    678.977639   \n",
              "\n",
              "   Cumulative Model  CDF Fitted     delta  \n",
              "0       2695.775542    0.280032  0.091187  \n",
              "1       4559.725635    0.473656  0.124163  \n",
              "2       5870.841427    0.609852  0.131742  \n",
              "3       6807.628556    0.707164  0.122326  \n",
              "4       7486.606196    0.777695  0.103443  "
            ],
            "text/html": [
              "\n",
              "  <div id=\"df-b28b8aac-f980-4136-ae4e-55cb25d0cad6\">\n",
              "    <div class=\"colab-df-container\">\n",
              "      <div>\n",
              "<style scoped>\n",
              "    .dataframe tbody tr th:only-of-type {\n",
              "        vertical-align: middle;\n",
              "    }\n",
              "\n",
              "    .dataframe tbody tr th {\n",
              "        vertical-align: top;\n",
              "    }\n",
              "\n",
              "    .dataframe thead th {\n",
              "        text-align: right;\n",
              "    }\n",
              "</style>\n",
              "<table border=\"1\" class=\"dataframe\">\n",
              "  <thead>\n",
              "    <tr style=\"text-align: right;\">\n",
              "      <th></th>\n",
              "      <th>Magnitude</th>\n",
              "      <th>Freq</th>\n",
              "      <th>Cumulative Freq</th>\n",
              "      <th>CDF</th>\n",
              "      <th>CCDF</th>\n",
              "      <th>Fitted Model</th>\n",
              "      <th>Cumulative Model</th>\n",
              "      <th>CDF Fitted</th>\n",
              "      <th>delta</th>\n",
              "    </tr>\n",
              "  </thead>\n",
              "  <tbody>\n",
              "    <tr>\n",
              "      <th>0</th>\n",
              "      <td>2.0</td>\n",
              "      <td>1527</td>\n",
              "      <td>1527</td>\n",
              "      <td>0.188845</td>\n",
              "      <td>0.811155</td>\n",
              "      <td>2695.775542</td>\n",
              "      <td>2695.775542</td>\n",
              "      <td>0.280032</td>\n",
              "      <td>0.091187</td>\n",
              "    </tr>\n",
              "    <tr>\n",
              "      <th>1</th>\n",
              "      <td>2.1</td>\n",
              "      <td>1299</td>\n",
              "      <td>2826</td>\n",
              "      <td>0.349493</td>\n",
              "      <td>0.650507</td>\n",
              "      <td>1863.950093</td>\n",
              "      <td>4559.725635</td>\n",
              "      <td>0.473656</td>\n",
              "      <td>0.124163</td>\n",
              "    </tr>\n",
              "    <tr>\n",
              "      <th>2</th>\n",
              "      <td>2.2</td>\n",
              "      <td>1040</td>\n",
              "      <td>3866</td>\n",
              "      <td>0.478110</td>\n",
              "      <td>0.521890</td>\n",
              "      <td>1311.115792</td>\n",
              "      <td>5870.841427</td>\n",
              "      <td>0.609852</td>\n",
              "      <td>0.131742</td>\n",
              "    </tr>\n",
              "    <tr>\n",
              "      <th>3</th>\n",
              "      <td>2.3</td>\n",
              "      <td>863</td>\n",
              "      <td>4729</td>\n",
              "      <td>0.584838</td>\n",
              "      <td>0.415162</td>\n",
              "      <td>936.787130</td>\n",
              "      <td>6807.628556</td>\n",
              "      <td>0.707164</td>\n",
              "      <td>0.122326</td>\n",
              "    </tr>\n",
              "    <tr>\n",
              "      <th>4</th>\n",
              "      <td>2.4</td>\n",
              "      <td>723</td>\n",
              "      <td>5452</td>\n",
              "      <td>0.674252</td>\n",
              "      <td>0.325748</td>\n",
              "      <td>678.977639</td>\n",
              "      <td>7486.606196</td>\n",
              "      <td>0.777695</td>\n",
              "      <td>0.103443</td>\n",
              "    </tr>\n",
              "  </tbody>\n",
              "</table>\n",
              "</div>\n",
              "      <button class=\"colab-df-convert\" onclick=\"convertToInteractive('df-b28b8aac-f980-4136-ae4e-55cb25d0cad6')\"\n",
              "              title=\"Convert this dataframe to an interactive table.\"\n",
              "              style=\"display:none;\">\n",
              "        \n",
              "  <svg xmlns=\"http://www.w3.org/2000/svg\" height=\"24px\"viewBox=\"0 0 24 24\"\n",
              "       width=\"24px\">\n",
              "    <path d=\"M0 0h24v24H0V0z\" fill=\"none\"/>\n",
              "    <path d=\"M18.56 5.44l.94 2.06.94-2.06 2.06-.94-2.06-.94-.94-2.06-.94 2.06-2.06.94zm-11 1L8.5 8.5l.94-2.06 2.06-.94-2.06-.94L8.5 2.5l-.94 2.06-2.06.94zm10 10l.94 2.06.94-2.06 2.06-.94-2.06-.94-.94-2.06-.94 2.06-2.06.94z\"/><path d=\"M17.41 7.96l-1.37-1.37c-.4-.4-.92-.59-1.43-.59-.52 0-1.04.2-1.43.59L10.3 9.45l-7.72 7.72c-.78.78-.78 2.05 0 2.83L4 21.41c.39.39.9.59 1.41.59.51 0 1.02-.2 1.41-.59l7.78-7.78 2.81-2.81c.8-.78.8-2.07 0-2.86zM5.41 20L4 18.59l7.72-7.72 1.47 1.35L5.41 20z\"/>\n",
              "  </svg>\n",
              "      </button>\n",
              "      \n",
              "  <style>\n",
              "    .colab-df-container {\n",
              "      display:flex;\n",
              "      flex-wrap:wrap;\n",
              "      gap: 12px;\n",
              "    }\n",
              "\n",
              "    .colab-df-convert {\n",
              "      background-color: #E8F0FE;\n",
              "      border: none;\n",
              "      border-radius: 50%;\n",
              "      cursor: pointer;\n",
              "      display: none;\n",
              "      fill: #1967D2;\n",
              "      height: 32px;\n",
              "      padding: 0 0 0 0;\n",
              "      width: 32px;\n",
              "    }\n",
              "\n",
              "    .colab-df-convert:hover {\n",
              "      background-color: #E2EBFA;\n",
              "      box-shadow: 0px 1px 2px rgba(60, 64, 67, 0.3), 0px 1px 3px 1px rgba(60, 64, 67, 0.15);\n",
              "      fill: #174EA6;\n",
              "    }\n",
              "\n",
              "    [theme=dark] .colab-df-convert {\n",
              "      background-color: #3B4455;\n",
              "      fill: #D2E3FC;\n",
              "    }\n",
              "\n",
              "    [theme=dark] .colab-df-convert:hover {\n",
              "      background-color: #434B5C;\n",
              "      box-shadow: 0px 1px 3px 1px rgba(0, 0, 0, 0.15);\n",
              "      filter: drop-shadow(0px 1px 2px rgba(0, 0, 0, 0.3));\n",
              "      fill: #FFFFFF;\n",
              "    }\n",
              "  </style>\n",
              "\n",
              "      <script>\n",
              "        const buttonEl =\n",
              "          document.querySelector('#df-b28b8aac-f980-4136-ae4e-55cb25d0cad6 button.colab-df-convert');\n",
              "        buttonEl.style.display =\n",
              "          google.colab.kernel.accessAllowed ? 'block' : 'none';\n",
              "\n",
              "        async function convertToInteractive(key) {\n",
              "          const element = document.querySelector('#df-b28b8aac-f980-4136-ae4e-55cb25d0cad6');\n",
              "          const dataTable =\n",
              "            await google.colab.kernel.invokeFunction('convertToInteractive',\n",
              "                                                     [key], {});\n",
              "          if (!dataTable) return;\n",
              "\n",
              "          const docLinkHtml = 'Like what you see? Visit the ' +\n",
              "            '<a target=\"_blank\" href=https://colab.research.google.com/notebooks/data_table.ipynb>data table notebook</a>'\n",
              "            + ' to learn more about interactive tables.';\n",
              "          element.innerHTML = '';\n",
              "          dataTable['output_type'] = 'display_data';\n",
              "          await google.colab.output.renderOutput(dataTable, element);\n",
              "          const docLink = document.createElement('div');\n",
              "          docLink.innerHTML = docLinkHtml;\n",
              "          element.appendChild(docLink);\n",
              "        }\n",
              "      </script>\n",
              "    </div>\n",
              "  </div>\n",
              "  "
            ]
          },
          "metadata": {},
          "execution_count": 21
        }
      ]
    },
    {
      "cell_type": "code",
      "source": [
        "# def CDF_actual(x):\n",
        "#   if x < data['Magnitude'].min():\n",
        "#      return 0.0\n",
        "#   return float(data[data['Magnitude']<=x]['CDF'][-1:])\n",
        "\n",
        "# def CDF_fitted(x):\n",
        "#   if x < data['Magnitude'].min():\n",
        "#      return 0.0\n",
        "#   return float(data[data['Magnitude']<=x]['CDF Fitted'][-1:])"
      ],
      "metadata": {
        "id": "QTQWNLacH-xy"
      },
      "execution_count": null,
      "outputs": []
    },
    {
      "cell_type": "code",
      "source": [
        "estimation = aggregated_data.copy()\n",
        "x_axes = []\n",
        "D = []\n",
        "X_range = [2,6,0.1] # נבדוק את האיקסים החשודים בלהיות איקס מינימום בטווח הזה בין 3 ל-6, בצעדים של 0.1 בסקלה של ריכטר\n",
        "\n",
        "def KS_test_run(dataset, range):\n",
        "\n",
        "    start = X_range[0]\n",
        "    end = X_range[1]\n",
        "    step= X_range[2]\n",
        "\n",
        "    while start <= end:\n",
        "        tmp = aggregated_data.copy()\n",
        "        tmp = tmp.sort_values(by=['Magnitude'])\n",
        "        tmp = tmp[tmp['Magnitude'] >= start]\n",
        "        tmp['Fit'] = f(tmp['Magnitude'])\n",
        "        tmp['CDF'] = tmp['Freq'].cumsum() / tmp['Freq'].sum()\n",
        "        tmp['CDF fitted'] = tmp['Fit'].cumsum() / tmp['Fit'].sum()\n",
        "        tmp['delta'] = abs(tmp['CDF fitted']-tmp['CDF'])\n",
        "        KS = tmp['delta'].max()\n",
        "        D.append(KS)\n",
        "        x=tmp['Magnitude'].iloc[0]\n",
        "        x_axes.append(x)\n",
        "\n",
        "        print('x={}  D={}'.format(x, KS))\n",
        "\n",
        "        start += step\n",
        "\n",
        "\n",
        "KS_test_run(dataset=estimation, range=range)\n",
        "figure(figsize=(8, 6), dpi=80)\n",
        "plt.title(\"The function's global minimum value is {},  at X={}\".format(round(min(D),4),x_axes[D.index(min(D))]))\n",
        "plt.plot(x_axes, D, 'r*', label='Xmin={}'.format(x_axes[D.index(min(D))]))\n",
        "plt.legend(loc=2, prop={'size':15})\n",
        "plt.show()"
      ],
      "metadata": {
        "colab": {
          "base_uri": "https://localhost:8080/",
          "height": 1000
        },
        "id": "BrwkVk2V2BIs",
        "outputId": "1bc574c3-08c2-4f47-8f4a-17521c7602b7"
      },
      "execution_count": 22,
      "outputs": [
        {
          "output_type": "stream",
          "name": "stdout",
          "text": [
            "x=2.0  D=0.13174177595552028\n",
            "x=2.1  D=0.10508071232452654\n",
            "x=2.2  D=0.081854149795559\n",
            "x=2.4  D=0.05829854395807571\n",
            "x=2.5  D=0.05612292483925446\n",
            "x=2.6  D=0.04319807448631019\n",
            "x=2.7  D=0.036532861130504024\n",
            "x=2.8  D=0.03984040618216966\n",
            "x=2.9  D=0.04960520097637222\n",
            "x=3.0  D=0.07115798836136733\n",
            "x=3.1  D=0.0953613344991775\n",
            "x=3.2  D=0.10760637032602516\n",
            "x=3.3  D=0.11634965247167095\n",
            "x=3.4  D=0.13653468352417808\n",
            "x=3.5  D=0.13316010970425035\n",
            "x=3.6  D=0.13121887531111098\n",
            "x=3.7  D=0.13869180047298346\n",
            "x=3.8  D=0.12379929780067744\n",
            "x=3.9  D=0.14440543369807174\n",
            "x=4.0  D=0.08705394973968444\n",
            "x=4.1  D=0.06958739546082238\n",
            "x=4.2  D=0.09727966681605771\n",
            "x=4.3  D=0.12048244752221249\n",
            "x=4.4  D=0.181094117014597\n",
            "x=4.4  D=0.181094117014597\n",
            "x=4.5  D=0.20826902087146903\n",
            "x=4.6  D=0.3522825161150671\n",
            "x=4.7  D=0.3306376143904145\n",
            "x=4.8  D=0.23885753976760182\n",
            "x=5.4  D=0.08859203369420265\n",
            "x=5.4  D=0.08859203369420265\n",
            "x=5.4  D=0.08859203369420265\n",
            "x=5.4  D=0.08859203369420265\n",
            "x=5.4  D=0.08859203369420265\n",
            "x=5.4  D=0.08859203369420265\n",
            "x=5.9  D=0.12975253412802612\n",
            "x=5.9  D=0.12975253412802612\n",
            "x=5.9  D=0.12975253412802612\n",
            "x=5.9  D=0.12975253412802612\n",
            "x=5.9  D=0.12975253412802612\n",
            "x=6.0  D=0.14687781067441796\n"
          ]
        },
        {
          "output_type": "display_data",
          "data": {
            "text/plain": [
              "<Figure size 640x480 with 1 Axes>"
            ],
            "image/png": "[encoded data removed]"
          },
          "metadata": {
            "needs_background": "light"
          }
        }
      ]
    },
    {
      "cell_type": "code",
      "source": [
        "Xmin=x_axes[D.index(min(D))]\n",
        "n = len(data[data['Magnitude']>=Xmin])\n",
        "alpha = 1 + n * (np.log(data[data['Magnitude']>Xmin]['Magnitude'] / Xmin).sum())**-1\n",
        "\n",
        "print('Answer:')\n",
        "print('Xmin = {}'.format(Xmin))\n",
        "print('alpha = {}'.format(round(alpha,4)))"
      ],
      "metadata": {
        "colab": {
          "base_uri": "https://localhost:8080/"
        },
        "id": "ea_tB7umH-ue",
        "outputId": "87697777-5a73-4afa-988f-2f15e1b3799e"
      },
      "execution_count": 33,
      "outputs": [
        {
          "output_type": "stream",
          "name": "stdout",
          "text": [
            "Answer:\n",
            "Xmin = 2.7\n",
            "alpha = 3.5856\n"
          ]
        }
      ]
    },
    {
      "cell_type": "markdown",
      "source": [
        "### Tests of Estimates for the Lower Bound"
      ],
      "metadata": {
        "id": "p_IOP2Xl6aD9"
      }
    },
    {
      "cell_type": "markdown",
      "source": [
        "**Goodness of fit**"
      ],
      "metadata": {
        "id": "6Pvt63qR64cF"
      }
    },
    {
      "cell_type": "code",
      "source": [
        "p_law = lambda Xmin, alpha: Xmin * (1-np.random.uniform(0,1,1)[0])**(1/(1-alpha))"
      ],
      "metadata": {
        "id": "4uduhE9TdvTD"
      },
      "execution_count": 34,
      "outputs": []
    },
    {
      "cell_type": "code",
      "source": [
        "def create_sintetic_data(size):\n",
        "  distribution = []\n",
        "  for i in range(size):\n",
        "    p = round(p_law(Xmin, alpha),1) \n",
        "    distribution.append(p)\n",
        "\n",
        "  return distribution"
      ],
      "metadata": {
        "id": "2t8w0nEIfmmX"
      },
      "execution_count": 35,
      "outputs": []
    },
    {
      "cell_type": "code",
      "source": [
        "sintetic_data_catalog = [] # 100 power-law distributed datasets of 5000 observations each\n",
        "\n",
        "for i in range(100):\n",
        "  tmp = create_sintetic_data(5000)\n",
        "  sintetic_data_catalog.append(tmp)"
      ],
      "metadata": {
        "id": "ZbSCUe-Yfm61"
      },
      "execution_count": 51,
      "outputs": []
    },
    {
      "cell_type": "code",
      "source": [
        "KS_array = []\n",
        "\n",
        "for i in range(len(sintetic_data_catalog)):\n",
        "\n",
        "    t = pd.DataFrame(sintetic_data_catalog[i], columns=['magnitude'])\n",
        "    tmp = pd.DataFrame(t['magnitude'].value_counts().reset_index().rename(columns={\"index\": \"Magnitude\", \"magnitude\": \"Freq\"})).sort_values('Magnitude')\n",
        "    tmp['CDF'] = tmp['Freq'].cumsum() / tmp['Freq'].sum()\n",
        "\n",
        "    X = tmp['Magnitude']\n",
        "    y = tmp['Freq']\n",
        "    lnX = np.log(X)\n",
        "    lnY = np.log(y)\n",
        "    b, lna = np.polyfit(lnX, lnY, 1) # Minimizes the squared error\n",
        "    a = np.exp(lna)\n",
        "    # print('power={} sigma={}'.format(b,a))\n",
        "\n",
        "    fx = lambda x: a * x**b\n",
        "\n",
        "    tmp['Model'] = fx(tmp['Magnitude'])\n",
        "    tmp['CDF_model'] = tmp['Model'].cumsum() / tmp['Model'].sum()\n",
        "    tmp['delta'] = abs(tmp['CDF'] - tmp['CDF_model'])\n",
        "    KS = tmp['delta'].max()\n",
        "    KS_array.append(KS)\n",
        "\n",
        "    # plt.plot(tmp['Magnitude'], tmp['CDF'], 'r-')\n",
        "    # plt.plot(tmp['Magnitude'], tmp['CDF_model'], 'b--')\n",
        "    # plt.show()\n",
        "\n",
        "\n"
      ],
      "metadata": {
        "id": "Nq8ORwrTXwGn"
      },
      "execution_count": 52,
      "outputs": []
    },
    {
      "cell_type": "code",
      "source": [
        "Dn = min(D)\n",
        "def find_pvalue():\n",
        "  counter = 0\n",
        "  for i in range(len(KS_array)):\n",
        "    if KS_array[i]<Dn:\n",
        "      counter+=1\n",
        "  return counter/len(KS_array)"
      ],
      "metadata": {
        "id": "aORT1C9rXVjC"
      },
      "execution_count": 53,
      "outputs": []
    },
    {
      "cell_type": "code",
      "source": [
        "print(find_pvalue())"
      ],
      "metadata": {
        "colab": {
          "base_uri": "https://localhost:8080/"
        },
        "id": "wnGyHN7mdolL",
        "outputId": "473dabc2-7750-419f-d397-6a1fceeeafd0"
      },
      "execution_count": 54,
      "outputs": [
        {
          "output_type": "stream",
          "name": "stdout",
          "text": [
            "0.0\n"
          ]
        }
      ]
    },
    {
      "cell_type": "code",
      "source": [
        "# KS_array"
      ],
      "metadata": {
        "id": "_NIuhyDQZZCQ"
      },
      "execution_count": 56,
      "outputs": []
    },
    {
      "cell_type": "code",
      "source": [],
      "metadata": {
        "id": "VFZdPKa2ZZGw"
      },
      "execution_count": null,
      "outputs": []
    },
    {
      "cell_type": "code",
      "source": [],
      "metadata": {
        "id": "X3ebSca1ZZKh"
      },
      "execution_count": null,
      "outputs": []
    },
    {
      "cell_type": "code",
      "source": [],
      "metadata": {
        "id": "g7cyR84fXVla"
      },
      "execution_count": null,
      "outputs": []
    },
    {
      "cell_type": "code",
      "source": [
        "figure(figsize=(8, 6), dpi=80)\n",
        "plt.loglog(test['Magnitude'], test['Freq'], 'bo')\n",
        "plt.grid()\n",
        "plt.show()"
      ],
      "metadata": {
        "colab": {
          "base_uri": "https://localhost:8080/",
          "height": 418
        },
        "id": "QfLQG70gAPV_",
        "outputId": "b9effaa5-3bd7-4b24-f185-a9d0de810b1d"
      },
      "execution_count": null,
      "outputs": [
        {
          "output_type": "display_data",
          "data": {
            "text/plain": [
              "<Figure size 640x480 with 1 Axes>"
            ],
            "image/png": "[encoded data removed]"
          },
          "metadata": {
            "needs_background": "light"
          }
        }
      ]
    }
  ]
}