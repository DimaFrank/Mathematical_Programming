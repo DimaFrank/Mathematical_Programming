{
  "nbformat": 4,
  "nbformat_minor": 0,
  "metadata": {
    "colab": {
      "provenance": [],
      "authorship_tag": "ABX9TyMM2W/KZXea/3NI6vyiChmX",
      "include_colab_link": true
    },
    "kernelspec": {
      "name": "python3",
      "display_name": "Python 3"
    },
    "language_info": {
      "name": "python"
    }
  },
  "cells": [
    {
      "cell_type": "markdown",
      "metadata": {
        "id": "view-in-github",
        "colab_type": "text"
      },
      "source": [
        "<a href=\"https://colab.research.google.com/github/DimaFrank/Mathematical_Programming/blob/main/Assignment_2.ipynb\" target=\"_parent\"><img src=\"https://colab.research.google.com/assets/colab-badge.svg\" alt=\"Open In Colab\"/></a>"
      ]
    },
    {
      "cell_type": "markdown",
      "source": [
        "Student Name: Dima Frank\n",
        "\n",
        "Student Id: 327314308"
      ],
      "metadata": {
        "id": "dTw_Z_7XdddU"
      }
    },
    {
      "cell_type": "markdown",
      "source": [
        "### About the data."
      ],
      "metadata": {
        "id": "Yvd1sv6ZH7Po"
      }
    },
    {
      "cell_type": "markdown",
      "source": [
        "*For this task I will use the data of earthquakes in Italy between 2016-08-24 and 2016-11-30.*\n",
        "\n",
        "*The data is taken from kaggle:*\n",
        "\n",
        "https://www.kaggle.com/datasets/blackecho/italy-earthquakes\n",
        "\n",
        "\n",
        "*As it's know that the magnitude of earthquakes is power-law distributed relative to their frequency.*\n",
        "\n",
        "*Or we can also say that the frequency of earthquakes varies inversely with their intensity.* \n",
        "\n",
        "\n",
        "**Meta data:**\n",
        "\n",
        "The dataset contains events from 2016-08-24 to 2016-11-30. It's a single .csv file with the following header:\n",
        "\n",
        "Time,Latitude,Longitude,Depth/Km,Magnitude\n",
        "The dataset contains 8087 rows (8086 of data + 1 of header)\n"
      ],
      "metadata": {
        "id": "hXIDLWNMaqRT"
      }
    },
    {
      "cell_type": "markdown",
      "source": [
        "### Get data."
      ],
      "metadata": {
        "id": "_3ZTGmUKd5_A"
      }
    },
    {
      "cell_type": "code",
      "source": [
        "import os\n",
        "from google.colab import drive\n",
        "drive.mount('/content/drive')\n",
        "!wget --quiet --show-progress https://drive.google.com/drive/u/0/folders/1zKTXVP8ncsRRXgtFxA6MvL-lWirAoc6a"
      ],
      "metadata": {
        "colab": {
          "base_uri": "https://localhost:8080/"
        },
        "id": "29A1D7CgTpQ2",
        "outputId": "a54b6ab4-1b59-474c-d9ab-cdfcb91b148b"
      },
      "execution_count": 1,
      "outputs": [
        {
          "output_type": "stream",
          "name": "stdout",
          "text": [
            "Mounted at /content/drive\n"
          ]
        }
      ]
    },
    {
      "cell_type": "code",
      "source": [
        "!ls /content/drive/MyDrive/ColabDatasets/"
      ],
      "metadata": {
        "colab": {
          "base_uri": "https://localhost:8080/"
        },
        "id": "v9rkiOHQUpY0",
        "outputId": "78a994e4-48a0-466a-cf19-d161b8cd75fa"
      },
      "execution_count": 2,
      "outputs": [
        {
          "output_type": "stream",
          "name": "stdout",
          "text": [
            "Italy_Earthquakes\t\t Retail_Store_Sales_Transactions.zip\n",
            "ItalyEarthquakes.zip\t\t rts22_test.csv\n",
            "Retail_Store_Sales_Transactions  user-ct-test-collection-01.txt.gz\n"
          ]
        }
      ]
    },
    {
      "cell_type": "code",
      "source": [
        "!unzip /content/drive/MyDrive/ColabDatasets/ItalyEarthquakes.zip -d /content/drive/MyDrive/ColabDatasets/Italy_Earthquakes/  "
      ],
      "metadata": {
        "id": "D9-UGaknUyNc",
        "outputId": "6bcc9983-c540-4846-971c-0332b327106f",
        "colab": {
          "base_uri": "https://localhost:8080/"
        }
      },
      "execution_count": null,
      "outputs": [
        {
          "output_type": "stream",
          "name": "stdout",
          "text": [
            "Archive:  /content/drive/MyDrive/ColabDatasets/ItalyEarthquakes.zip\n",
            "replace /content/drive/MyDrive/ColabDatasets/Italy_Earthquakes/italy_earthquakes_from_2016-08-24_to_2016-11-30.csv? [y]es, [n]o, [A]ll, [N]one, [r]ename: n\n"
          ]
        }
      ]
    },
    {
      "cell_type": "markdown",
      "source": [
        "### Exploring the data."
      ],
      "metadata": {
        "id": "L_S8vqVgeWDL"
      }
    },
    {
      "cell_type": "code",
      "execution_count": 3,
      "metadata": {
        "id": "TB-Ig3SvTiU3"
      },
      "outputs": [],
      "source": [
        "import numpy as np\n",
        "import pandas as pd\n",
        "import matplotlib.pyplot as plt\n",
        "from matplotlib.pyplot import figure\n",
        "import seaborn as sns\n",
        "from sklearn.linear_model import LinearRegression"
      ]
    },
    {
      "cell_type": "code",
      "source": [
        "df = pd.read_csv(\"/content/drive/MyDrive/ColabDatasets/Italy_Earthquakes/italy_earthquakes_from_2016-08-24_to_2016-11-30.csv\")\n",
        "df.shape"
      ],
      "metadata": {
        "colab": {
          "base_uri": "https://localhost:8080/"
        },
        "id": "m7nfOB8KU7ls",
        "outputId": "45aeb08c-a707-4697-9364-2b0529555bc8"
      },
      "execution_count": 4,
      "outputs": [
        {
          "output_type": "execute_result",
          "data": {
            "text/plain": [
              "(8086, 5)"
            ]
          },
          "metadata": {},
          "execution_count": 4
        }
      ]
    },
    {
      "cell_type": "code",
      "source": [
        "df.head(5)"
      ],
      "metadata": {
        "colab": {
          "base_uri": "https://localhost:8080/",
          "height": 206
        },
        "id": "83hMxXQVVJDj",
        "outputId": "9d8cb764-494c-414f-c4b0-cba5fda73343"
      },
      "execution_count": 5,
      "outputs": [
        {
          "output_type": "execute_result",
          "data": {
            "text/plain": [
              "                      Time  Latitude  Longitude  Depth/Km  Magnitude\n",
              "0  2016-08-24 03:36:32.000   42.6983    13.2335       8.1        6.0\n",
              "1  2016-08-24 03:37:26.580   42.7123    13.2533       9.0        4.5\n",
              "2  2016-08-24 03:40:46.590   42.7647    13.1723       9.7        3.8\n",
              "3  2016-08-24 03:41:38.900   42.7803    13.1683       9.7        3.9\n",
              "4  2016-08-24 03:42:07.170   42.7798    13.1575       9.7        3.6"
            ],
            "text/html": [
              "\n",
              "  <div id=\"df-9d806cc7-e7ce-49c1-8478-6a598dd561cc\">\n",
              "    <div class=\"colab-df-container\">\n",
              "      <div>\n",
              "<style scoped>\n",
              "    .dataframe tbody tr th:only-of-type {\n",
              "        vertical-align: middle;\n",
              "    }\n",
              "\n",
              "    .dataframe tbody tr th {\n",
              "        vertical-align: top;\n",
              "    }\n",
              "\n",
              "    .dataframe thead th {\n",
              "        text-align: right;\n",
              "    }\n",
              "</style>\n",
              "<table border=\"1\" class=\"dataframe\">\n",
              "  <thead>\n",
              "    <tr style=\"text-align: right;\">\n",
              "      <th></th>\n",
              "      <th>Time</th>\n",
              "      <th>Latitude</th>\n",
              "      <th>Longitude</th>\n",
              "      <th>Depth/Km</th>\n",
              "      <th>Magnitude</th>\n",
              "    </tr>\n",
              "  </thead>\n",
              "  <tbody>\n",
              "    <tr>\n",
              "      <th>0</th>\n",
              "      <td>2016-08-24 03:36:32.000</td>\n",
              "      <td>42.6983</td>\n",
              "      <td>13.2335</td>\n",
              "      <td>8.1</td>\n",
              "      <td>6.0</td>\n",
              "    </tr>\n",
              "    <tr>\n",
              "      <th>1</th>\n",
              "      <td>2016-08-24 03:37:26.580</td>\n",
              "      <td>42.7123</td>\n",
              "      <td>13.2533</td>\n",
              "      <td>9.0</td>\n",
              "      <td>4.5</td>\n",
              "    </tr>\n",
              "    <tr>\n",
              "      <th>2</th>\n",
              "      <td>2016-08-24 03:40:46.590</td>\n",
              "      <td>42.7647</td>\n",
              "      <td>13.1723</td>\n",
              "      <td>9.7</td>\n",
              "      <td>3.8</td>\n",
              "    </tr>\n",
              "    <tr>\n",
              "      <th>3</th>\n",
              "      <td>2016-08-24 03:41:38.900</td>\n",
              "      <td>42.7803</td>\n",
              "      <td>13.1683</td>\n",
              "      <td>9.7</td>\n",
              "      <td>3.9</td>\n",
              "    </tr>\n",
              "    <tr>\n",
              "      <th>4</th>\n",
              "      <td>2016-08-24 03:42:07.170</td>\n",
              "      <td>42.7798</td>\n",
              "      <td>13.1575</td>\n",
              "      <td>9.7</td>\n",
              "      <td>3.6</td>\n",
              "    </tr>\n",
              "  </tbody>\n",
              "</table>\n",
              "</div>\n",
              "      <button class=\"colab-df-convert\" onclick=\"convertToInteractive('df-9d806cc7-e7ce-49c1-8478-6a598dd561cc')\"\n",
              "              title=\"Convert this dataframe to an interactive table.\"\n",
              "              style=\"display:none;\">\n",
              "        \n",
              "  <svg xmlns=\"http://www.w3.org/2000/svg\" height=\"24px\"viewBox=\"0 0 24 24\"\n",
              "       width=\"24px\">\n",
              "    <path d=\"M0 0h24v24H0V0z\" fill=\"none\"/>\n",
              "    <path d=\"M18.56 5.44l.94 2.06.94-2.06 2.06-.94-2.06-.94-.94-2.06-.94 2.06-2.06.94zm-11 1L8.5 8.5l.94-2.06 2.06-.94-2.06-.94L8.5 2.5l-.94 2.06-2.06.94zm10 10l.94 2.06.94-2.06 2.06-.94-2.06-.94-.94-2.06-.94 2.06-2.06.94z\"/><path d=\"M17.41 7.96l-1.37-1.37c-.4-.4-.92-.59-1.43-.59-.52 0-1.04.2-1.43.59L10.3 9.45l-7.72 7.72c-.78.78-.78 2.05 0 2.83L4 21.41c.39.39.9.59 1.41.59.51 0 1.02-.2 1.41-.59l7.78-7.78 2.81-2.81c.8-.78.8-2.07 0-2.86zM5.41 20L4 18.59l7.72-7.72 1.47 1.35L5.41 20z\"/>\n",
              "  </svg>\n",
              "      </button>\n",
              "      \n",
              "  <style>\n",
              "    .colab-df-container {\n",
              "      display:flex;\n",
              "      flex-wrap:wrap;\n",
              "      gap: 12px;\n",
              "    }\n",
              "\n",
              "    .colab-df-convert {\n",
              "      background-color: #E8F0FE;\n",
              "      border: none;\n",
              "      border-radius: 50%;\n",
              "      cursor: pointer;\n",
              "      display: none;\n",
              "      fill: #1967D2;\n",
              "      height: 32px;\n",
              "      padding: 0 0 0 0;\n",
              "      width: 32px;\n",
              "    }\n",
              "\n",
              "    .colab-df-convert:hover {\n",
              "      background-color: #E2EBFA;\n",
              "      box-shadow: 0px 1px 2px rgba(60, 64, 67, 0.3), 0px 1px 3px 1px rgba(60, 64, 67, 0.15);\n",
              "      fill: #174EA6;\n",
              "    }\n",
              "\n",
              "    [theme=dark] .colab-df-convert {\n",
              "      background-color: #3B4455;\n",
              "      fill: #D2E3FC;\n",
              "    }\n",
              "\n",
              "    [theme=dark] .colab-df-convert:hover {\n",
              "      background-color: #434B5C;\n",
              "      box-shadow: 0px 1px 3px 1px rgba(0, 0, 0, 0.15);\n",
              "      filter: drop-shadow(0px 1px 2px rgba(0, 0, 0, 0.3));\n",
              "      fill: #FFFFFF;\n",
              "    }\n",
              "  </style>\n",
              "\n",
              "      <script>\n",
              "        const buttonEl =\n",
              "          document.querySelector('#df-9d806cc7-e7ce-49c1-8478-6a598dd561cc button.colab-df-convert');\n",
              "        buttonEl.style.display =\n",
              "          google.colab.kernel.accessAllowed ? 'block' : 'none';\n",
              "\n",
              "        async function convertToInteractive(key) {\n",
              "          const element = document.querySelector('#df-9d806cc7-e7ce-49c1-8478-6a598dd561cc');\n",
              "          const dataTable =\n",
              "            await google.colab.kernel.invokeFunction('convertToInteractive',\n",
              "                                                     [key], {});\n",
              "          if (!dataTable) return;\n",
              "\n",
              "          const docLinkHtml = 'Like what you see? Visit the ' +\n",
              "            '<a target=\"_blank\" href=https://colab.research.google.com/notebooks/data_table.ipynb>data table notebook</a>'\n",
              "            + ' to learn more about interactive tables.';\n",
              "          element.innerHTML = '';\n",
              "          dataTable['output_type'] = 'display_data';\n",
              "          await google.colab.output.renderOutput(dataTable, element);\n",
              "          const docLink = document.createElement('div');\n",
              "          docLink.innerHTML = docLinkHtml;\n",
              "          element.appendChild(docLink);\n",
              "        }\n",
              "      </script>\n",
              "    </div>\n",
              "  </div>\n",
              "  "
            ]
          },
          "metadata": {},
          "execution_count": 5
        }
      ]
    },
    {
      "cell_type": "markdown",
      "source": [
        "***.תחילה נראה את ההתפגות של הנתונים על-ידי היסטוגרמה***\n",
        "\n",
        "\n",
        "***.ניתן לראות שהעוצמה של רעידות אדמה ביחס לחשכיחותם מתפלגת דומה לחוק חזקה***\n",
        "\n",
        "***לפחות 80 אחוז מהמדידות נמצאות מתחת ל-3 בסולם ריכטר ורק בערך 20 אחוז נמצאות מעל***\n",
        "\n",
        "**בסך הכל בדאטה קיימות 8086 תצפיות (מדידות) בסקלה מ-2 עד 6.5**"
      ],
      "metadata": {
        "id": "pyhK3yLecQIB"
      }
    },
    {
      "cell_type": "code",
      "source": [
        "figure(figsize=(8, 6), dpi=80)\n",
        "df['Magnitude'].plot(kind='hist', bins=40)\n",
        "plt.title(\"Distribution of Magnitude\")\n",
        "plt.xlabel(\"Magnitude of Earthquake\")\n",
        "plt.ylabel(\"Frequency\")\n",
        "plt.show()"
      ],
      "metadata": {
        "colab": {
          "base_uri": "https://localhost:8080/",
          "height": 444
        },
        "id": "zjGYJWOcVkLF",
        "outputId": "ede42c77-f742-4f63-f89b-8d0966f25298"
      },
      "execution_count": 6,
      "outputs": [
        {
          "output_type": "display_data",
          "data": {
            "text/plain": [
              "<Figure size 640x480 with 1 Axes>"
            ],
            "image/png": "[encoded data removed]"
          },
          "metadata": {
            "needs_background": "light"
          }
        }
      ]
    },
    {
      "cell_type": "markdown",
      "source": [
        "***מכיוון שהמדידות בסולם ריכטר הן לא משתנה רציף אלה משתנה בדיד, אני אקבץ את \n",
        "הדאטה לצורך הנוחות על ידי פונקציה של פייתון***"
      ],
      "metadata": {
        "id": "0k5M60K8goPn"
      }
    },
    {
      "cell_type": "code",
      "source": [
        "tmp = df['Magnitude'].value_counts()\n",
        "aggregated_data = pd.DataFrame(tmp).reset_index().rename(columns={\"index\": \"Magnitude\", \"Magnitude\": \"Freq\"}) # דאטה מקובצת\n",
        "# נראה את הנתנונים המקובצים\n",
        "aggregated_data.head(10)"
      ],
      "metadata": {
        "id": "8hKjue6BCEsE",
        "colab": {
          "base_uri": "https://localhost:8080/",
          "height": 363
        },
        "outputId": "bd22deaa-1978-44a2-8f68-7ccb55cbd928"
      },
      "execution_count": 7,
      "outputs": [
        {
          "output_type": "execute_result",
          "data": {
            "text/plain": [
              "   Magnitude  Freq\n",
              "0        2.0  1527\n",
              "1        2.1  1299\n",
              "2        2.2  1040\n",
              "3        2.3   863\n",
              "4        2.4   723\n",
              "5        2.5   519\n",
              "6        2.6   406\n",
              "7        2.7   340\n",
              "8        2.8   304\n",
              "9        2.9   177"
            ],
            "text/html": [
              "\n",
              "  <div id=\"df-78a7a49a-fa3b-43f6-8a19-85ea4f9068e1\">\n",
              "    <div class=\"colab-df-container\">\n",
              "      <div>\n",
              "<style scoped>\n",
              "    .dataframe tbody tr th:only-of-type {\n",
              "        vertical-align: middle;\n",
              "    }\n",
              "\n",
              "    .dataframe tbody tr th {\n",
              "        vertical-align: top;\n",
              "    }\n",
              "\n",
              "    .dataframe thead th {\n",
              "        text-align: right;\n",
              "    }\n",
              "</style>\n",
              "<table border=\"1\" class=\"dataframe\">\n",
              "  <thead>\n",
              "    <tr style=\"text-align: right;\">\n",
              "      <th></th>\n",
              "      <th>Magnitude</th>\n",
              "      <th>Freq</th>\n",
              "    </tr>\n",
              "  </thead>\n",
              "  <tbody>\n",
              "    <tr>\n",
              "      <th>0</th>\n",
              "      <td>2.0</td>\n",
              "      <td>1527</td>\n",
              "    </tr>\n",
              "    <tr>\n",
              "      <th>1</th>\n",
              "      <td>2.1</td>\n",
              "      <td>1299</td>\n",
              "    </tr>\n",
              "    <tr>\n",
              "      <th>2</th>\n",
              "      <td>2.2</td>\n",
              "      <td>1040</td>\n",
              "    </tr>\n",
              "    <tr>\n",
              "      <th>3</th>\n",
              "      <td>2.3</td>\n",
              "      <td>863</td>\n",
              "    </tr>\n",
              "    <tr>\n",
              "      <th>4</th>\n",
              "      <td>2.4</td>\n",
              "      <td>723</td>\n",
              "    </tr>\n",
              "    <tr>\n",
              "      <th>5</th>\n",
              "      <td>2.5</td>\n",
              "      <td>519</td>\n",
              "    </tr>\n",
              "    <tr>\n",
              "      <th>6</th>\n",
              "      <td>2.6</td>\n",
              "      <td>406</td>\n",
              "    </tr>\n",
              "    <tr>\n",
              "      <th>7</th>\n",
              "      <td>2.7</td>\n",
              "      <td>340</td>\n",
              "    </tr>\n",
              "    <tr>\n",
              "      <th>8</th>\n",
              "      <td>2.8</td>\n",
              "      <td>304</td>\n",
              "    </tr>\n",
              "    <tr>\n",
              "      <th>9</th>\n",
              "      <td>2.9</td>\n",
              "      <td>177</td>\n",
              "    </tr>\n",
              "  </tbody>\n",
              "</table>\n",
              "</div>\n",
              "      <button class=\"colab-df-convert\" onclick=\"convertToInteractive('df-78a7a49a-fa3b-43f6-8a19-85ea4f9068e1')\"\n",
              "              title=\"Convert this dataframe to an interactive table.\"\n",
              "              style=\"display:none;\">\n",
              "        \n",
              "  <svg xmlns=\"http://www.w3.org/2000/svg\" height=\"24px\"viewBox=\"0 0 24 24\"\n",
              "       width=\"24px\">\n",
              "    <path d=\"M0 0h24v24H0V0z\" fill=\"none\"/>\n",
              "    <path d=\"M18.56 5.44l.94 2.06.94-2.06 2.06-.94-2.06-.94-.94-2.06-.94 2.06-2.06.94zm-11 1L8.5 8.5l.94-2.06 2.06-.94-2.06-.94L8.5 2.5l-.94 2.06-2.06.94zm10 10l.94 2.06.94-2.06 2.06-.94-2.06-.94-.94-2.06-.94 2.06-2.06.94z\"/><path d=\"M17.41 7.96l-1.37-1.37c-.4-.4-.92-.59-1.43-.59-.52 0-1.04.2-1.43.59L10.3 9.45l-7.72 7.72c-.78.78-.78 2.05 0 2.83L4 21.41c.39.39.9.59 1.41.59.51 0 1.02-.2 1.41-.59l7.78-7.78 2.81-2.81c.8-.78.8-2.07 0-2.86zM5.41 20L4 18.59l7.72-7.72 1.47 1.35L5.41 20z\"/>\n",
              "  </svg>\n",
              "      </button>\n",
              "      \n",
              "  <style>\n",
              "    .colab-df-container {\n",
              "      display:flex;\n",
              "      flex-wrap:wrap;\n",
              "      gap: 12px;\n",
              "    }\n",
              "\n",
              "    .colab-df-convert {\n",
              "      background-color: #E8F0FE;\n",
              "      border: none;\n",
              "      border-radius: 50%;\n",
              "      cursor: pointer;\n",
              "      display: none;\n",
              "      fill: #1967D2;\n",
              "      height: 32px;\n",
              "      padding: 0 0 0 0;\n",
              "      width: 32px;\n",
              "    }\n",
              "\n",
              "    .colab-df-convert:hover {\n",
              "      background-color: #E2EBFA;\n",
              "      box-shadow: 0px 1px 2px rgba(60, 64, 67, 0.3), 0px 1px 3px 1px rgba(60, 64, 67, 0.15);\n",
              "      fill: #174EA6;\n",
              "    }\n",
              "\n",
              "    [theme=dark] .colab-df-convert {\n",
              "      background-color: #3B4455;\n",
              "      fill: #D2E3FC;\n",
              "    }\n",
              "\n",
              "    [theme=dark] .colab-df-convert:hover {\n",
              "      background-color: #434B5C;\n",
              "      box-shadow: 0px 1px 3px 1px rgba(0, 0, 0, 0.15);\n",
              "      filter: drop-shadow(0px 1px 2px rgba(0, 0, 0, 0.3));\n",
              "      fill: #FFFFFF;\n",
              "    }\n",
              "  </style>\n",
              "\n",
              "      <script>\n",
              "        const buttonEl =\n",
              "          document.querySelector('#df-78a7a49a-fa3b-43f6-8a19-85ea4f9068e1 button.colab-df-convert');\n",
              "        buttonEl.style.display =\n",
              "          google.colab.kernel.accessAllowed ? 'block' : 'none';\n",
              "\n",
              "        async function convertToInteractive(key) {\n",
              "          const element = document.querySelector('#df-78a7a49a-fa3b-43f6-8a19-85ea4f9068e1');\n",
              "          const dataTable =\n",
              "            await google.colab.kernel.invokeFunction('convertToInteractive',\n",
              "                                                     [key], {});\n",
              "          if (!dataTable) return;\n",
              "\n",
              "          const docLinkHtml = 'Like what you see? Visit the ' +\n",
              "            '<a target=\"_blank\" href=https://colab.research.google.com/notebooks/data_table.ipynb>data table notebook</a>'\n",
              "            + ' to learn more about interactive tables.';\n",
              "          element.innerHTML = '';\n",
              "          dataTable['output_type'] = 'display_data';\n",
              "          await google.colab.output.renderOutput(dataTable, element);\n",
              "          const docLink = document.createElement('div');\n",
              "          docLink.innerHTML = docLinkHtml;\n",
              "          element.appendChild(docLink);\n",
              "        }\n",
              "      </script>\n",
              "    </div>\n",
              "  </div>\n",
              "  "
            ]
          },
          "metadata": {},
          "execution_count": 7
        }
      ]
    },
    {
      "cell_type": "markdown",
      "source": [
        "***נצייר את פונקצית ההתפלגות של הנתונים שלנו***\n"
      ],
      "metadata": {
        "id": "CVG0iJZniqvJ"
      }
    },
    {
      "cell_type": "code",
      "source": [
        "# Plot\n",
        "figure(figsize=(8, 6), dpi=80)\n",
        "plt.plot(aggregated_data['Magnitude'], aggregated_data['Freq'], 'r.')\n",
        "plt.title(\"Distribution of Magnitude\")\n",
        "plt.xlabel(\"Magnitude of Earthquake\")\n",
        "plt.ylabel(\"Frequency\")\n",
        "plt.grid()\n",
        "plt.show()"
      ],
      "metadata": {
        "colab": {
          "base_uri": "https://localhost:8080/",
          "height": 444
        },
        "id": "nxQ-_U_xiZGD",
        "outputId": "9ceba3a0-a8d0-47b7-a26c-33ec6b5693af"
      },
      "execution_count": 8,
      "outputs": [
        {
          "output_type": "display_data",
          "data": {
            "text/plain": [
              "<Figure size 640x480 with 1 Axes>"
            ],
            "image/png": "[encoded data removed]"
          },
          "metadata": {
            "needs_background": "light"
          }
        }
      ]
    },
    {
      "cell_type": "markdown",
      "source": [
        "***Creating CDF for Actual data.***"
      ],
      "metadata": {
        "id": "MEr6KCK9AkNc"
      }
    },
    {
      "cell_type": "markdown",
      "source": [
        "***נראה איך נראת פונקצית צפיפות המצטברת של הנתונים שלנו***"
      ],
      "metadata": {
        "id": "N683aL2cjW6C"
      }
    },
    {
      "cell_type": "code",
      "source": [
        "x = np.sort(df['Magnitude'])\n",
        "y = np.arange(1, len(x)+1)  / len(x)\n",
        "\n",
        "# Plot\n",
        "figure(figsize=(8, 6), dpi=80)\n",
        "plt.plot(x,y,'b--')\n",
        "plt.title(\"CDF of Magnitude\")\n",
        "plt.xlabel(\"Magnitude of Earthquake\")\n",
        "plt.ylabel(\"Cumulative Frequency\")\n",
        "plt.grid()\n",
        "plt.show()"
      ],
      "metadata": {
        "colab": {
          "base_uri": "https://localhost:8080/",
          "height": 444
        },
        "id": "AC_woCOxzwqj",
        "outputId": "f67e4130-f9eb-41fe-ad57-ce5cb6ed0fba"
      },
      "execution_count": 9,
      "outputs": [
        {
          "output_type": "display_data",
          "data": {
            "text/plain": [
              "<Figure size 640x480 with 1 Axes>"
            ],
            "image/png": "[encoded data removed]"
          },
          "metadata": {
            "needs_background": "light"
          }
        }
      ]
    },
    {
      "cell_type": "code",
      "source": [
        "data=aggregated_data.copy()\n",
        "data = data.sort_values(by=['Magnitude'])\n",
        "data['Cumulative Freq'] = data['Freq'].cumsum()  # שכיחות המצתברת\n",
        "data['CDF'] = data['Cumulative Freq'] / data['Freq'].sum()  \n",
        "data['CCDF'] = 1 - data['CDF']\n",
        "data.head(5)"
      ],
      "metadata": {
        "colab": {
          "base_uri": "https://localhost:8080/",
          "height": 206
        },
        "id": "rJIB-Kxa4LYR",
        "outputId": "b2600098-c1d9-4bd6-9fcc-5bff13c8fc33"
      },
      "execution_count": 10,
      "outputs": [
        {
          "output_type": "execute_result",
          "data": {
            "text/plain": [
              "   Magnitude  Freq  Cumulative Freq       CDF      CCDF\n",
              "0        2.0  1527             1527  0.188845  0.811155\n",
              "1        2.1  1299             2826  0.349493  0.650507\n",
              "2        2.2  1040             3866  0.478110  0.521890\n",
              "3        2.3   863             4729  0.584838  0.415162\n",
              "4        2.4   723             5452  0.674252  0.325748"
            ],
            "text/html": [
              "\n",
              "  <div id=\"df-92157529-459d-489e-b00c-3cb19a8b33d5\">\n",
              "    <div class=\"colab-df-container\">\n",
              "      <div>\n",
              "<style scoped>\n",
              "    .dataframe tbody tr th:only-of-type {\n",
              "        vertical-align: middle;\n",
              "    }\n",
              "\n",
              "    .dataframe tbody tr th {\n",
              "        vertical-align: top;\n",
              "    }\n",
              "\n",
              "    .dataframe thead th {\n",
              "        text-align: right;\n",
              "    }\n",
              "</style>\n",
              "<table border=\"1\" class=\"dataframe\">\n",
              "  <thead>\n",
              "    <tr style=\"text-align: right;\">\n",
              "      <th></th>\n",
              "      <th>Magnitude</th>\n",
              "      <th>Freq</th>\n",
              "      <th>Cumulative Freq</th>\n",
              "      <th>CDF</th>\n",
              "      <th>CCDF</th>\n",
              "    </tr>\n",
              "  </thead>\n",
              "  <tbody>\n",
              "    <tr>\n",
              "      <th>0</th>\n",
              "      <td>2.0</td>\n",
              "      <td>1527</td>\n",
              "      <td>1527</td>\n",
              "      <td>0.188845</td>\n",
              "      <td>0.811155</td>\n",
              "    </tr>\n",
              "    <tr>\n",
              "      <th>1</th>\n",
              "      <td>2.1</td>\n",
              "      <td>1299</td>\n",
              "      <td>2826</td>\n",
              "      <td>0.349493</td>\n",
              "      <td>0.650507</td>\n",
              "    </tr>\n",
              "    <tr>\n",
              "      <th>2</th>\n",
              "      <td>2.2</td>\n",
              "      <td>1040</td>\n",
              "      <td>3866</td>\n",
              "      <td>0.478110</td>\n",
              "      <td>0.521890</td>\n",
              "    </tr>\n",
              "    <tr>\n",
              "      <th>3</th>\n",
              "      <td>2.3</td>\n",
              "      <td>863</td>\n",
              "      <td>4729</td>\n",
              "      <td>0.584838</td>\n",
              "      <td>0.415162</td>\n",
              "    </tr>\n",
              "    <tr>\n",
              "      <th>4</th>\n",
              "      <td>2.4</td>\n",
              "      <td>723</td>\n",
              "      <td>5452</td>\n",
              "      <td>0.674252</td>\n",
              "      <td>0.325748</td>\n",
              "    </tr>\n",
              "  </tbody>\n",
              "</table>\n",
              "</div>\n",
              "      <button class=\"colab-df-convert\" onclick=\"convertToInteractive('df-92157529-459d-489e-b00c-3cb19a8b33d5')\"\n",
              "              title=\"Convert this dataframe to an interactive table.\"\n",
              "              style=\"display:none;\">\n",
              "        \n",
              "  <svg xmlns=\"http://www.w3.org/2000/svg\" height=\"24px\"viewBox=\"0 0 24 24\"\n",
              "       width=\"24px\">\n",
              "    <path d=\"M0 0h24v24H0V0z\" fill=\"none\"/>\n",
              "    <path d=\"M18.56 5.44l.94 2.06.94-2.06 2.06-.94-2.06-.94-.94-2.06-.94 2.06-2.06.94zm-11 1L8.5 8.5l.94-2.06 2.06-.94-2.06-.94L8.5 2.5l-.94 2.06-2.06.94zm10 10l.94 2.06.94-2.06 2.06-.94-2.06-.94-.94-2.06-.94 2.06-2.06.94z\"/><path d=\"M17.41 7.96l-1.37-1.37c-.4-.4-.92-.59-1.43-.59-.52 0-1.04.2-1.43.59L10.3 9.45l-7.72 7.72c-.78.78-.78 2.05 0 2.83L4 21.41c.39.39.9.59 1.41.59.51 0 1.02-.2 1.41-.59l7.78-7.78 2.81-2.81c.8-.78.8-2.07 0-2.86zM5.41 20L4 18.59l7.72-7.72 1.47 1.35L5.41 20z\"/>\n",
              "  </svg>\n",
              "      </button>\n",
              "      \n",
              "  <style>\n",
              "    .colab-df-container {\n",
              "      display:flex;\n",
              "      flex-wrap:wrap;\n",
              "      gap: 12px;\n",
              "    }\n",
              "\n",
              "    .colab-df-convert {\n",
              "      background-color: #E8F0FE;\n",
              "      border: none;\n",
              "      border-radius: 50%;\n",
              "      cursor: pointer;\n",
              "      display: none;\n",
              "      fill: #1967D2;\n",
              "      height: 32px;\n",
              "      padding: 0 0 0 0;\n",
              "      width: 32px;\n",
              "    }\n",
              "\n",
              "    .colab-df-convert:hover {\n",
              "      background-color: #E2EBFA;\n",
              "      box-shadow: 0px 1px 2px rgba(60, 64, 67, 0.3), 0px 1px 3px 1px rgba(60, 64, 67, 0.15);\n",
              "      fill: #174EA6;\n",
              "    }\n",
              "\n",
              "    [theme=dark] .colab-df-convert {\n",
              "      background-color: #3B4455;\n",
              "      fill: #D2E3FC;\n",
              "    }\n",
              "\n",
              "    [theme=dark] .colab-df-convert:hover {\n",
              "      background-color: #434B5C;\n",
              "      box-shadow: 0px 1px 3px 1px rgba(0, 0, 0, 0.15);\n",
              "      filter: drop-shadow(0px 1px 2px rgba(0, 0, 0, 0.3));\n",
              "      fill: #FFFFFF;\n",
              "    }\n",
              "  </style>\n",
              "\n",
              "      <script>\n",
              "        const buttonEl =\n",
              "          document.querySelector('#df-92157529-459d-489e-b00c-3cb19a8b33d5 button.colab-df-convert');\n",
              "        buttonEl.style.display =\n",
              "          google.colab.kernel.accessAllowed ? 'block' : 'none';\n",
              "\n",
              "        async function convertToInteractive(key) {\n",
              "          const element = document.querySelector('#df-92157529-459d-489e-b00c-3cb19a8b33d5');\n",
              "          const dataTable =\n",
              "            await google.colab.kernel.invokeFunction('convertToInteractive',\n",
              "                                                     [key], {});\n",
              "          if (!dataTable) return;\n",
              "\n",
              "          const docLinkHtml = 'Like what you see? Visit the ' +\n",
              "            '<a target=\"_blank\" href=https://colab.research.google.com/notebooks/data_table.ipynb>data table notebook</a>'\n",
              "            + ' to learn more about interactive tables.';\n",
              "          element.innerHTML = '';\n",
              "          dataTable['output_type'] = 'display_data';\n",
              "          await google.colab.output.renderOutput(dataTable, element);\n",
              "          const docLink = document.createElement('div');\n",
              "          docLink.innerHTML = docLinkHtml;\n",
              "          element.appendChild(docLink);\n",
              "        }\n",
              "      </script>\n",
              "    </div>\n",
              "  </div>\n",
              "  "
            ]
          },
          "metadata": {},
          "execution_count": 10
        }
      ]
    },
    {
      "cell_type": "markdown",
      "source": [
        "***.בעזרת רגרסיה לינארית נמצא קו ישר לזנב של ההתפלגות***\n",
        "\n",
        "***.ניקח את ערכי האיקס מעל 3.4 על מנת להתאים את הקו***"
      ],
      "metadata": {
        "id": "um8koxLikImd"
      }
    },
    {
      "cell_type": "code",
      "source": [
        "X = np.array(data[data['Magnitude']>3.4]['Magnitude']).reshape(-1,1)\n",
        "y = np.array(data[data['Magnitude']>3.4]['CCDF']).reshape(-1,1)\n",
        "reg = LinearRegression().fit(X, y)\n",
        "slope = reg.coef_[0][0]\n",
        "intercept = reg.intercept_[0]\n",
        "print('The line: y = {intercept} + {coef}*X'.format(intercept=round(intercept,2), coef=round(slope,3)))"
      ],
      "metadata": {
        "colab": {
          "base_uri": "https://localhost:8080/"
        },
        "id": "cmOyGHRfAUW7",
        "outputId": "67432876-10fc-45fe-f5d6-0ba2824937f6"
      },
      "execution_count": 11,
      "outputs": [
        {
          "output_type": "stream",
          "name": "stdout",
          "text": [
            "The line: y = 0.03 + -0.005*X\n"
          ]
        }
      ]
    },
    {
      "cell_type": "markdown",
      "source": [
        "***.בניית פונקציית קו ישר שמצאנו***"
      ],
      "metadata": {
        "id": "y4IuRVHClBcb"
      }
    },
    {
      "cell_type": "code",
      "source": [
        "linef = lambda x: intercept + slope*x "
      ],
      "metadata": {
        "id": "6FofQKjhEcpj"
      },
      "execution_count": 12,
      "outputs": []
    },
    {
      "cell_type": "code",
      "source": [
        "figure(figsize=(8, 6), dpi=80)\n",
        "plt.plot(data['Magnitude'], data['CDF'], 'b-', label='CDF')\n",
        "plt.plot(data['Magnitude'], data['CCDF'], 'r-', label='CCDF')\n",
        "plt.plot(data['Magnitude'], linef(data['Magnitude']), 'g-', label='Line')\n",
        "plt.title(\"CDF vs CCDF vs Line\")\n",
        "plt.xlabel(\"Magnitude of Earthquake\")\n",
        "plt.ylabel(\"Cumulative\")\n",
        "plt.legend(loc=1, prop={'size':15})\n",
        "plt.show()"
      ],
      "metadata": {
        "colab": {
          "base_uri": "https://localhost:8080/",
          "height": 444
        },
        "id": "JBNrxqK-ANUq",
        "outputId": "a3105495-4e5e-4ff2-a04a-ba62fb8c3182"
      },
      "execution_count": 13,
      "outputs": [
        {
          "output_type": "display_data",
          "data": {
            "text/plain": [
              "<Figure size 640x480 with 1 Axes>"
            ],
            "image/png": "[encoded data removed]"
          },
          "metadata": {
            "needs_background": "light"
          }
        }
      ]
    },
    {
      "cell_type": "markdown",
      "source": [
        "במאמר שנקראה \n",
        "\n",
        "\"Power-law distributions in empirical data\"\n",
        "\n",
        "על-ידי \n",
        "\n",
        "Aaron Clauset & Cosma Rohilla Shalizi & M. E. J. Newman\n",
        "\n",
        "הם מציעים שיטה למציאת\n",
        "\n",
        "Xmin\n",
        "\n",
        "על-ידי בניית מודל שמתאר את הדאטה בצורה הכי טובה, בשיטה של ריבועים פחותים, וממזארת את הציון של קולמוגורוב-סמירנוב בין פונקציית צפיפות המצטברת האמיתית (של הדאטה) לבין פונקציית צפיפות המצטברת של המודל"
      ],
      "metadata": {
        "id": "e1XOKHHXjyDU"
      }
    },
    {
      "cell_type": "markdown",
      "source": [
        "**:מתודולוגיה**\n",
        "<ol>\n",
        "    <li>(non-linear least squares) נבנה מודל שמתאר את הדאטה בצורה הכי טובה על-ידי שיטה של הריבועים הפחותים</li> \n",
        "    <li>ניצור איתו דאטה aX^b אחרי שנמצא מודל מהצורה</li>\n",
        "    <li>ניצור את פונקציית צפיפות המצטברת גם לדאטה האמיתי וגם לדאטה שייצרנו על ידי המודל</li>\n",
        "    <li>על מנת למנוע איטרציות מיותרות Xmin נאכלס את הניחוש הראשוני של </li>\n",
        "    <li>ומחזירה את הציון קולמוגורוב-סמירנוב Xmin נבנה פונקציה שמקבלת את </li>\n",
        "    <li>ננסה למצוע את המינימום של הפונקציה זו על ידי אופטימיזציה</li>\n",
        "</ol>"
      ],
      "metadata": {
        "id": "nkw2MQ6ymZAF"
      }
    },
    {
      "cell_type": "markdown",
      "source": [
        "***Building a model that best fits the data.***"
      ],
      "metadata": {
        "id": "OehgrHG1BXE5"
      }
    },
    {
      "cell_type": "code",
      "source": [
        "# a * x**b\n",
        "\n",
        "X = aggregated_data['Magnitude']\n",
        "y = aggregated_data['Freq']\n",
        "lnX = np.log(X)\n",
        "lnY = np.log(y)\n",
        "b, lna = np.polyfit(lnX, lnY, 1) # Minimizes the squared error\n",
        "a = np.exp(lna)\n",
        "print('power={} sigma={}'.format(b,a))\n"
      ],
      "metadata": {
        "colab": {
          "base_uri": "https://localhost:8080/"
        },
        "id": "iLLPY7ISH0S3",
        "outputId": "c185b076-1780-441a-955f-8071f1eba411"
      },
      "execution_count": 14,
      "outputs": [
        {
          "output_type": "stream",
          "name": "stdout",
          "text": [
            "power=-7.5627536424697235 sigma=509682.15101862804\n"
          ]
        }
      ]
    },
    {
      "cell_type": "markdown",
      "source": [
        "***: מצאנו שהפולינום שמתאר את הדאטה הכי טוב הוא מהצורה הבא***"
      ],
      "metadata": {
        "id": "qwneFDyGmkNd"
      }
    },
    {
      "cell_type": "code",
      "source": [
        "f = lambda x: 509682.15101862804 * (x**-7.5627536424697235)\n",
        "t=aggregated_data['Magnitude']"
      ],
      "metadata": {
        "id": "ikG8PifPH0Ve"
      },
      "execution_count": 15,
      "outputs": []
    },
    {
      "cell_type": "markdown",
      "source": [
        "***נצייר פונקציית הצפיפות של הדאטה האמיתית שלנו יחד עם פולינום שמצאנו***"
      ],
      "metadata": {
        "id": "JkaMeRiNnGSt"
      }
    },
    {
      "cell_type": "code",
      "source": [
        "figure(figsize=(8, 6), dpi=80)\n",
        "plt.plot(aggregated_data['Magnitude'], aggregated_data['Freq'], 'r.', label='Actual data')\n",
        "plt.plot(aggregated_data['Magnitude'], f(t), 'b--', label='Best fitted model')\n",
        "plt.title(\"Best Fitted Model vs Actual Data\")\n",
        "plt.xlabel(\"Magnitude of Earthquake\")\n",
        "plt.ylabel(\"Frequency\")\n",
        "plt.legend(loc=1, prop={'size':15})\n",
        "plt.show()"
      ],
      "metadata": {
        "colab": {
          "base_uri": "https://localhost:8080/",
          "height": 444
        },
        "id": "LdL5x2t-H0dx",
        "outputId": "e5b434e0-a5a8-4c96-87d6-e1a304ff434b"
      },
      "execution_count": 16,
      "outputs": [
        {
          "output_type": "display_data",
          "data": {
            "text/plain": [
              "<Figure size 640x480 with 1 Axes>"
            ],
            "image/png": "[encoded data removed]"
          },
          "metadata": {
            "needs_background": "light"
          }
        }
      ]
    },
    {
      "cell_type": "code",
      "source": [
        "figure(figsize=(8, 6), dpi=80)\n",
        "\n",
        "data['Fitted Model'] = f(data['Magnitude'])\n",
        "data['Cumulative Model'] = data['Fitted Model'].cumsum()\n",
        "data['CDF Fitted'] = data['Cumulative Model'] / data['Fitted Model'].sum()\n",
        "data['delta'] = abs(data['CDF Fitted'] - data['CDF'])\n",
        "\n",
        "plt.plot(data['Magnitude'], data['CDF'], 'r.', label='Actual CDF')\n",
        "plt.plot(data['Magnitude'], data['CDF Fitted'], 'b--', label='Fitted CDF')\n",
        "plt.title(\"CDF Fitted vs Actual CDF\")\n",
        "plt.xlabel(\"Magnitude of Earthquake\")\n",
        "plt.ylabel(\"CDF\")\n",
        "plt.legend(loc=2, prop={'size':10})\n",
        "plt.show()"
      ],
      "metadata": {
        "id": "jkxpkIDDlenY",
        "colab": {
          "base_uri": "https://localhost:8080/",
          "height": 444
        },
        "outputId": "6553943a-093f-4a89-b983-918319bb5761"
      },
      "execution_count": 17,
      "outputs": [
        {
          "output_type": "display_data",
          "data": {
            "text/plain": [
              "<Figure size 640x480 with 1 Axes>"
            ],
            "image/png": "[encoded data removed]"
          },
          "metadata": {
            "needs_background": "light"
          }
        }
      ]
    },
    {
      "cell_type": "code",
      "source": [
        "data.head(5)"
      ],
      "metadata": {
        "colab": {
          "base_uri": "https://localhost:8080/",
          "height": 206
        },
        "id": "sfEVMC9Anpll",
        "outputId": "b2191c07-413a-4d72-b64a-5376241886a4"
      },
      "execution_count": 18,
      "outputs": [
        {
          "output_type": "execute_result",
          "data": {
            "text/plain": [
              "   Magnitude  Freq  Cumulative Freq       CDF      CCDF  Fitted Model  \\\n",
              "0        2.0  1527             1527  0.188845  0.811155   2695.775542   \n",
              "1        2.1  1299             2826  0.349493  0.650507   1863.950093   \n",
              "2        2.2  1040             3866  0.478110  0.521890   1311.115792   \n",
              "3        2.3   863             4729  0.584838  0.415162    936.787130   \n",
              "4        2.4   723             5452  0.674252  0.325748    678.977639   \n",
              "\n",
              "   Cumulative Model  CDF Fitted     delta  \n",
              "0       2695.775542    0.280032  0.091187  \n",
              "1       4559.725635    0.473656  0.124163  \n",
              "2       5870.841427    0.609852  0.131742  \n",
              "3       6807.628556    0.707164  0.122326  \n",
              "4       7486.606196    0.777695  0.103443  "
            ],
            "text/html": [
              "\n",
              "  <div id=\"df-c2d8e636-7431-4620-a3d0-3f4cc3003249\">\n",
              "    <div class=\"colab-df-container\">\n",
              "      <div>\n",
              "<style scoped>\n",
              "    .dataframe tbody tr th:only-of-type {\n",
              "        vertical-align: middle;\n",
              "    }\n",
              "\n",
              "    .dataframe tbody tr th {\n",
              "        vertical-align: top;\n",
              "    }\n",
              "\n",
              "    .dataframe thead th {\n",
              "        text-align: right;\n",
              "    }\n",
              "</style>\n",
              "<table border=\"1\" class=\"dataframe\">\n",
              "  <thead>\n",
              "    <tr style=\"text-align: right;\">\n",
              "      <th></th>\n",
              "      <th>Magnitude</th>\n",
              "      <th>Freq</th>\n",
              "      <th>Cumulative Freq</th>\n",
              "      <th>CDF</th>\n",
              "      <th>CCDF</th>\n",
              "      <th>Fitted Model</th>\n",
              "      <th>Cumulative Model</th>\n",
              "      <th>CDF Fitted</th>\n",
              "      <th>delta</th>\n",
              "    </tr>\n",
              "  </thead>\n",
              "  <tbody>\n",
              "    <tr>\n",
              "      <th>0</th>\n",
              "      <td>2.0</td>\n",
              "      <td>1527</td>\n",
              "      <td>1527</td>\n",
              "      <td>0.188845</td>\n",
              "      <td>0.811155</td>\n",
              "      <td>2695.775542</td>\n",
              "      <td>2695.775542</td>\n",
              "      <td>0.280032</td>\n",
              "      <td>0.091187</td>\n",
              "    </tr>\n",
              "    <tr>\n",
              "      <th>1</th>\n",
              "      <td>2.1</td>\n",
              "      <td>1299</td>\n",
              "      <td>2826</td>\n",
              "      <td>0.349493</td>\n",
              "      <td>0.650507</td>\n",
              "      <td>1863.950093</td>\n",
              "      <td>4559.725635</td>\n",
              "      <td>0.473656</td>\n",
              "      <td>0.124163</td>\n",
              "    </tr>\n",
              "    <tr>\n",
              "      <th>2</th>\n",
              "      <td>2.2</td>\n",
              "      <td>1040</td>\n",
              "      <td>3866</td>\n",
              "      <td>0.478110</td>\n",
              "      <td>0.521890</td>\n",
              "      <td>1311.115792</td>\n",
              "      <td>5870.841427</td>\n",
              "      <td>0.609852</td>\n",
              "      <td>0.131742</td>\n",
              "    </tr>\n",
              "    <tr>\n",
              "      <th>3</th>\n",
              "      <td>2.3</td>\n",
              "      <td>863</td>\n",
              "      <td>4729</td>\n",
              "      <td>0.584838</td>\n",
              "      <td>0.415162</td>\n",
              "      <td>936.787130</td>\n",
              "      <td>6807.628556</td>\n",
              "      <td>0.707164</td>\n",
              "      <td>0.122326</td>\n",
              "    </tr>\n",
              "    <tr>\n",
              "      <th>4</th>\n",
              "      <td>2.4</td>\n",
              "      <td>723</td>\n",
              "      <td>5452</td>\n",
              "      <td>0.674252</td>\n",
              "      <td>0.325748</td>\n",
              "      <td>678.977639</td>\n",
              "      <td>7486.606196</td>\n",
              "      <td>0.777695</td>\n",
              "      <td>0.103443</td>\n",
              "    </tr>\n",
              "  </tbody>\n",
              "</table>\n",
              "</div>\n",
              "      <button class=\"colab-df-convert\" onclick=\"convertToInteractive('df-c2d8e636-7431-4620-a3d0-3f4cc3003249')\"\n",
              "              title=\"Convert this dataframe to an interactive table.\"\n",
              "              style=\"display:none;\">\n",
              "        \n",
              "  <svg xmlns=\"http://www.w3.org/2000/svg\" height=\"24px\"viewBox=\"0 0 24 24\"\n",
              "       width=\"24px\">\n",
              "    <path d=\"M0 0h24v24H0V0z\" fill=\"none\"/>\n",
              "    <path d=\"M18.56 5.44l.94 2.06.94-2.06 2.06-.94-2.06-.94-.94-2.06-.94 2.06-2.06.94zm-11 1L8.5 8.5l.94-2.06 2.06-.94-2.06-.94L8.5 2.5l-.94 2.06-2.06.94zm10 10l.94 2.06.94-2.06 2.06-.94-2.06-.94-.94-2.06-.94 2.06-2.06.94z\"/><path d=\"M17.41 7.96l-1.37-1.37c-.4-.4-.92-.59-1.43-.59-.52 0-1.04.2-1.43.59L10.3 9.45l-7.72 7.72c-.78.78-.78 2.05 0 2.83L4 21.41c.39.39.9.59 1.41.59.51 0 1.02-.2 1.41-.59l7.78-7.78 2.81-2.81c.8-.78.8-2.07 0-2.86zM5.41 20L4 18.59l7.72-7.72 1.47 1.35L5.41 20z\"/>\n",
              "  </svg>\n",
              "      </button>\n",
              "      \n",
              "  <style>\n",
              "    .colab-df-container {\n",
              "      display:flex;\n",
              "      flex-wrap:wrap;\n",
              "      gap: 12px;\n",
              "    }\n",
              "\n",
              "    .colab-df-convert {\n",
              "      background-color: #E8F0FE;\n",
              "      border: none;\n",
              "      border-radius: 50%;\n",
              "      cursor: pointer;\n",
              "      display: none;\n",
              "      fill: #1967D2;\n",
              "      height: 32px;\n",
              "      padding: 0 0 0 0;\n",
              "      width: 32px;\n",
              "    }\n",
              "\n",
              "    .colab-df-convert:hover {\n",
              "      background-color: #E2EBFA;\n",
              "      box-shadow: 0px 1px 2px rgba(60, 64, 67, 0.3), 0px 1px 3px 1px rgba(60, 64, 67, 0.15);\n",
              "      fill: #174EA6;\n",
              "    }\n",
              "\n",
              "    [theme=dark] .colab-df-convert {\n",
              "      background-color: #3B4455;\n",
              "      fill: #D2E3FC;\n",
              "    }\n",
              "\n",
              "    [theme=dark] .colab-df-convert:hover {\n",
              "      background-color: #434B5C;\n",
              "      box-shadow: 0px 1px 3px 1px rgba(0, 0, 0, 0.15);\n",
              "      filter: drop-shadow(0px 1px 2px rgba(0, 0, 0, 0.3));\n",
              "      fill: #FFFFFF;\n",
              "    }\n",
              "  </style>\n",
              "\n",
              "      <script>\n",
              "        const buttonEl =\n",
              "          document.querySelector('#df-c2d8e636-7431-4620-a3d0-3f4cc3003249 button.colab-df-convert');\n",
              "        buttonEl.style.display =\n",
              "          google.colab.kernel.accessAllowed ? 'block' : 'none';\n",
              "\n",
              "        async function convertToInteractive(key) {\n",
              "          const element = document.querySelector('#df-c2d8e636-7431-4620-a3d0-3f4cc3003249');\n",
              "          const dataTable =\n",
              "            await google.colab.kernel.invokeFunction('convertToInteractive',\n",
              "                                                     [key], {});\n",
              "          if (!dataTable) return;\n",
              "\n",
              "          const docLinkHtml = 'Like what you see? Visit the ' +\n",
              "            '<a target=\"_blank\" href=https://colab.research.google.com/notebooks/data_table.ipynb>data table notebook</a>'\n",
              "            + ' to learn more about interactive tables.';\n",
              "          element.innerHTML = '';\n",
              "          dataTable['output_type'] = 'display_data';\n",
              "          await google.colab.output.renderOutput(dataTable, element);\n",
              "          const docLink = document.createElement('div');\n",
              "          docLink.innerHTML = docLinkHtml;\n",
              "          element.appendChild(docLink);\n",
              "        }\n",
              "      </script>\n",
              "    </div>\n",
              "  </div>\n",
              "  "
            ]
          },
          "metadata": {},
          "execution_count": 18
        }
      ]
    },
    {
      "cell_type": "markdown",
      "source": [
        "****Estimation of Xmin****\n",
        "\n",
        "***:האלגוריתם***\n",
        "\n",
        "נתחיל לרוץ על האיקסים מהניחוש הראשוני (שנגדיר בהמשך) ומעלה\n",
        "\n",
        "בכל איטרציה של האלגוריתם נחשב את הציון של קולמוגורוב-סמירנוב בין פונקציות צפיפות המצתברת של הדאטה האמיתית ושל המודל שבנינו\n",
        "\n",
        "בכל איטרציה נזיז את הניחוש הראשוני שלנו למעלה\n",
        "\n",
        "בכך אנחנו מניחים בכל איטרציה שאיקס מינימום הוא שונה\n",
        "\n",
        "נתעלם מכל ערכי איקס שמתחת לאיקס מינימום החשוד באיטרציה הנוכחית\n",
        "\n",
        "נבנה פונקציה שמקבלת איקס החשוד להיות איקס מינימום\n",
        "ומחזירה את הציון קולמוגורוב סמירנוב\n",
        "\n",
        "\n",
        "נמצא את המינימום לפונקציה זו\n",
        "\n"
      ],
      "metadata": {
        "id": "0UKSJY-9WMSK"
      }
    },
    {
      "cell_type": "code",
      "source": [
        "data.head(5)"
      ],
      "metadata": {
        "colab": {
          "base_uri": "https://localhost:8080/",
          "height": 206
        },
        "id": "meD0qV9XFS_a",
        "outputId": "c39b050b-fb31-4c17-f558-0a53174d7083"
      },
      "execution_count": 70,
      "outputs": [
        {
          "output_type": "execute_result",
          "data": {
            "text/plain": [
              "   Magnitude  Freq  Cumulative Freq       CDF      CCDF  Fitted Model  \\\n",
              "0        2.0  1527             1527  0.188845  0.811155   2695.775542   \n",
              "1        2.1  1299             2826  0.349493  0.650507   1863.950093   \n",
              "2        2.2  1040             3866  0.478110  0.521890   1311.115792   \n",
              "3        2.3   863             4729  0.584838  0.415162    936.787130   \n",
              "4        2.4   723             5452  0.674252  0.325748    678.977639   \n",
              "\n",
              "   Cumulative Model  CDF Fitted     delta  \n",
              "0       2695.775542    0.280032  0.091187  \n",
              "1       4559.725635    0.473656  0.124163  \n",
              "2       5870.841427    0.609852  0.131742  \n",
              "3       6807.628556    0.707164  0.122326  \n",
              "4       7486.606196    0.777695  0.103443  "
            ],
            "text/html": [
              "\n",
              "  <div id=\"df-eff0b1f1-aca0-4b56-aeaf-e679eb29b323\">\n",
              "    <div class=\"colab-df-container\">\n",
              "      <div>\n",
              "<style scoped>\n",
              "    .dataframe tbody tr th:only-of-type {\n",
              "        vertical-align: middle;\n",
              "    }\n",
              "\n",
              "    .dataframe tbody tr th {\n",
              "        vertical-align: top;\n",
              "    }\n",
              "\n",
              "    .dataframe thead th {\n",
              "        text-align: right;\n",
              "    }\n",
              "</style>\n",
              "<table border=\"1\" class=\"dataframe\">\n",
              "  <thead>\n",
              "    <tr style=\"text-align: right;\">\n",
              "      <th></th>\n",
              "      <th>Magnitude</th>\n",
              "      <th>Freq</th>\n",
              "      <th>Cumulative Freq</th>\n",
              "      <th>CDF</th>\n",
              "      <th>CCDF</th>\n",
              "      <th>Fitted Model</th>\n",
              "      <th>Cumulative Model</th>\n",
              "      <th>CDF Fitted</th>\n",
              "      <th>delta</th>\n",
              "    </tr>\n",
              "  </thead>\n",
              "  <tbody>\n",
              "    <tr>\n",
              "      <th>0</th>\n",
              "      <td>2.0</td>\n",
              "      <td>1527</td>\n",
              "      <td>1527</td>\n",
              "      <td>0.188845</td>\n",
              "      <td>0.811155</td>\n",
              "      <td>2695.775542</td>\n",
              "      <td>2695.775542</td>\n",
              "      <td>0.280032</td>\n",
              "      <td>0.091187</td>\n",
              "    </tr>\n",
              "    <tr>\n",
              "      <th>1</th>\n",
              "      <td>2.1</td>\n",
              "      <td>1299</td>\n",
              "      <td>2826</td>\n",
              "      <td>0.349493</td>\n",
              "      <td>0.650507</td>\n",
              "      <td>1863.950093</td>\n",
              "      <td>4559.725635</td>\n",
              "      <td>0.473656</td>\n",
              "      <td>0.124163</td>\n",
              "    </tr>\n",
              "    <tr>\n",
              "      <th>2</th>\n",
              "      <td>2.2</td>\n",
              "      <td>1040</td>\n",
              "      <td>3866</td>\n",
              "      <td>0.478110</td>\n",
              "      <td>0.521890</td>\n",
              "      <td>1311.115792</td>\n",
              "      <td>5870.841427</td>\n",
              "      <td>0.609852</td>\n",
              "      <td>0.131742</td>\n",
              "    </tr>\n",
              "    <tr>\n",
              "      <th>3</th>\n",
              "      <td>2.3</td>\n",
              "      <td>863</td>\n",
              "      <td>4729</td>\n",
              "      <td>0.584838</td>\n",
              "      <td>0.415162</td>\n",
              "      <td>936.787130</td>\n",
              "      <td>6807.628556</td>\n",
              "      <td>0.707164</td>\n",
              "      <td>0.122326</td>\n",
              "    </tr>\n",
              "    <tr>\n",
              "      <th>4</th>\n",
              "      <td>2.4</td>\n",
              "      <td>723</td>\n",
              "      <td>5452</td>\n",
              "      <td>0.674252</td>\n",
              "      <td>0.325748</td>\n",
              "      <td>678.977639</td>\n",
              "      <td>7486.606196</td>\n",
              "      <td>0.777695</td>\n",
              "      <td>0.103443</td>\n",
              "    </tr>\n",
              "  </tbody>\n",
              "</table>\n",
              "</div>\n",
              "      <button class=\"colab-df-convert\" onclick=\"convertToInteractive('df-eff0b1f1-aca0-4b56-aeaf-e679eb29b323')\"\n",
              "              title=\"Convert this dataframe to an interactive table.\"\n",
              "              style=\"display:none;\">\n",
              "        \n",
              "  <svg xmlns=\"http://www.w3.org/2000/svg\" height=\"24px\"viewBox=\"0 0 24 24\"\n",
              "       width=\"24px\">\n",
              "    <path d=\"M0 0h24v24H0V0z\" fill=\"none\"/>\n",
              "    <path d=\"M18.56 5.44l.94 2.06.94-2.06 2.06-.94-2.06-.94-.94-2.06-.94 2.06-2.06.94zm-11 1L8.5 8.5l.94-2.06 2.06-.94-2.06-.94L8.5 2.5l-.94 2.06-2.06.94zm10 10l.94 2.06.94-2.06 2.06-.94-2.06-.94-.94-2.06-.94 2.06-2.06.94z\"/><path d=\"M17.41 7.96l-1.37-1.37c-.4-.4-.92-.59-1.43-.59-.52 0-1.04.2-1.43.59L10.3 9.45l-7.72 7.72c-.78.78-.78 2.05 0 2.83L4 21.41c.39.39.9.59 1.41.59.51 0 1.02-.2 1.41-.59l7.78-7.78 2.81-2.81c.8-.78.8-2.07 0-2.86zM5.41 20L4 18.59l7.72-7.72 1.47 1.35L5.41 20z\"/>\n",
              "  </svg>\n",
              "      </button>\n",
              "      \n",
              "  <style>\n",
              "    .colab-df-container {\n",
              "      display:flex;\n",
              "      flex-wrap:wrap;\n",
              "      gap: 12px;\n",
              "    }\n",
              "\n",
              "    .colab-df-convert {\n",
              "      background-color: #E8F0FE;\n",
              "      border: none;\n",
              "      border-radius: 50%;\n",
              "      cursor: pointer;\n",
              "      display: none;\n",
              "      fill: #1967D2;\n",
              "      height: 32px;\n",
              "      padding: 0 0 0 0;\n",
              "      width: 32px;\n",
              "    }\n",
              "\n",
              "    .colab-df-convert:hover {\n",
              "      background-color: #E2EBFA;\n",
              "      box-shadow: 0px 1px 2px rgba(60, 64, 67, 0.3), 0px 1px 3px 1px rgba(60, 64, 67, 0.15);\n",
              "      fill: #174EA6;\n",
              "    }\n",
              "\n",
              "    [theme=dark] .colab-df-convert {\n",
              "      background-color: #3B4455;\n",
              "      fill: #D2E3FC;\n",
              "    }\n",
              "\n",
              "    [theme=dark] .colab-df-convert:hover {\n",
              "      background-color: #434B5C;\n",
              "      box-shadow: 0px 1px 3px 1px rgba(0, 0, 0, 0.15);\n",
              "      filter: drop-shadow(0px 1px 2px rgba(0, 0, 0, 0.3));\n",
              "      fill: #FFFFFF;\n",
              "    }\n",
              "  </style>\n",
              "\n",
              "      <script>\n",
              "        const buttonEl =\n",
              "          document.querySelector('#df-eff0b1f1-aca0-4b56-aeaf-e679eb29b323 button.colab-df-convert');\n",
              "        buttonEl.style.display =\n",
              "          google.colab.kernel.accessAllowed ? 'block' : 'none';\n",
              "\n",
              "        async function convertToInteractive(key) {\n",
              "          const element = document.querySelector('#df-eff0b1f1-aca0-4b56-aeaf-e679eb29b323');\n",
              "          const dataTable =\n",
              "            await google.colab.kernel.invokeFunction('convertToInteractive',\n",
              "                                                     [key], {});\n",
              "          if (!dataTable) return;\n",
              "\n",
              "          const docLinkHtml = 'Like what you see? Visit the ' +\n",
              "            '<a target=\"_blank\" href=https://colab.research.google.com/notebooks/data_table.ipynb>data table notebook</a>'\n",
              "            + ' to learn more about interactive tables.';\n",
              "          element.innerHTML = '';\n",
              "          dataTable['output_type'] = 'display_data';\n",
              "          await google.colab.output.renderOutput(dataTable, element);\n",
              "          const docLink = document.createElement('div');\n",
              "          docLink.innerHTML = docLinkHtml;\n",
              "          element.appendChild(docLink);\n",
              "        }\n",
              "      </script>\n",
              "    </div>\n",
              "  </div>\n",
              "  "
            ]
          },
          "metadata": {},
          "execution_count": 70
        }
      ]
    },
    {
      "cell_type": "code",
      "source": [
        "estimation = aggregated_data.copy()\n",
        "x_axes = []\n",
        "D = []\n",
        "X_range = [2,6,0.1] # נבדוק את האיקסים החשודים בלהיות איקס מינימום בטווח הזה בין 2 ל-6, בצעדים של 0.1 בסקלה של ריכטר\n",
        "\n",
        "def KS_test_run(dataset, range):\n",
        "\n",
        "    start = X_range[0]\n",
        "    end = X_range[1]\n",
        "    step= X_range[2]\n",
        "\n",
        "    while start <= end:\n",
        "        tmp = aggregated_data.copy()\n",
        "        tmp = tmp.sort_values(by=['Magnitude'])\n",
        "        tmp = tmp[tmp['Magnitude'] >= start]\n",
        "        tmp['Fit'] = f(tmp['Magnitude'])\n",
        "        tmp['CDF'] = tmp['Freq'].cumsum() / tmp['Freq'].sum()\n",
        "        tmp['CDF fitted'] = tmp['Fit'].cumsum() / tmp['Fit'].sum()\n",
        "        tmp['delta'] = abs(tmp['CDF fitted']-tmp['CDF'])\n",
        "        KS = tmp['delta'].max()\n",
        "        D.append(KS)\n",
        "        x=tmp['Magnitude'].iloc[0]\n",
        "        x_axes.append(x)\n",
        "\n",
        "        print('x={}  D={}'.format(x, KS))\n",
        "\n",
        "        start += step\n",
        "\n",
        "\n",
        "KS_test_run(dataset=estimation, range=range)\n",
        "figure(figsize=(8, 6), dpi=80)\n",
        "plt.title(\"The function's global minimum value is {},  at X={}\".format(round(min(D),4),x_axes[D.index(min(D))]))\n",
        "plt.plot(x_axes, D, 'r*', label='Xmin={}'.format(x_axes[D.index(min(D))]))\n",
        "plt.legend(loc=2, prop={'size':15})\n",
        "plt.show()"
      ],
      "metadata": {
        "colab": {
          "base_uri": "https://localhost:8080/",
          "height": 1000
        },
        "id": "BrwkVk2V2BIs",
        "outputId": "6bcb2a3a-bbc1-4390-b9ce-93c58fe82c40"
      },
      "execution_count": 21,
      "outputs": [
        {
          "output_type": "stream",
          "name": "stdout",
          "text": [
            "x=2.0  D=0.13174177595552028\n",
            "x=2.1  D=0.10508071232452654\n",
            "x=2.2  D=0.081854149795559\n",
            "x=2.4  D=0.05829854395807571\n",
            "x=2.5  D=0.05612292483925446\n",
            "x=2.6  D=0.04319807448631019\n",
            "x=2.7  D=0.036532861130504024\n",
            "x=2.8  D=0.03984040618216966\n",
            "x=2.9  D=0.04960520097637222\n",
            "x=3.0  D=0.07115798836136733\n",
            "x=3.1  D=0.0953613344991775\n",
            "x=3.2  D=0.10760637032602516\n",
            "x=3.3  D=0.11634965247167095\n",
            "x=3.4  D=0.13653468352417808\n",
            "x=3.5  D=0.13316010970425035\n",
            "x=3.6  D=0.13121887531111098\n",
            "x=3.7  D=0.13869180047298346\n",
            "x=3.8  D=0.12379929780067744\n",
            "x=3.9  D=0.14440543369807174\n",
            "x=4.0  D=0.08705394973968444\n",
            "x=4.1  D=0.06958739546082238\n",
            "x=4.2  D=0.09727966681605771\n",
            "x=4.3  D=0.12048244752221249\n",
            "x=4.4  D=0.181094117014597\n",
            "x=4.4  D=0.181094117014597\n",
            "x=4.5  D=0.20826902087146903\n",
            "x=4.6  D=0.3522825161150671\n",
            "x=4.7  D=0.3306376143904145\n",
            "x=4.8  D=0.23885753976760182\n",
            "x=5.4  D=0.08859203369420265\n",
            "x=5.4  D=0.08859203369420265\n",
            "x=5.4  D=0.08859203369420265\n",
            "x=5.4  D=0.08859203369420265\n",
            "x=5.4  D=0.08859203369420265\n",
            "x=5.4  D=0.08859203369420265\n",
            "x=5.9  D=0.12975253412802612\n",
            "x=5.9  D=0.12975253412802612\n",
            "x=5.9  D=0.12975253412802612\n",
            "x=5.9  D=0.12975253412802612\n",
            "x=5.9  D=0.12975253412802612\n",
            "x=6.0  D=0.14687781067441796\n"
          ]
        },
        {
          "output_type": "display_data",
          "data": {
            "text/plain": [
              "<Figure size 640x480 with 1 Axes>"
            ],
            "image/png": "[encoded data removed]"
          },
          "metadata": {
            "needs_background": "light"
          }
        }
      ]
    },
    {
      "cell_type": "code",
      "source": [
        "Xmin=x_axes[D.index(min(D))]\n",
        "n = len(data[data['Magnitude']>=Xmin])\n",
        "# נחשב את אלפא \n",
        "alpha = 1 + n * (np.log(data[data['Magnitude']>Xmin]['Magnitude'] / Xmin).sum())**-1\n",
        "\n",
        "print('Answer:')\n",
        "print('Xmin = {}'.format(Xmin))\n",
        "print('alpha = {}'.format(round(alpha,4)))"
      ],
      "metadata": {
        "colab": {
          "base_uri": "https://localhost:8080/"
        },
        "id": "ea_tB7umH-ue",
        "outputId": "1ab82b61-884d-41c0-8794-213f1747a831"
      },
      "execution_count": 72,
      "outputs": [
        {
          "output_type": "stream",
          "name": "stdout",
          "text": [
            "Answer:\n",
            "Xmin = 2.7\n",
            "alpha = 3.5856\n"
          ]
        }
      ]
    },
    {
      "cell_type": "markdown",
      "source": [
        "### Tests of Estimates for the Lower Bound"
      ],
      "metadata": {
        "id": "p_IOP2Xl6aD9"
      }
    },
    {
      "cell_type": "markdown",
      "source": [
        "**Goodness of fit**"
      ],
      "metadata": {
        "id": "6Pvt63qR64cF"
      }
    },
    {
      "cell_type": "markdown",
      "source": [
        "קודם נכתוב את הפונקצייה שמקבלת כקלט איקס מינימום ואלפא ומחזירה ערך מתוך התפלגות \n",
        "חוק חזקה\n",
        "\n",
        "על ידי טרנספורמציה על משתנה יוניפורמי \n",
        "\n",
        "\n"
      ],
      "metadata": {
        "id": "P_SUOIr2Sv_5"
      }
    },
    {
      "cell_type": "code",
      "source": [
        "p_law = lambda Xmin, alpha: Xmin * (1-np.random.uniform(0,1,1)[0])**(1/(1-alpha))"
      ],
      "metadata": {
        "id": "4uduhE9TdvTD"
      },
      "execution_count": 73,
      "outputs": []
    },
    {
      "cell_type": "markdown",
      "source": [
        "נכתוב פונקציה שיוצרת דאטה סינטטי ומקבלת כקלט כמות התצפיות שיש לייצר מתוך התפלגות חוק חזקה\n",
        "\n",
        "  שכתבנו מקודם p_law()  הפונקציה משתמשת בפונקציה"
      ],
      "metadata": {
        "id": "vjUOmfMATxMn"
      }
    },
    {
      "cell_type": "code",
      "source": [
        "def create_sintetic_data(size):\n",
        "  distribution = []\n",
        "  for i in range(size):\n",
        "    p = round(p_law(Xmin, alpha),1) \n",
        "    distribution.append(p)\n",
        "\n",
        "  return distribution"
      ],
      "metadata": {
        "id": "2t8w0nEIfmmX"
      },
      "execution_count": 24,
      "outputs": []
    },
    {
      "cell_type": "markdown",
      "source": [
        "ניצור 100 דאטאסטים בגודל של 5000 תצפיות כל אחד מתוך התפלגות חוק חזקה"
      ],
      "metadata": {
        "id": "EU0drb53Upv9"
      }
    },
    {
      "cell_type": "code",
      "source": [
        "sintetic_data_catalog = [] # 100 power-law distributed datasets of 5000 observations each\n",
        "\n",
        "for i in range(100):\n",
        "  tmp = create_sintetic_data(5000)\n",
        "  sintetic_data_catalog.append(tmp)"
      ],
      "metadata": {
        "id": "ZbSCUe-Yfm61"
      },
      "execution_count": 74,
      "outputs": []
    },
    {
      "cell_type": "markdown",
      "source": [
        "נעבור איטרטיבי על כל דאטאסט בקטלוג של דאטאסטים הסינטטים שיצרנו\n",
        "\n",
        "נחשב לכל אחד את הפונקציית צפיפות המצטברת \n",
        "\n",
        "נחשב לכל אחד את הפולינום שמתאר את הדאטה בצורה הכי טובה וממעזר את ריבועי השגיאות \n",
        "\n",
        "בין דאטה לבין המודל\n",
        "\n",
        "בשיטה של \n",
        "\n",
        "non-linear least squares\n",
        "\n",
        "נחשב את הערך של ציון קולמוגורוב סמירנוב ושנמור אותו בצד\n",
        "\n",
        "\n",
        "\n",
        "\n",
        "**:קטע מתוך המאמר שצויין מקודם**"
      ],
      "metadata": {
        "id": "Xki6wf1aVEsI"
      }
    },
    {
      "cell_type": "markdown",
      "source": [
        "![Screenshot - 07_01.png](data:image/png;base64,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)"
      ],
      "metadata": {
        "id": "FN8iDLO3XN7M"
      }
    },
    {
      "cell_type": "code",
      "source": [
        "KS_array = []\n",
        "\n",
        "for i in range(len(sintetic_data_catalog)):\n",
        "\n",
        "    t = pd.DataFrame(sintetic_data_catalog[i], columns=['magnitude'])\n",
        "    tmp = pd.DataFrame(t['magnitude'].value_counts().reset_index().rename(columns={\"index\": \"Magnitude\", \"magnitude\": \"Freq\"})).sort_values('Magnitude')\n",
        "    tmp['CDF'] = tmp['Freq'].cumsum() / tmp['Freq'].sum()\n",
        "\n",
        "    X = tmp['Magnitude']\n",
        "    y = tmp['Freq']\n",
        "    lnX = np.log(X)\n",
        "    lnY = np.log(y)\n",
        "    b, lna = np.polyfit(lnX, lnY, 1) # Minimizes the squared error\n",
        "    a = np.exp(lna)\n",
        "    # print('power={} sigma={}'.format(b,a))\n",
        "\n",
        "    fx = lambda x: a * x**b\n",
        "\n",
        "    tmp['Model'] = fx(tmp['Magnitude'])\n",
        "    tmp['CDF_model'] = tmp['Model'].cumsum() / tmp['Model'].sum()\n",
        "    tmp['delta'] = abs(tmp['CDF'] - tmp['CDF_model'])\n",
        "    KS = tmp['delta'].max()\n",
        "    KS_array.append(KS)"
      ],
      "metadata": {
        "id": "Nq8ORwrTXwGn"
      },
      "execution_count": 75,
      "outputs": []
    },
    {
      "cell_type": "markdown",
      "source": [
        "נראה מה אחוז מתוך 100 ציוני קולמוגורוב-סמירנוב ששמרנו בצד \n",
        "קטנים יותר מהערך של קולמוגורוב-סמירנוב שמצאנו בסעיף הקודם \n",
        "כשמצאנו איקס מינימום שממעזר את את הפונקציה "
      ],
      "metadata": {
        "id": "1TEPU_aLWF7T"
      }
    },
    {
      "cell_type": "code",
      "source": [
        "Dn = min(D)\n",
        "def find_pvalue():\n",
        "  counter = 0\n",
        "  for i in range(len(KS_array)):\n",
        "    if KS_array[i]<Dn:\n",
        "      counter+=1\n",
        "  return counter/len(KS_array)\n",
        "\n",
        "\n",
        "if find_pvalue() == 0:\n",
        "  print('There is no KSi smaller than Dn={}'.format(Dn))\n",
        "print('p-value = {}'.format(find_pvalue()))"
      ],
      "metadata": {
        "id": "aORT1C9rXVjC",
        "colab": {
          "base_uri": "https://localhost:8080/"
        },
        "outputId": "a097ea73-bcb0-4227-af62-3f97899c97f7"
      },
      "execution_count": 77,
      "outputs": [
        {
          "output_type": "stream",
          "name": "stdout",
          "text": [
            "There is no KSi smaller than Dn=0.036532861130504024\n",
            "p-value = 0.0\n"
          ]
        }
      ]
    },
    {
      "cell_type": "markdown",
      "source": [
        "מתוך כל הדאטאסטים הסינטטים שהגרלנו אין אחד שערך  \n",
        "\n",
        "שלו KSi ה\n",
        "\n",
        "Dn קטן מהערך של ה\n",
        "\n",
        "שמצאנו בסעיף 3\n",
        "\n",
        "\n",
        "כלומר ההשארה שהדאטה שלנו מתפלגת לפי חוק חזקה היא לא קונסיסטנטית \n",
        "\n",
        "והערך של \n",
        "\n",
        "p-value ה\n",
        "\n",
        "מאוד נמוך מעיד לכך"
      ],
      "metadata": {
        "id": "EOX6TKl3cYtA"
      }
    }
  ]
}